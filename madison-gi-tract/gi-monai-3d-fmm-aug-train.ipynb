{
 "cells": [
  {
   "cell_type": "code",
   "execution_count": null,
   "metadata": {
    "_cell_guid": "b1076dfc-b9ad-4769-8c92-a6c4dae69d19",
    "_uuid": "8f2839f25d086af736a60e9eeb907d3b93b6e0e5",
    "execution": {
     "iopub.execute_input": "2022-07-08T14:26:02.104909Z",
     "iopub.status.busy": "2022-07-08T14:26:02.104201Z",
     "iopub.status.idle": "2022-07-08T14:26:16.243972Z",
     "shell.execute_reply": "2022-07-08T14:26:16.242534Z",
     "shell.execute_reply.started": "2022-07-08T14:26:02.10478Z"
    }
   },
   "outputs": [],
   "source": [
    "#!pip install ../input/monaiandeinops/einops-0.4.1-py3-none-any.whl ../input/monaiandeinops/monai-0.9.0-202206131636-py3-none-any.whl"
   ]
  },
  {
   "cell_type": "code",
   "execution_count": null,
   "metadata": {},
   "outputs": [],
   "source": [
    "#import nibabel"
   ]
  },
  {
   "cell_type": "code",
   "execution_count": 1,
   "metadata": {
    "execution": {
     "iopub.execute_input": "2022-07-08T14:26:16.246593Z",
     "iopub.status.busy": "2022-07-08T14:26:16.246162Z",
     "iopub.status.idle": "2022-07-08T14:26:20.250974Z",
     "shell.execute_reply": "2022-07-08T14:26:20.25007Z",
     "shell.execute_reply.started": "2022-07-08T14:26:16.246532Z"
    }
   },
   "outputs": [
    {
     "name": "stdout",
     "output_type": "stream",
     "text": [
      "cuda\n"
     ]
    }
   ],
   "source": [
    "import os, glob\n",
    "import pandas as pd\n",
    "import matplotlib.pyplot as plt\n",
    "\n",
    "from mpl_toolkits.mplot3d import Axes3D\n",
    "import numpy as np\n",
    "import torch\n",
    "from PIL import Image\n",
    "from einops import rearrange, reduce, repeat\n",
    "\n",
    "from sklearn.model_selection import StratifiedKFold, KFold, StratifiedGroupKFold\n",
    "from matplotlib.patches import Rectangle\n",
    "\n",
    "from pathlib import Path\n",
    "from IPython import display\n",
    "import albumentations as trans\n",
    "from einops import rearrange\n",
    "from tqdm.notebook import tqdm\n",
    "\n",
    "#DATASET_FOLDER = Path(\"../input/uw-madison-gi-tract-image-segmentation\")\n",
    "DATASET_FOLDER = Path(\"/media/SSD/gi-tract/uw-madison-gi-tract-image-segmentation\")\n",
    "\n",
    "TRAIN_FOLDER = DATASET_FOLDER / \"train\"\n",
    "\n",
    "WORKING_FOLDER = Path(\"./\")\n",
    "#MODEL_FOLDER = WORKING_FOLDER/\"models\"\n",
    "MODEL_FOLDER = Path('/media/SSD/gi-tract/uw-madison-gi-tract-image-segmentation/kaggle models')\n",
    "\n",
    "os.makedirs(MODEL_FOLDER, exist_ok=True)\n",
    "\n",
    "device = torch.device(\"cuda\" if torch.cuda.is_available() else \"cpu\")\n",
    "print(device)"
   ]
  },
  {
   "cell_type": "markdown",
   "metadata": {},
   "source": [
    "## Process metadata"
   ]
  },
  {
   "cell_type": "code",
   "execution_count": 2,
   "metadata": {
    "execution": {
     "iopub.execute_input": "2022-07-08T14:26:20.252913Z",
     "iopub.status.busy": "2022-07-08T14:26:20.252041Z",
     "iopub.status.idle": "2022-07-08T14:26:20.820068Z",
     "shell.execute_reply": "2022-07-08T14:26:20.818975Z",
     "shell.execute_reply.started": "2022-07-08T14:26:20.25288Z"
    }
   },
   "outputs": [
    {
     "data": {
      "text/html": [
       "<div>\n",
       "<style scoped>\n",
       "    .dataframe tbody tr th:only-of-type {\n",
       "        vertical-align: middle;\n",
       "    }\n",
       "\n",
       "    .dataframe tbody tr th {\n",
       "        vertical-align: top;\n",
       "    }\n",
       "\n",
       "    .dataframe thead th {\n",
       "        text-align: right;\n",
       "    }\n",
       "</style>\n",
       "<table border=\"1\" class=\"dataframe\">\n",
       "  <thead>\n",
       "    <tr style=\"text-align: right;\">\n",
       "      <th></th>\n",
       "      <th>id</th>\n",
       "      <th>class</th>\n",
       "      <th>segmentation</th>\n",
       "    </tr>\n",
       "  </thead>\n",
       "  <tbody>\n",
       "    <tr>\n",
       "      <th>0</th>\n",
       "      <td>case123_day20_slice_0001</td>\n",
       "      <td>large_bowel</td>\n",
       "      <td>NaN</td>\n",
       "    </tr>\n",
       "    <tr>\n",
       "      <th>1</th>\n",
       "      <td>case123_day20_slice_0001</td>\n",
       "      <td>small_bowel</td>\n",
       "      <td>NaN</td>\n",
       "    </tr>\n",
       "    <tr>\n",
       "      <th>2</th>\n",
       "      <td>case123_day20_slice_0001</td>\n",
       "      <td>stomach</td>\n",
       "      <td>NaN</td>\n",
       "    </tr>\n",
       "    <tr>\n",
       "      <th>3</th>\n",
       "      <td>case123_day20_slice_0002</td>\n",
       "      <td>large_bowel</td>\n",
       "      <td>NaN</td>\n",
       "    </tr>\n",
       "    <tr>\n",
       "      <th>4</th>\n",
       "      <td>case123_day20_slice_0002</td>\n",
       "      <td>small_bowel</td>\n",
       "      <td>NaN</td>\n",
       "    </tr>\n",
       "  </tbody>\n",
       "</table>\n",
       "</div>"
      ],
      "text/plain": [
       "                         id        class segmentation\n",
       "0  case123_day20_slice_0001  large_bowel          NaN\n",
       "1  case123_day20_slice_0001  small_bowel          NaN\n",
       "2  case123_day20_slice_0001      stomach          NaN\n",
       "3  case123_day20_slice_0002  large_bowel          NaN\n",
       "4  case123_day20_slice_0002  small_bowel          NaN"
      ]
     },
     "execution_count": 2,
     "metadata": {},
     "output_type": "execute_result"
    }
   ],
   "source": [
    "df = pd.read_csv(DATASET_FOLDER/\"train.csv\")\n",
    "df.head()"
   ]
  },
  {
   "cell_type": "code",
   "execution_count": 3,
   "metadata": {
    "execution": {
     "iopub.execute_input": "2022-07-08T14:26:20.823653Z",
     "iopub.status.busy": "2022-07-08T14:26:20.823057Z",
     "iopub.status.idle": "2022-07-08T14:26:20.971469Z",
     "shell.execute_reply": "2022-07-08T14:26:20.970484Z",
     "shell.execute_reply.started": "2022-07-08T14:26:20.823604Z"
    }
   },
   "outputs": [],
   "source": [
    "pivoted = df.pivot(index=\"id\", columns=\"class\", values=\"segmentation\")\n",
    "#Use the pivoted data going forward\n",
    "df = pivoted\n",
    "df['id'] = df.index"
   ]
  },
  {
   "cell_type": "markdown",
   "metadata": {},
   "source": [
    "### Parse out metadata"
   ]
  },
  {
   "cell_type": "code",
   "execution_count": 4,
   "metadata": {
    "execution": {
     "iopub.execute_input": "2022-07-08T14:26:20.973049Z",
     "iopub.status.busy": "2022-07-08T14:26:20.972727Z",
     "iopub.status.idle": "2022-07-08T14:26:21.197164Z",
     "shell.execute_reply": "2022-07-08T14:26:21.196Z",
     "shell.execute_reply.started": "2022-07-08T14:26:20.973014Z"
    }
   },
   "outputs": [
    {
     "data": {
      "text/html": [
       "<div>\n",
       "<style scoped>\n",
       "    .dataframe tbody tr th:only-of-type {\n",
       "        vertical-align: middle;\n",
       "    }\n",
       "\n",
       "    .dataframe tbody tr th {\n",
       "        vertical-align: top;\n",
       "    }\n",
       "\n",
       "    .dataframe thead th {\n",
       "        text-align: right;\n",
       "    }\n",
       "</style>\n",
       "<table border=\"1\" class=\"dataframe\">\n",
       "  <thead>\n",
       "    <tr style=\"text-align: right;\">\n",
       "      <th>class</th>\n",
       "      <th>large_bowel</th>\n",
       "      <th>small_bowel</th>\n",
       "      <th>stomach</th>\n",
       "      <th>id</th>\n",
       "      <th>case_id_str</th>\n",
       "      <th>case_id</th>\n",
       "      <th>day_num_str</th>\n",
       "      <th>day_num</th>\n",
       "      <th>slice_id</th>\n",
       "      <th>slice_num</th>\n",
       "      <th>match</th>\n",
       "    </tr>\n",
       "    <tr>\n",
       "      <th>id</th>\n",
       "      <th></th>\n",
       "      <th></th>\n",
       "      <th></th>\n",
       "      <th></th>\n",
       "      <th></th>\n",
       "      <th></th>\n",
       "      <th></th>\n",
       "      <th></th>\n",
       "      <th></th>\n",
       "      <th></th>\n",
       "      <th></th>\n",
       "    </tr>\n",
       "  </thead>\n",
       "  <tbody>\n",
       "    <tr>\n",
       "      <th>case101_day20_slice_0001</th>\n",
       "      <td>NaN</td>\n",
       "      <td>NaN</td>\n",
       "      <td>NaN</td>\n",
       "      <td>case101_day20_slice_0001</td>\n",
       "      <td>case101</td>\n",
       "      <td>101</td>\n",
       "      <td>day20</td>\n",
       "      <td>20</td>\n",
       "      <td>slice_0001</td>\n",
       "      <td>1</td>\n",
       "      <td>case101/case101_day20/scans/slice_0001</td>\n",
       "    </tr>\n",
       "    <tr>\n",
       "      <th>case101_day20_slice_0002</th>\n",
       "      <td>NaN</td>\n",
       "      <td>NaN</td>\n",
       "      <td>NaN</td>\n",
       "      <td>case101_day20_slice_0002</td>\n",
       "      <td>case101</td>\n",
       "      <td>101</td>\n",
       "      <td>day20</td>\n",
       "      <td>20</td>\n",
       "      <td>slice_0002</td>\n",
       "      <td>2</td>\n",
       "      <td>case101/case101_day20/scans/slice_0002</td>\n",
       "    </tr>\n",
       "    <tr>\n",
       "      <th>case101_day20_slice_0003</th>\n",
       "      <td>NaN</td>\n",
       "      <td>NaN</td>\n",
       "      <td>NaN</td>\n",
       "      <td>case101_day20_slice_0003</td>\n",
       "      <td>case101</td>\n",
       "      <td>101</td>\n",
       "      <td>day20</td>\n",
       "      <td>20</td>\n",
       "      <td>slice_0003</td>\n",
       "      <td>3</td>\n",
       "      <td>case101/case101_day20/scans/slice_0003</td>\n",
       "    </tr>\n",
       "    <tr>\n",
       "      <th>case101_day20_slice_0004</th>\n",
       "      <td>NaN</td>\n",
       "      <td>NaN</td>\n",
       "      <td>NaN</td>\n",
       "      <td>case101_day20_slice_0004</td>\n",
       "      <td>case101</td>\n",
       "      <td>101</td>\n",
       "      <td>day20</td>\n",
       "      <td>20</td>\n",
       "      <td>slice_0004</td>\n",
       "      <td>4</td>\n",
       "      <td>case101/case101_day20/scans/slice_0004</td>\n",
       "    </tr>\n",
       "    <tr>\n",
       "      <th>case101_day20_slice_0005</th>\n",
       "      <td>NaN</td>\n",
       "      <td>NaN</td>\n",
       "      <td>NaN</td>\n",
       "      <td>case101_day20_slice_0005</td>\n",
       "      <td>case101</td>\n",
       "      <td>101</td>\n",
       "      <td>day20</td>\n",
       "      <td>20</td>\n",
       "      <td>slice_0005</td>\n",
       "      <td>5</td>\n",
       "      <td>case101/case101_day20/scans/slice_0005</td>\n",
       "    </tr>\n",
       "  </tbody>\n",
       "</table>\n",
       "</div>"
      ],
      "text/plain": [
       "class                    large_bowel small_bowel stomach  \\\n",
       "id                                                         \n",
       "case101_day20_slice_0001         NaN         NaN     NaN   \n",
       "case101_day20_slice_0002         NaN         NaN     NaN   \n",
       "case101_day20_slice_0003         NaN         NaN     NaN   \n",
       "case101_day20_slice_0004         NaN         NaN     NaN   \n",
       "case101_day20_slice_0005         NaN         NaN     NaN   \n",
       "\n",
       "class                                           id case_id_str  case_id  \\\n",
       "id                                                                        \n",
       "case101_day20_slice_0001  case101_day20_slice_0001     case101      101   \n",
       "case101_day20_slice_0002  case101_day20_slice_0002     case101      101   \n",
       "case101_day20_slice_0003  case101_day20_slice_0003     case101      101   \n",
       "case101_day20_slice_0004  case101_day20_slice_0004     case101      101   \n",
       "case101_day20_slice_0005  case101_day20_slice_0005     case101      101   \n",
       "\n",
       "class                    day_num_str  day_num    slice_id  slice_num  \\\n",
       "id                                                                     \n",
       "case101_day20_slice_0001       day20       20  slice_0001          1   \n",
       "case101_day20_slice_0002       day20       20  slice_0002          2   \n",
       "case101_day20_slice_0003       day20       20  slice_0003          3   \n",
       "case101_day20_slice_0004       day20       20  slice_0004          4   \n",
       "case101_day20_slice_0005       day20       20  slice_0005          5   \n",
       "\n",
       "class                                                      match  \n",
       "id                                                                \n",
       "case101_day20_slice_0001  case101/case101_day20/scans/slice_0001  \n",
       "case101_day20_slice_0002  case101/case101_day20/scans/slice_0002  \n",
       "case101_day20_slice_0003  case101/case101_day20/scans/slice_0003  \n",
       "case101_day20_slice_0004  case101/case101_day20/scans/slice_0004  \n",
       "case101_day20_slice_0005  case101/case101_day20/scans/slice_0005  "
      ]
     },
     "execution_count": 4,
     "metadata": {},
     "output_type": "execute_result"
    }
   ],
   "source": [
    "#Get Case-ID as columns (str and int)\n",
    "df[\"case_id_str\"] = df[\"id\"].apply(lambda x: x.split(\"_\", 2)[0])\n",
    "df[\"case_id\"] = df[\"case_id_str\"].apply(lambda x: int(x[4::]))\n",
    "\n",
    "#Get Day as columns (str and int)\n",
    "df[\"day_num_str\"] = df[\"id\"].apply(lambda x: x.split(\"_\", 2)[1])\n",
    "df[\"day_num\"] = df[\"day_num_str\"].apply(lambda x: int(x[3::]))\n",
    "\n",
    "#Get Slice Identifier as columns (str and int)\n",
    "df[\"slice_id\"] = df[\"id\"].apply(lambda x: x.split(\"_\", 2)[2])\n",
    "df[\"slice_num\"] = df[\"slice_id\"].apply(lambda x: int(x[6::]))\n",
    "\n",
    "# Create the path to get to the file\n",
    "df['match'] = df.case_id_str + '/' + df.case_id_str + '_' + df.day_num_str + '/scans/' + df.slice_id\n",
    "df.head()"
   ]
  },
  {
   "cell_type": "markdown",
   "metadata": {},
   "source": [
    "### Get paths"
   ]
  },
  {
   "cell_type": "code",
   "execution_count": 5,
   "metadata": {
    "execution": {
     "iopub.execute_input": "2022-07-08T14:26:21.200877Z",
     "iopub.status.busy": "2022-07-08T14:26:21.200478Z",
     "iopub.status.idle": "2022-07-08T14:26:24.475528Z",
     "shell.execute_reply": "2022-07-08T14:26:24.474517Z",
     "shell.execute_reply.started": "2022-07-08T14:26:21.200847Z"
    }
   },
   "outputs": [
    {
     "name": "stdout",
     "output_type": "stream",
     "text": [
      "images: 38496\n",
      "metadata: 38496\n"
     ]
    },
    {
     "data": {
      "text/html": [
       "<div>\n",
       "<style scoped>\n",
       "    .dataframe tbody tr th:only-of-type {\n",
       "        vertical-align: middle;\n",
       "    }\n",
       "\n",
       "    .dataframe tbody tr th {\n",
       "        vertical-align: top;\n",
       "    }\n",
       "\n",
       "    .dataframe thead th {\n",
       "        text-align: right;\n",
       "    }\n",
       "</style>\n",
       "<table border=\"1\" class=\"dataframe\">\n",
       "  <thead>\n",
       "    <tr style=\"text-align: right;\">\n",
       "      <th></th>\n",
       "      <th>subpath</th>\n",
       "    </tr>\n",
       "  </thead>\n",
       "  <tbody>\n",
       "    <tr>\n",
       "      <th>0</th>\n",
       "      <td>case24/case24_day25/scans/slice_0046_266_266_1...</td>\n",
       "    </tr>\n",
       "    <tr>\n",
       "      <th>1</th>\n",
       "      <td>case24/case24_day25/scans/slice_0099_266_266_1...</td>\n",
       "    </tr>\n",
       "    <tr>\n",
       "      <th>2</th>\n",
       "      <td>case24/case24_day25/scans/slice_0013_266_266_1...</td>\n",
       "    </tr>\n",
       "    <tr>\n",
       "      <th>3</th>\n",
       "      <td>case24/case24_day25/scans/slice_0064_266_266_1...</td>\n",
       "    </tr>\n",
       "    <tr>\n",
       "      <th>4</th>\n",
       "      <td>case24/case24_day25/scans/slice_0090_266_266_1...</td>\n",
       "    </tr>\n",
       "  </tbody>\n",
       "</table>\n",
       "</div>"
      ],
      "text/plain": [
       "                                             subpath\n",
       "0  case24/case24_day25/scans/slice_0046_266_266_1...\n",
       "1  case24/case24_day25/scans/slice_0099_266_266_1...\n",
       "2  case24/case24_day25/scans/slice_0013_266_266_1...\n",
       "3  case24/case24_day25/scans/slice_0064_266_266_1...\n",
       "4  case24/case24_day25/scans/slice_0090_266_266_1..."
      ]
     },
     "execution_count": 5,
     "metadata": {},
     "output_type": "execute_result"
    }
   ],
   "source": [
    "all_imgs = glob.glob(os.path.join(str(DATASET_FOLDER), \"train\", \"case*\", \"case*_day*\", \"scans\", \"*.png\"))\n",
    "all_imgs = [p.replace(str(DATASET_FOLDER)+'/train/', \"\") for p in all_imgs]\n",
    "\n",
    "#check that they match in count\n",
    "print(f\"images: {len(all_imgs)}\")\n",
    "print(f\"metadata: {len(df['id'].unique())}\")\n",
    "file_df = pd.DataFrame(all_imgs)\n",
    "file_df.columns = [\"subpath\"]\n",
    "file_df.head()"
   ]
  },
  {
   "cell_type": "markdown",
   "metadata": {},
   "source": [
    "### Get image metadata from file name"
   ]
  },
  {
   "cell_type": "code",
   "execution_count": 6,
   "metadata": {
    "execution": {
     "iopub.execute_input": "2022-07-08T14:26:24.4773Z",
     "iopub.status.busy": "2022-07-08T14:26:24.476883Z",
     "iopub.status.idle": "2022-07-08T14:26:24.745102Z",
     "shell.execute_reply": "2022-07-08T14:26:24.744093Z",
     "shell.execute_reply.started": "2022-07-08T14:26:24.47726Z"
    }
   },
   "outputs": [
    {
     "data": {
      "text/html": [
       "<div>\n",
       "<style scoped>\n",
       "    .dataframe tbody tr th:only-of-type {\n",
       "        vertical-align: middle;\n",
       "    }\n",
       "\n",
       "    .dataframe tbody tr th {\n",
       "        vertical-align: top;\n",
       "    }\n",
       "\n",
       "    .dataframe thead th {\n",
       "        text-align: right;\n",
       "    }\n",
       "</style>\n",
       "<table border=\"1\" class=\"dataframe\">\n",
       "  <thead>\n",
       "    <tr style=\"text-align: right;\">\n",
       "      <th></th>\n",
       "      <th>subpath</th>\n",
       "      <th>filename</th>\n",
       "      <th>match</th>\n",
       "      <th>im_height</th>\n",
       "      <th>im_width</th>\n",
       "      <th>im_pixel_height</th>\n",
       "      <th>im_pixel_width</th>\n",
       "      <th>slice_thickness</th>\n",
       "    </tr>\n",
       "  </thead>\n",
       "  <tbody>\n",
       "    <tr>\n",
       "      <th>0</th>\n",
       "      <td>case24/case24_day25/scans/slice_0046_266_266_1...</td>\n",
       "      <td>slice_0046_266_266_1.50_1.50.png</td>\n",
       "      <td>case24/case24_day25/scans/slice_0046</td>\n",
       "      <td>266</td>\n",
       "      <td>266</td>\n",
       "      <td>1.5</td>\n",
       "      <td>1.5</td>\n",
       "      <td>3.0</td>\n",
       "    </tr>\n",
       "    <tr>\n",
       "      <th>1</th>\n",
       "      <td>case24/case24_day25/scans/slice_0099_266_266_1...</td>\n",
       "      <td>slice_0099_266_266_1.50_1.50.png</td>\n",
       "      <td>case24/case24_day25/scans/slice_0099</td>\n",
       "      <td>266</td>\n",
       "      <td>266</td>\n",
       "      <td>1.5</td>\n",
       "      <td>1.5</td>\n",
       "      <td>3.0</td>\n",
       "    </tr>\n",
       "    <tr>\n",
       "      <th>2</th>\n",
       "      <td>case24/case24_day25/scans/slice_0013_266_266_1...</td>\n",
       "      <td>slice_0013_266_266_1.50_1.50.png</td>\n",
       "      <td>case24/case24_day25/scans/slice_0013</td>\n",
       "      <td>266</td>\n",
       "      <td>266</td>\n",
       "      <td>1.5</td>\n",
       "      <td>1.5</td>\n",
       "      <td>3.0</td>\n",
       "    </tr>\n",
       "    <tr>\n",
       "      <th>3</th>\n",
       "      <td>case24/case24_day25/scans/slice_0064_266_266_1...</td>\n",
       "      <td>slice_0064_266_266_1.50_1.50.png</td>\n",
       "      <td>case24/case24_day25/scans/slice_0064</td>\n",
       "      <td>266</td>\n",
       "      <td>266</td>\n",
       "      <td>1.5</td>\n",
       "      <td>1.5</td>\n",
       "      <td>3.0</td>\n",
       "    </tr>\n",
       "    <tr>\n",
       "      <th>4</th>\n",
       "      <td>case24/case24_day25/scans/slice_0090_266_266_1...</td>\n",
       "      <td>slice_0090_266_266_1.50_1.50.png</td>\n",
       "      <td>case24/case24_day25/scans/slice_0090</td>\n",
       "      <td>266</td>\n",
       "      <td>266</td>\n",
       "      <td>1.5</td>\n",
       "      <td>1.5</td>\n",
       "      <td>3.0</td>\n",
       "    </tr>\n",
       "  </tbody>\n",
       "</table>\n",
       "</div>"
      ],
      "text/plain": [
       "                                             subpath  \\\n",
       "0  case24/case24_day25/scans/slice_0046_266_266_1...   \n",
       "1  case24/case24_day25/scans/slice_0099_266_266_1...   \n",
       "2  case24/case24_day25/scans/slice_0013_266_266_1...   \n",
       "3  case24/case24_day25/scans/slice_0064_266_266_1...   \n",
       "4  case24/case24_day25/scans/slice_0090_266_266_1...   \n",
       "\n",
       "                           filename                                 match  \\\n",
       "0  slice_0046_266_266_1.50_1.50.png  case24/case24_day25/scans/slice_0046   \n",
       "1  slice_0099_266_266_1.50_1.50.png  case24/case24_day25/scans/slice_0099   \n",
       "2  slice_0013_266_266_1.50_1.50.png  case24/case24_day25/scans/slice_0013   \n",
       "3  slice_0064_266_266_1.50_1.50.png  case24/case24_day25/scans/slice_0064   \n",
       "4  slice_0090_266_266_1.50_1.50.png  case24/case24_day25/scans/slice_0090   \n",
       "\n",
       "   im_height  im_width  im_pixel_height  im_pixel_width  slice_thickness  \n",
       "0        266       266              1.5             1.5              3.0  \n",
       "1        266       266              1.5             1.5              3.0  \n",
       "2        266       266              1.5             1.5              3.0  \n",
       "3        266       266              1.5             1.5              3.0  \n",
       "4        266       266              1.5             1.5              3.0  "
      ]
     },
     "execution_count": 6,
     "metadata": {},
     "output_type": "execute_result"
    }
   ],
   "source": [
    "def trunc_at(s, n=3):\n",
    "    \"Returns s truncated at the n'th (3rd by default) occurrence of the delimiter, d.\"\n",
    "    return '_'.join(s.split('_', n)[:n])\n",
    "file_df['filename'] = file_df[\"subpath\"].apply(lambda x: x.split(\"/\")[-1])\n",
    "file_df[\"match\"] = file_df[\"subpath\"].apply(trunc_at)\n",
    "#Get image slice height in pixels\n",
    "file_df[\"im_height\"] = file_df[\"filename\"].apply(lambda x: int(x.split(\"_\", 5)[2]))\n",
    "\n",
    "#Get image slice width in pixels\n",
    "file_df[\"im_width\"] = file_df[\"filename\"].apply(lambda x: int(x.split(\"_\", 5)[3]))\n",
    "\n",
    "#Get image pixel height in mm\n",
    "file_df[\"im_pixel_height\"] = file_df[\"filename\"].apply(lambda x: float(x.split(\"_\", 5)[4]))\n",
    "\n",
    "#Get image pixel width in mm\n",
    "file_df[\"im_pixel_width\"] = file_df[\"filename\"].apply(lambda x: float(x.split(\"_\", 5)[5].split(\".png\",1)[0]))\n",
    "\n",
    "#Define physical slice thickness in mm (3.0 mm for all files)\n",
    "file_df[\"slice_thickness\"] = 3.0\n",
    "file_df.head()"
   ]
  },
  {
   "cell_type": "markdown",
   "metadata": {},
   "source": [
    "### Merge dfs"
   ]
  },
  {
   "cell_type": "code",
   "execution_count": 7,
   "metadata": {
    "execution": {
     "iopub.execute_input": "2022-07-08T14:26:24.747225Z",
     "iopub.status.busy": "2022-07-08T14:26:24.746755Z",
     "iopub.status.idle": "2022-07-08T14:26:24.8279Z",
     "shell.execute_reply": "2022-07-08T14:26:24.826984Z",
     "shell.execute_reply.started": "2022-07-08T14:26:24.74718Z"
    }
   },
   "outputs": [
    {
     "data": {
      "text/html": [
       "<div>\n",
       "<style scoped>\n",
       "    .dataframe tbody tr th:only-of-type {\n",
       "        vertical-align: middle;\n",
       "    }\n",
       "\n",
       "    .dataframe tbody tr th {\n",
       "        vertical-align: top;\n",
       "    }\n",
       "\n",
       "    .dataframe thead th {\n",
       "        text-align: right;\n",
       "    }\n",
       "</style>\n",
       "<table border=\"1\" class=\"dataframe\">\n",
       "  <thead>\n",
       "    <tr style=\"text-align: right;\">\n",
       "      <th>class</th>\n",
       "      <th>large_bowel</th>\n",
       "      <th>small_bowel</th>\n",
       "      <th>stomach</th>\n",
       "      <th>id</th>\n",
       "      <th>case_id_str</th>\n",
       "      <th>case_id</th>\n",
       "      <th>day_num_str</th>\n",
       "      <th>day_num</th>\n",
       "      <th>slice_id</th>\n",
       "      <th>slice_num</th>\n",
       "      <th>match</th>\n",
       "    </tr>\n",
       "    <tr>\n",
       "      <th>id</th>\n",
       "      <th></th>\n",
       "      <th></th>\n",
       "      <th></th>\n",
       "      <th></th>\n",
       "      <th></th>\n",
       "      <th></th>\n",
       "      <th></th>\n",
       "      <th></th>\n",
       "      <th></th>\n",
       "      <th></th>\n",
       "      <th></th>\n",
       "    </tr>\n",
       "  </thead>\n",
       "  <tbody>\n",
       "    <tr>\n",
       "      <th>case101_day20_slice_0001</th>\n",
       "      <td>NaN</td>\n",
       "      <td>NaN</td>\n",
       "      <td>NaN</td>\n",
       "      <td>case101_day20_slice_0001</td>\n",
       "      <td>case101</td>\n",
       "      <td>101</td>\n",
       "      <td>day20</td>\n",
       "      <td>20</td>\n",
       "      <td>slice_0001</td>\n",
       "      <td>1</td>\n",
       "      <td>case101/case101_day20/scans/slice_0001</td>\n",
       "    </tr>\n",
       "    <tr>\n",
       "      <th>case101_day20_slice_0002</th>\n",
       "      <td>NaN</td>\n",
       "      <td>NaN</td>\n",
       "      <td>NaN</td>\n",
       "      <td>case101_day20_slice_0002</td>\n",
       "      <td>case101</td>\n",
       "      <td>101</td>\n",
       "      <td>day20</td>\n",
       "      <td>20</td>\n",
       "      <td>slice_0002</td>\n",
       "      <td>2</td>\n",
       "      <td>case101/case101_day20/scans/slice_0002</td>\n",
       "    </tr>\n",
       "    <tr>\n",
       "      <th>case101_day20_slice_0003</th>\n",
       "      <td>NaN</td>\n",
       "      <td>NaN</td>\n",
       "      <td>NaN</td>\n",
       "      <td>case101_day20_slice_0003</td>\n",
       "      <td>case101</td>\n",
       "      <td>101</td>\n",
       "      <td>day20</td>\n",
       "      <td>20</td>\n",
       "      <td>slice_0003</td>\n",
       "      <td>3</td>\n",
       "      <td>case101/case101_day20/scans/slice_0003</td>\n",
       "    </tr>\n",
       "    <tr>\n",
       "      <th>case101_day20_slice_0004</th>\n",
       "      <td>NaN</td>\n",
       "      <td>NaN</td>\n",
       "      <td>NaN</td>\n",
       "      <td>case101_day20_slice_0004</td>\n",
       "      <td>case101</td>\n",
       "      <td>101</td>\n",
       "      <td>day20</td>\n",
       "      <td>20</td>\n",
       "      <td>slice_0004</td>\n",
       "      <td>4</td>\n",
       "      <td>case101/case101_day20/scans/slice_0004</td>\n",
       "    </tr>\n",
       "    <tr>\n",
       "      <th>case101_day20_slice_0005</th>\n",
       "      <td>NaN</td>\n",
       "      <td>NaN</td>\n",
       "      <td>NaN</td>\n",
       "      <td>case101_day20_slice_0005</td>\n",
       "      <td>case101</td>\n",
       "      <td>101</td>\n",
       "      <td>day20</td>\n",
       "      <td>20</td>\n",
       "      <td>slice_0005</td>\n",
       "      <td>5</td>\n",
       "      <td>case101/case101_day20/scans/slice_0005</td>\n",
       "    </tr>\n",
       "  </tbody>\n",
       "</table>\n",
       "</div>"
      ],
      "text/plain": [
       "class                    large_bowel small_bowel stomach  \\\n",
       "id                                                         \n",
       "case101_day20_slice_0001         NaN         NaN     NaN   \n",
       "case101_day20_slice_0002         NaN         NaN     NaN   \n",
       "case101_day20_slice_0003         NaN         NaN     NaN   \n",
       "case101_day20_slice_0004         NaN         NaN     NaN   \n",
       "case101_day20_slice_0005         NaN         NaN     NaN   \n",
       "\n",
       "class                                           id case_id_str  case_id  \\\n",
       "id                                                                        \n",
       "case101_day20_slice_0001  case101_day20_slice_0001     case101      101   \n",
       "case101_day20_slice_0002  case101_day20_slice_0002     case101      101   \n",
       "case101_day20_slice_0003  case101_day20_slice_0003     case101      101   \n",
       "case101_day20_slice_0004  case101_day20_slice_0004     case101      101   \n",
       "case101_day20_slice_0005  case101_day20_slice_0005     case101      101   \n",
       "\n",
       "class                    day_num_str  day_num    slice_id  slice_num  \\\n",
       "id                                                                     \n",
       "case101_day20_slice_0001       day20       20  slice_0001          1   \n",
       "case101_day20_slice_0002       day20       20  slice_0002          2   \n",
       "case101_day20_slice_0003       day20       20  slice_0003          3   \n",
       "case101_day20_slice_0004       day20       20  slice_0004          4   \n",
       "case101_day20_slice_0005       day20       20  slice_0005          5   \n",
       "\n",
       "class                                                      match  \n",
       "id                                                                \n",
       "case101_day20_slice_0001  case101/case101_day20/scans/slice_0001  \n",
       "case101_day20_slice_0002  case101/case101_day20/scans/slice_0002  \n",
       "case101_day20_slice_0003  case101/case101_day20/scans/slice_0003  \n",
       "case101_day20_slice_0004  case101/case101_day20/scans/slice_0004  \n",
       "case101_day20_slice_0005  case101/case101_day20/scans/slice_0005  "
      ]
     },
     "execution_count": 7,
     "metadata": {},
     "output_type": "execute_result"
    }
   ],
   "source": [
    "#create our final dataframe by joining the two dataframes\n",
    "df2d = pd.merge(df, file_df, on = \"match\", how = \"inner\")\n",
    "df.head()"
   ]
  },
  {
   "cell_type": "markdown",
   "metadata": {},
   "source": [
    "### Add extra columns"
   ]
  },
  {
   "cell_type": "code",
   "execution_count": 8,
   "metadata": {
    "execution": {
     "iopub.execute_input": "2022-07-08T14:26:24.829379Z",
     "iopub.status.busy": "2022-07-08T14:26:24.829037Z",
     "iopub.status.idle": "2022-07-08T14:26:24.903017Z",
     "shell.execute_reply": "2022-07-08T14:26:24.902315Z",
     "shell.execute_reply.started": "2022-07-08T14:26:24.82935Z"
    }
   },
   "outputs": [
    {
     "data": {
      "text/html": [
       "<div>\n",
       "<style scoped>\n",
       "    .dataframe tbody tr th:only-of-type {\n",
       "        vertical-align: middle;\n",
       "    }\n",
       "\n",
       "    .dataframe tbody tr th {\n",
       "        vertical-align: top;\n",
       "    }\n",
       "\n",
       "    .dataframe thead th {\n",
       "        text-align: right;\n",
       "    }\n",
       "</style>\n",
       "<table border=\"1\" class=\"dataframe\">\n",
       "  <thead>\n",
       "    <tr style=\"text-align: right;\">\n",
       "      <th></th>\n",
       "      <th>large_bowel</th>\n",
       "      <th>small_bowel</th>\n",
       "      <th>stomach</th>\n",
       "      <th>id</th>\n",
       "      <th>case_id_str</th>\n",
       "      <th>case_id</th>\n",
       "      <th>day_num_str</th>\n",
       "      <th>day_num</th>\n",
       "      <th>slice_id</th>\n",
       "      <th>slice_num</th>\n",
       "      <th>match</th>\n",
       "      <th>subpath</th>\n",
       "      <th>filename</th>\n",
       "      <th>im_height</th>\n",
       "      <th>im_width</th>\n",
       "      <th>im_pixel_height</th>\n",
       "      <th>im_pixel_width</th>\n",
       "      <th>slice_thickness</th>\n",
       "      <th>segmentations</th>\n",
       "      <th>group</th>\n",
       "    </tr>\n",
       "  </thead>\n",
       "  <tbody>\n",
       "    <tr>\n",
       "      <th>0</th>\n",
       "      <td>NaN</td>\n",
       "      <td>NaN</td>\n",
       "      <td>NaN</td>\n",
       "      <td>case101_day20_slice_0001</td>\n",
       "      <td>case101</td>\n",
       "      <td>101</td>\n",
       "      <td>day20</td>\n",
       "      <td>20</td>\n",
       "      <td>slice_0001</td>\n",
       "      <td>1</td>\n",
       "      <td>case101/case101_day20/scans/slice_0001</td>\n",
       "      <td>case101/case101_day20/scans/slice_0001_266_266...</td>\n",
       "      <td>slice_0001_266_266_1.50_1.50.png</td>\n",
       "      <td>266</td>\n",
       "      <td>266</td>\n",
       "      <td>1.5</td>\n",
       "      <td>1.5</td>\n",
       "      <td>3.0</td>\n",
       "      <td>False</td>\n",
       "      <td>150</td>\n",
       "    </tr>\n",
       "    <tr>\n",
       "      <th>1</th>\n",
       "      <td>NaN</td>\n",
       "      <td>NaN</td>\n",
       "      <td>NaN</td>\n",
       "      <td>case101_day20_slice_0002</td>\n",
       "      <td>case101</td>\n",
       "      <td>101</td>\n",
       "      <td>day20</td>\n",
       "      <td>20</td>\n",
       "      <td>slice_0002</td>\n",
       "      <td>2</td>\n",
       "      <td>case101/case101_day20/scans/slice_0002</td>\n",
       "      <td>case101/case101_day20/scans/slice_0002_266_266...</td>\n",
       "      <td>slice_0002_266_266_1.50_1.50.png</td>\n",
       "      <td>266</td>\n",
       "      <td>266</td>\n",
       "      <td>1.5</td>\n",
       "      <td>1.5</td>\n",
       "      <td>3.0</td>\n",
       "      <td>False</td>\n",
       "      <td>150</td>\n",
       "    </tr>\n",
       "    <tr>\n",
       "      <th>2</th>\n",
       "      <td>NaN</td>\n",
       "      <td>NaN</td>\n",
       "      <td>NaN</td>\n",
       "      <td>case101_day20_slice_0003</td>\n",
       "      <td>case101</td>\n",
       "      <td>101</td>\n",
       "      <td>day20</td>\n",
       "      <td>20</td>\n",
       "      <td>slice_0003</td>\n",
       "      <td>3</td>\n",
       "      <td>case101/case101_day20/scans/slice_0003</td>\n",
       "      <td>case101/case101_day20/scans/slice_0003_266_266...</td>\n",
       "      <td>slice_0003_266_266_1.50_1.50.png</td>\n",
       "      <td>266</td>\n",
       "      <td>266</td>\n",
       "      <td>1.5</td>\n",
       "      <td>1.5</td>\n",
       "      <td>3.0</td>\n",
       "      <td>False</td>\n",
       "      <td>150</td>\n",
       "    </tr>\n",
       "    <tr>\n",
       "      <th>3</th>\n",
       "      <td>NaN</td>\n",
       "      <td>NaN</td>\n",
       "      <td>NaN</td>\n",
       "      <td>case101_day20_slice_0004</td>\n",
       "      <td>case101</td>\n",
       "      <td>101</td>\n",
       "      <td>day20</td>\n",
       "      <td>20</td>\n",
       "      <td>slice_0004</td>\n",
       "      <td>4</td>\n",
       "      <td>case101/case101_day20/scans/slice_0004</td>\n",
       "      <td>case101/case101_day20/scans/slice_0004_266_266...</td>\n",
       "      <td>slice_0004_266_266_1.50_1.50.png</td>\n",
       "      <td>266</td>\n",
       "      <td>266</td>\n",
       "      <td>1.5</td>\n",
       "      <td>1.5</td>\n",
       "      <td>3.0</td>\n",
       "      <td>False</td>\n",
       "      <td>150</td>\n",
       "    </tr>\n",
       "    <tr>\n",
       "      <th>4</th>\n",
       "      <td>NaN</td>\n",
       "      <td>NaN</td>\n",
       "      <td>NaN</td>\n",
       "      <td>case101_day20_slice_0005</td>\n",
       "      <td>case101</td>\n",
       "      <td>101</td>\n",
       "      <td>day20</td>\n",
       "      <td>20</td>\n",
       "      <td>slice_0005</td>\n",
       "      <td>5</td>\n",
       "      <td>case101/case101_day20/scans/slice_0005</td>\n",
       "      <td>case101/case101_day20/scans/slice_0005_266_266...</td>\n",
       "      <td>slice_0005_266_266_1.50_1.50.png</td>\n",
       "      <td>266</td>\n",
       "      <td>266</td>\n",
       "      <td>1.5</td>\n",
       "      <td>1.5</td>\n",
       "      <td>3.0</td>\n",
       "      <td>False</td>\n",
       "      <td>150</td>\n",
       "    </tr>\n",
       "  </tbody>\n",
       "</table>\n",
       "</div>"
      ],
      "text/plain": [
       "  large_bowel small_bowel stomach                        id case_id_str  \\\n",
       "0         NaN         NaN     NaN  case101_day20_slice_0001     case101   \n",
       "1         NaN         NaN     NaN  case101_day20_slice_0002     case101   \n",
       "2         NaN         NaN     NaN  case101_day20_slice_0003     case101   \n",
       "3         NaN         NaN     NaN  case101_day20_slice_0004     case101   \n",
       "4         NaN         NaN     NaN  case101_day20_slice_0005     case101   \n",
       "\n",
       "   case_id day_num_str  day_num    slice_id  slice_num  \\\n",
       "0      101       day20       20  slice_0001          1   \n",
       "1      101       day20       20  slice_0002          2   \n",
       "2      101       day20       20  slice_0003          3   \n",
       "3      101       day20       20  slice_0004          4   \n",
       "4      101       day20       20  slice_0005          5   \n",
       "\n",
       "                                    match  \\\n",
       "0  case101/case101_day20/scans/slice_0001   \n",
       "1  case101/case101_day20/scans/slice_0002   \n",
       "2  case101/case101_day20/scans/slice_0003   \n",
       "3  case101/case101_day20/scans/slice_0004   \n",
       "4  case101/case101_day20/scans/slice_0005   \n",
       "\n",
       "                                             subpath  \\\n",
       "0  case101/case101_day20/scans/slice_0001_266_266...   \n",
       "1  case101/case101_day20/scans/slice_0002_266_266...   \n",
       "2  case101/case101_day20/scans/slice_0003_266_266...   \n",
       "3  case101/case101_day20/scans/slice_0004_266_266...   \n",
       "4  case101/case101_day20/scans/slice_0005_266_266...   \n",
       "\n",
       "                           filename  im_height  im_width  im_pixel_height  \\\n",
       "0  slice_0001_266_266_1.50_1.50.png        266       266              1.5   \n",
       "1  slice_0002_266_266_1.50_1.50.png        266       266              1.5   \n",
       "2  slice_0003_266_266_1.50_1.50.png        266       266              1.5   \n",
       "3  slice_0004_266_266_1.50_1.50.png        266       266              1.5   \n",
       "4  slice_0005_266_266_1.50_1.50.png        266       266              1.5   \n",
       "\n",
       "   im_pixel_width  slice_thickness  segmentations  group  \n",
       "0             1.5              3.0          False    150  \n",
       "1             1.5              3.0          False    150  \n",
       "2             1.5              3.0          False    150  \n",
       "3             1.5              3.0          False    150  \n",
       "4             1.5              3.0          False    150  "
      ]
     },
     "execution_count": 8,
     "metadata": {},
     "output_type": "execute_result"
    }
   ],
   "source": [
    "# Identify images without segmentation\n",
    "#For each row find segmentations for each organ\n",
    "sel1 = ~df2d.large_bowel.isnull()\n",
    "sel2 = ~df2d.small_bowel.isnull()\n",
    "sel3 = ~df2d.stomach.isnull()\n",
    "\n",
    "# select rows with segments\n",
    "sel_segments = sel1 | sel2 | sel3\n",
    "\n",
    "#create a new column reflecting whether segmentations exist\n",
    "df2d['segmentations'] = sel_segments\n",
    "df2d['group'] = df2d.groupby(['case_id', 'day_num']).ngroup()\n",
    "df2d.head()"
   ]
  },
  {
   "cell_type": "markdown",
   "metadata": {},
   "source": [
    "## Train and Validation split"
   ]
  },
  {
   "cell_type": "code",
   "execution_count": 9,
   "metadata": {
    "execution": {
     "iopub.execute_input": "2022-07-08T14:26:24.90607Z",
     "iopub.status.busy": "2022-07-08T14:26:24.905584Z",
     "iopub.status.idle": "2022-07-08T14:26:24.909492Z",
     "shell.execute_reply": "2022-07-08T14:26:24.908837Z",
     "shell.execute_reply.started": "2022-07-08T14:26:24.906036Z"
    }
   },
   "outputs": [],
   "source": [
    "n_folds = 5\n",
    "seed = 42"
   ]
  },
  {
   "cell_type": "code",
   "execution_count": 10,
   "metadata": {
    "execution": {
     "iopub.execute_input": "2022-07-08T14:26:24.91112Z",
     "iopub.status.busy": "2022-07-08T14:26:24.910661Z",
     "iopub.status.idle": "2022-07-08T14:26:25.174805Z",
     "shell.execute_reply": "2022-07-08T14:26:25.173688Z",
     "shell.execute_reply.started": "2022-07-08T14:26:24.91109Z"
    }
   },
   "outputs": [],
   "source": [
    "#We will use n fold cross validation, which will create 5 training sets of 80% of the data\n",
    "# and 5 validation sets of 20% of the data.\n",
    "# We use the group ID to stratify the folds so that cases are not split between training and val sets\n",
    "\n",
    "skf = StratifiedGroupKFold(n_splits=n_folds, shuffle=True, random_state=seed)\n",
    "for fold, (train_idx, val_idx) in enumerate(skf.split(df2d, df2d['segmentations'], groups = df2d[\"group\"])):\n",
    "    df2d.loc[val_idx, 'fold'] = fold\n"
   ]
  },
  {
   "cell_type": "code",
   "execution_count": 11,
   "metadata": {
    "execution": {
     "iopub.execute_input": "2022-07-08T14:26:25.176327Z",
     "iopub.status.busy": "2022-07-08T14:26:25.176Z",
     "iopub.status.idle": "2022-07-08T14:26:25.183679Z",
     "shell.execute_reply": "2022-07-08T14:26:25.18281Z",
     "shell.execute_reply.started": "2022-07-08T14:26:25.176297Z"
    }
   },
   "outputs": [
    {
     "data": {
      "text/plain": [
       "array([0., 1., 2., 3., 4.])"
      ]
     },
     "execution_count": 11,
     "metadata": {},
     "output_type": "execute_result"
    }
   ],
   "source": [
    "np.unique(df2d['fold'])"
   ]
  },
  {
   "cell_type": "markdown",
   "metadata": {},
   "source": [
    "## Utils"
   ]
  },
  {
   "cell_type": "code",
   "execution_count": 12,
   "metadata": {
    "execution": {
     "iopub.execute_input": "2022-07-08T14:26:25.185243Z",
     "iopub.status.busy": "2022-07-08T14:26:25.184925Z",
     "iopub.status.idle": "2022-07-08T14:26:25.197517Z",
     "shell.execute_reply": "2022-07-08T14:26:25.196147Z",
     "shell.execute_reply.started": "2022-07-08T14:26:25.185201Z"
    }
   },
   "outputs": [],
   "source": [
    "# ref: https://www.kaggle.com/paulorzp/run-length-encode-and-decode\n",
    "def rle_decode(mask_rle, shape, color_val=1):\n",
    "    '''\n",
    "    mask_rle: run-length as string formated (start length)\n",
    "    shape: (height,width) of array to return \n",
    "    Returns numpy array, color_val - mask, 0 - background\n",
    "\n",
    "    '''\n",
    "    s = mask_rle.split()\n",
    "    starts, lengths = [np.asarray(x, dtype=int) for x in (s[0:][::2], s[1:][::2])]\n",
    "    starts -= 1\n",
    "    ends = starts + lengths\n",
    "    img = np.zeros((shape[0] * shape[1], shape[2]), dtype=np.float32)\n",
    "\n",
    "    img = torch.zeros(shape[1]*shape[2])\n",
    "    for lo, hi in zip(starts, ends):\n",
    "        img[lo : hi] = color_val\n",
    "    return img.reshape(shape)    \n",
    "\n",
    "\n",
    "# ref.: https://www.kaggle.com/stainsby/fast-tested-rle\n",
    "def rle_encode(img):\n",
    "    '''\n",
    "    img: numpy array, 1 - mask, 0 - background\n",
    "    Returns run length as string formated\n",
    "    '''\n",
    "    pixels = img.flatten()\n",
    "    pixels = np.concatenate([[0], pixels, [0]])\n",
    "    runs = np.where(pixels[1:] != pixels[:-1])[0] + 1\n",
    "    runs[1::2] -= runs[::2]\n",
    "    return ' '.join(str(x) for x in runs)"
   ]
  },
  {
   "cell_type": "markdown",
   "metadata": {},
   "source": [
    "## Generate 3d images"
   ]
  },
  {
   "cell_type": "code",
   "execution_count": 13,
   "metadata": {
    "execution": {
     "iopub.execute_input": "2022-07-08T14:26:25.199818Z",
     "iopub.status.busy": "2022-07-08T14:26:25.19892Z",
     "iopub.status.idle": "2022-07-08T14:26:33.018585Z",
     "shell.execute_reply": "2022-07-08T14:26:33.017358Z",
     "shell.execute_reply.started": "2022-07-08T14:26:25.199774Z"
    }
   },
   "outputs": [],
   "source": [
    "from monai.transforms import LoadImage\n",
    "from monai.data import NibabelWriter\n",
    "\n",
    "def make_mask(shape, lb, sb, st):\n",
    "    mask = np.zeros((4, shape[0], shape[1]))\n",
    "    if isinstance(lb, str):\n",
    "        mask[1,:,:] = rle_decode(lb, [1, shape[0], shape[1]] ,color_val=1)\n",
    "\n",
    "    if isinstance(sb, str):\n",
    "        mask[2,:,:] = rle_decode(sb, [1, shape[0], shape[1]] ,color_val=1)\n",
    "\n",
    "    if isinstance(st, str):\n",
    "        mask[3,:,:] = rle_decode(st, [1, shape[0], shape[1]] ,color_val=1)\n",
    "    # Add background channel\n",
    "    mask[0,:,:] = 1.0*((mask[1,:,:] + mask[2,:,:] + mask[3,:,:]) == 0)\n",
    "    return mask\n",
    "\n",
    "def create_image(df, src, dest, idx, writer, loader):\n",
    "    img_dest = Path(f\"{dest}/img_{idx}.nii.gz\")\n",
    "    mask_dest = Path(f\"{dest}/mask_{idx}.nii.gz\")\n",
    "    if img_dest.exists() and mask_dest.exists():\n",
    "        # Cache images already present\n",
    "        return \n",
    "    slices = df.reset_index()\n",
    "    row = slices.iloc[0]\n",
    "    img = rearrange(loader(src / row['subpath']), 'w h -> h w')\n",
    "    im_spacing = row[\"im_pixel_height\"]\n",
    "    im_affine = np.eye(4)*im_spacing\n",
    "    im_affine[2,2] = 3 # All slice thicknesses are 3\n",
    "    im_affine[3,3] = 1\n",
    "    mask = np.zeros((slices.shape[0], 4, img.shape[0], img.shape[1]))\n",
    "    for j in range(1, slices.shape[0]):\n",
    "        row = slices.iloc[j]\n",
    "        slice_ = rearrange(loader(src / row['subpath']), 'w h -> h w')\n",
    "        img = np.dstack((img, slice_))\n",
    "        mask[j,:,:,:] = make_mask(img.shape, row.large_bowel, row.small_bowel, row.stomach)\n",
    "    \n",
    "    # Write image\n",
    "    writer.set_data_array(img, channel_dim=None)\n",
    "    writer.set_metadata({\n",
    "        \"affine\": im_affine,\n",
    "        \"original_affine\": im_affine,\n",
    "        \"dtype\": np.int16\n",
    "    })\n",
    "    writer.write(\n",
    "        str(img_dest),\n",
    "        verbose=False\n",
    "    )\n",
    "    # Write mask\n",
    "    # Move channel to last dimension\n",
    "    mask = rearrange(mask, 'd c h w -> h w d c')\n",
    "\n",
    "    writer.set_data_array(mask, channel_dim=-1)\n",
    "    writer.set_metadata({\n",
    "        \"affine\": im_affine,\n",
    "        \"original_affine\": im_affine,\n",
    "        \"dtype\": np.int16\n",
    "    })\n",
    "    writer.write(\n",
    "        str(mask_dest),\n",
    "        verbose=False\n",
    "    )"
   ]
  },
  {
   "cell_type": "code",
   "execution_count": 14,
   "metadata": {
    "execution": {
     "iopub.execute_input": "2022-07-08T14:26:33.020398Z",
     "iopub.status.busy": "2022-07-08T14:26:33.02003Z",
     "iopub.status.idle": "2022-07-08T14:26:33.032802Z",
     "shell.execute_reply": "2022-07-08T14:26:33.031476Z",
     "shell.execute_reply.started": "2022-07-08T14:26:33.020368Z"
    }
   },
   "outputs": [
    {
     "name": "stdout",
     "output_type": "stream",
     "text": [
      "12\n"
     ]
    }
   ],
   "source": [
    "import multiprocessing\n",
    "from concurrent.futures import ProcessPoolExecutor, as_completed\n",
    "print(multiprocessing.cpu_count())\n",
    "def create_images(df, src, dest):\n",
    "    writer = NibabelWriter()\n",
    "    loader = LoadImage(image_only=True)\n",
    "    futures = []\n",
    "    with ProcessPoolExecutor(max_workers=multiprocessing.cpu_count()) as pool:\n",
    "        for name, group in df.groupby(['group']):\n",
    "            group = group.sort_values('slice_num', ascending=True)\n",
    "            case  = np.unique(group['case_id'])[0]\n",
    "            day  = np.unique(group['day_num'])[0]\n",
    "            fold = np.unique(group['fold'])[0]\n",
    "            n_slice = group.shape[0]\n",
    "            dest_folder = dest / f\"{int(fold)}/case-{case}_day-{day}\"\n",
    "            dest_folder.mkdir(parents=True, exist_ok=True)\n",
    "            futures.append(\n",
    "                pool.submit(\n",
    "                    create_image, group, src, dest_folder, 0, writer, loader\n",
    "            )\n",
    "        )\n",
    "        pbar = tqdm(total=len(futures))\n",
    "        for _ in as_completed(futures):\n",
    "            pbar.update(1)\n",
    "        pbar.close()\n"
   ]
  },
  {
   "cell_type": "code",
   "execution_count": 15,
   "metadata": {
    "execution": {
     "iopub.execute_input": "2022-07-08T14:29:37.342899Z",
     "iopub.status.busy": "2022-07-08T14:29:37.342519Z",
     "iopub.status.idle": "2022-07-08T14:29:37.384161Z",
     "shell.execute_reply": "2022-07-08T14:29:37.3831Z",
     "shell.execute_reply.started": "2022-07-08T14:29:37.342868Z"
    }
   },
   "outputs": [],
   "source": [
    "DEST = Path('/media/SSD/gi-tract/uw-madison-gi-tract-image-segmentation/images')\n",
    "DEST.mkdir(exist_ok=True)\n",
    "#df2d[df2d['case_id'] == 29][df2d['day_num'] == 13]"
   ]
  },
  {
   "cell_type": "code",
   "execution_count": 16,
   "metadata": {
    "execution": {
     "iopub.execute_input": "2022-07-08T14:26:33.050006Z",
     "iopub.status.busy": "2022-07-08T14:26:33.049293Z",
     "iopub.status.idle": "2022-07-08T14:26:33.05745Z",
     "shell.execute_reply": "2022-07-08T14:26:33.056649Z",
     "shell.execute_reply.started": "2022-07-08T14:26:33.049961Z"
    }
   },
   "outputs": [],
   "source": [
    "#create_images(df2d, TRAIN_FOLDER, DEST)"
   ]
  },
  {
   "cell_type": "markdown",
   "metadata": {},
   "source": [
    "## Monai imports"
   ]
  },
  {
   "cell_type": "code",
   "execution_count": 17,
   "metadata": {
    "execution": {
     "iopub.execute_input": "2022-07-08T14:26:33.059256Z",
     "iopub.status.busy": "2022-07-08T14:26:33.058444Z",
     "iopub.status.idle": "2022-07-08T14:26:33.069692Z",
     "shell.execute_reply": "2022-07-08T14:26:33.068941Z",
     "shell.execute_reply.started": "2022-07-08T14:26:33.059225Z"
    }
   },
   "outputs": [],
   "source": [
    "from monai.transforms import (\n",
    "    Activations,\n",
    "    AsDiscrete,\n",
    "    EnsureChannelFirstd,\n",
    "    Compose,\n",
    "    Resized,\n",
    "    LoadImaged,\n",
    "    RandCropByPosNegLabeld,\n",
    "    ScaleIntensityd,\n",
    "    EnsureTyped,\n",
    "    EnsureType,\n",
    "    ToTensord,\n",
    "    SpatialPadd,\n",
    "    Lambdad,\n",
    "    CastToTyped,\n",
    "    RandAffined,\n",
    "    RandScaleIntensityd,\n",
    "    RandRotated,\n",
    "    RandZoomd,\n",
    "    RandGridDistortiond,\n",
    "    Rand3DElasticd,\n",
    "    RandCoarseDropoutd,\n",
    "    Pad,\n",
    "    MapTransform,\n",
    "    InvertibleTransform,\n",
    "    Randomizable,\n",
    "    ToDeviced,\n",
    "    EnsureTyped,\n",
    "    RandCoarseShuffled,\n",
    "    RandSpatialCropd,\n",
    ")\n",
    "\n",
    "#from monai.transforms import Padd\n",
    "\n",
    "from monai.networks.nets import UNet, AttentionUnet\n",
    "from monai.networks.layers import Norm\n",
    "from monai.metrics import DiceMetric\n",
    "from monai.losses import DiceLoss, DiceCELoss\n",
    "from monai.inferers import sliding_window_inference\n",
    "from monai.data import DataLoader, Dataset, decollate_batch, list_data_collate, CacheDataset, PersistentDataset"
   ]
  },
  {
   "cell_type": "markdown",
   "metadata": {},
   "source": [
    "## Transforms for train and validation"
   ]
  },
  {
   "cell_type": "code",
   "execution_count": null,
   "metadata": {
    "execution": {
     "iopub.execute_input": "2022-07-08T14:26:33.072298Z",
     "iopub.status.busy": "2022-07-08T14:26:33.070698Z",
     "iopub.status.idle": "2022-07-08T14:26:33.083375Z",
     "shell.execute_reply": "2022-07-08T14:26:33.0826Z",
     "shell.execute_reply.started": "2022-07-08T14:26:33.072245Z"
    }
   },
   "outputs": [],
   "source": [
    "\n"
   ]
  },
  {
   "cell_type": "code",
   "execution_count": 18,
   "metadata": {},
   "outputs": [],
   "source": [
    "from typing import Any, Callable, List, Optional, Sequence, Tuple, Union\n",
    "from typing import Any, Callable, Dict, Hashable, List, Mapping, Optional, Sequence, Union\n",
    "from monai.config import IndexSelection, KeysCollection\n",
    "from monai.data.meta_tensor import MetaTensor\n",
    "from monai.utils import (\n",
    "    PytorchPadMode,\n",
    "    ensure_tuple_rep\n",
    "\n",
    ")\n",
    "\n",
    "\n",
    "\n",
    "\n",
    "\n",
    "\n",
    "class SquarePad(Pad):\n",
    "    \"\"\"\n",
    "    Performs padding to the data, making WxH square using max(W,H).\n",
    "\n",
    "    Args:\n",
    "        dim1: The first dimension to pad to a square.\n",
    "        dim2: The second dimension to pad to a square.\n",
    "        mode: available modes for numpy array:{``\"constant\"``, ``\"edge\"``, ``\"linear_ramp\"``, ``\"maximum\"``,\n",
    "            ``\"mean\"``, ``\"median\"``, ``\"minimum\"``, ``\"reflect\"``, ``\"symmetric\"``, ``\"wrap\"``, ``\"empty\"``}\n",
    "            available modes for PyTorch Tensor: {``\"constant\"``, ``\"reflect\"``, ``\"replicate\"``, ``\"circular\"``}.\n",
    "            One of the listed string values or a user supplied function. Defaults to ``\"constant\"``.\n",
    "            See also: https://numpy.org/doc/1.18/reference/generated/numpy.pad.html\n",
    "            https://pytorch.org/docs/stable/generated/torch.nn.functional.pad.html\n",
    "        kwargs: other arguments for the `np.pad` or `torch.pad` function.\n",
    "            note that `np.pad` treats channel dimension as the first dimension.\n",
    "\n",
    "    \"\"\"\n",
    "\n",
    "    def __init__(\n",
    "        self,\n",
    "        #spatial_size: Union[Sequence[int], int],\n",
    "        dim1: int,\n",
    "        dim2: int,\n",
    "        mode: str = PytorchPadMode.CONSTANT,\n",
    "        **kwargs,\n",
    "    ) -> None:\n",
    "        #self.spatial_size = spatial_size\n",
    "        self.dim1 = dim1\n",
    "        self.dim2 = dim2\n",
    "        super().__init__(to_pad=None,mode=mode, **kwargs)\n",
    "\n",
    "\n",
    "    def compute_pad_width(self, spatial_shape: Sequence[int]) -> List[Tuple[int, int]]:\n",
    "        \"\"\"\n",
    "        Square the rectange of dim1 and dim2.\n",
    "\n",
    "        Args:\n",
    "            dim1: first dimension of the square.\n",
    "            dim2: second dimension fo the square.\n",
    "\n",
    "        \"\"\"\n",
    "        \n",
    "            \n",
    "        square_width = max(spatial_shape[self.dim1],spatial_shape[self.dim2])\n",
    "\n",
    "        pad_width = [0]*len(spatial_shape)\n",
    "\n",
    "        p1 = max(0,square_width - spatial_shape[self.dim1])\n",
    "        p2 = max(0,square_width - spatial_shape[self.dim2])\n",
    "\n",
    "        pad_width[self.dim1] = (p1 // 2, p1 - (p1 // 2))\n",
    "        pad_width[self.dim2] = (p2 // 2, p2 - (p2 // 2))\n",
    "\n",
    "        pad_width = []\n",
    "        for i, sp_i in enumerate(spatial_size):\n",
    "            width = max(sp_i - spatial_shape[i], 0)\n",
    "            pad_width.append((width // 2, width - (width // 2)))\n",
    "        \n",
    "        return [(0, 0)] + pad_width"
   ]
  },
  {
   "cell_type": "code",
   "execution_count": 19,
   "metadata": {},
   "outputs": [],
   "source": [
    "class Padd(MapTransform, InvertibleTransform):\n",
    "    \"\"\"\n",
    "    Dictionary-based wrapper of :py:class:`monai.transforms.Pad`.\n",
    "\n",
    "    \"\"\"\n",
    "\n",
    "    backend = Pad.backend\n",
    "\n",
    "\n",
    "    def __init__(\n",
    "        self,\n",
    "        keys: KeysCollection,\n",
    "        padder: Pad,\n",
    "        mode = PytorchPadMode.CONSTANT,\n",
    "        allow_missing_keys: bool = False,\n",
    "    ) -> None:\n",
    "        \"\"\"\n",
    "        Args:\n",
    "            keys: keys of the corresponding items to be transformed.\n",
    "                See also: :py:class:`monai.transforms.compose.MapTransform`\n",
    "            padder: pad transform for the input image.\n",
    "            mode: available modes for numpy array:{``\"constant\"``, ``\"edge\"``, ``\"linear_ramp\"``, ``\"maximum\"``,\n",
    "                ``\"mean\"``, ``\"median\"``, ``\"minimum\"``, ``\"reflect\"``, ``\"symmetric\"``, ``\"wrap\"``, ``\"empty\"``}\n",
    "                available modes for PyTorch Tensor: {``\"constant\"``, ``\"reflect\"``, ``\"replicate\"``, ``\"circular\"``}.\n",
    "                One of the listed string values or a user supplied function. Defaults to ``\"constant\"``.\n",
    "                See also: https://numpy.org/doc/1.18/reference/generated/numpy.pad.html\n",
    "                https://pytorch.org/docs/stable/generated/torch.nn.functional.pad.html\n",
    "                It also can be a sequence of string, each element corresponds to a key in ``keys``.\n",
    "            allow_missing_keys: don't raise exception if key is missing.\n",
    "\n",
    "        \"\"\"\n",
    "        super().__init__(keys, allow_missing_keys)\n",
    "        self.padder = padder\n",
    "        self.mode = ensure_tuple_rep(mode, len(self.keys))\n",
    "\n",
    "\n",
    "\n",
    "    def __call__(self, data: Mapping[Hashable, torch.Tensor]) -> Dict[Hashable, torch.Tensor]:\n",
    "        d = dict(data)\n",
    "        for key, m in self.key_iterator(d, self.mode):\n",
    "            d[key] = self.padder(d[key], mode=m)\n",
    "        return d\n",
    "\n",
    "\n",
    "\n",
    "    def inverse(self, data: Mapping[Hashable, MetaTensor]) -> Dict[Hashable, MetaTensor]:\n",
    "        d = dict(data)\n",
    "        for key in self.key_iterator(d):\n",
    "            d[key] = self.padder.inverse(d[key])\n",
    "        return d"
   ]
  },
  {
   "cell_type": "code",
   "execution_count": 20,
   "metadata": {},
   "outputs": [],
   "source": [
    "class SquarePadd(Padd):\n",
    "    \"\"\"\n",
    "    Dictionary-based wrapper of :py:class:`monai.transforms.SpatialPad`.\n",
    "    Performs padding to the data, symmetric for all sides or all on one side for each dimension.\n",
    "\n",
    "    \"\"\"\n",
    "\n",
    "\n",
    "    def __init__(\n",
    "        self,\n",
    "        keys: KeysCollection,\n",
    "        dim1: int,\n",
    "        dim2: int,\n",
    "        mode = PytorchPadMode.CONSTANT,\n",
    "        allow_missing_keys: bool = False,\n",
    "        **kwargs,\n",
    "    ) -> None:\n",
    "        \"\"\"\n",
    "        Args:\n",
    "            keys: keys of the corresponding items to be transformed.\n",
    "                See also: :py:class:`monai.transforms.compose.MapTransform`\n",
    "            \n",
    "            \n",
    "            \n",
    "            mode: available modes for numpy array:{``\"constant\"``, ``\"edge\"``, ``\"linear_ramp\"``, ``\"maximum\"``,\n",
    "                ``\"mean\"``, ``\"median\"``, ``\"minimum\"``, ``\"reflect\"``, ``\"symmetric\"``, ``\"wrap\"``, ``\"empty\"``}\n",
    "                available modes for PyTorch Tensor: {``\"constant\"``, ``\"reflect\"``, ``\"replicate\"``, ``\"circular\"``}.\n",
    "                One of the listed string values or a user supplied function. Defaults to ``\"constant\"``.\n",
    "                See also: https://numpy.org/doc/1.18/reference/generated/numpy.pad.html\n",
    "                https://pytorch.org/docs/stable/generated/torch.nn.functional.pad.html\n",
    "                It also can be a sequence of string, each element corresponds to a key in ``keys``.\n",
    "            allow_missing_keys: don't raise exception if key is missing.\n",
    "            kwargs: other arguments for the `np.pad` or `torch.pad` function.\n",
    "                note that `np.pad` treats channel dimension as the first dimension.\n",
    "\n",
    "        \"\"\"\n",
    "        padder = SquarePad(dim1,dim2, **kwargs)\n",
    "        super().__init__(keys, padder=padder, mode=mode, allow_missing_keys=allow_missing_keys)"
   ]
  },
  {
   "cell_type": "code",
   "execution_count": 21,
   "metadata": {},
   "outputs": [],
   "source": [
    "#from monai.data.utils import get_random_patch, get_valid_patch_size\n",
    "\n",
    "from monai.transforms.croppad.array import CenterSpatialCrop\n",
    "from monai.config.type_definitions import NdarrayOrTensor\n",
    "\n",
    "from monai.utils import fall_back_tuple\n",
    "\n",
    "from monai.data.utils import get_random_patch, get_valid_patch_size\n",
    "\n",
    "#from monai.config import KeysCollection\n",
    "\n",
    "class RandZCropd(Randomizable, MapTransform, InvertibleTransform):\n",
    "    \"\"\"\n",
    "    Random crops in Z direction only\n",
    "\n",
    "    Args:\n",
    "        keys: keys of the corresponding items to be transformed.\n",
    "            See also: monai.transforms.MapTransform\n",
    "        roi_size: if `random_size` is True, it specifies the minimum crop region.\n",
    "            if `random_size` is False, it specifies the expected ROI size to crop. e.g. [224, 224, 128]\n",
    "            if a dimension of ROI size is bigger than image size, will not crop that dimension of the image.\n",
    "            If its components have non-positive values, the corresponding size of input image will be used.\n",
    "            for example: if the spatial size of input data is [40, 40, 40] and `roi_size=[32, 64, -1]`,\n",
    "            the spatial size of output data will be [32, 40, 40].\n",
    "        max_roi_size: if `random_size` is True and `roi_size` specifies the min crop region size, `max_roi_size`\n",
    "            can specify the max crop region size. if None, defaults to the input image size.\n",
    "            if its components have non-positive values, the corresponding size of input image will be used.\n",
    "        random_center: crop at random position as center or the image center.\n",
    "        random_size: crop with random size or specific size ROI.\n",
    "            if True, the actual size is sampled from:\n",
    "            `randint(roi_scale * image spatial size, max_roi_scale * image spatial size + 1)`.\n",
    "        allow_missing_keys: don't raise exception if key is missing.\n",
    "    \"\"\"\n",
    "\n",
    "    backend = CenterSpatialCrop.backend\n",
    "\n",
    "    def __init__(\n",
    "        self,\n",
    "        keys: KeysCollection,\n",
    "        roi_size: Union[Sequence[int], int],\n",
    "        max_roi_size: Optional[Union[Sequence[int], int]] = None,\n",
    "        random_center: bool = True,\n",
    "        random_size: bool = True,\n",
    "        allow_missing_keys: bool = False,\n",
    "    ) -> None:\n",
    "        MapTransform.__init__(self, keys, allow_missing_keys)\n",
    "        self.roi_size = roi_size\n",
    "        self.max_roi_size = max_roi_size\n",
    "        self.random_center = random_center\n",
    "        self.random_size = random_size\n",
    "        self._slices: Optional[Tuple[slice, ...]] = None\n",
    "        self._size: Optional[Sequence[int]] = None\n",
    "\n",
    "\n",
    "    def randomize(self, img_size: Sequence[int]) -> None:\n",
    "        self._size = fall_back_tuple(self.roi_size, img_size)\n",
    "        if self.random_size:\n",
    "            max_size = img_size if self.max_roi_size is None else fall_back_tuple(self.max_roi_size, img_size)\n",
    "            if any(i > j for i, j in zip(self._size, max_size)):\n",
    "                raise ValueError(f\"min ROI size: {self._size} is bigger than max ROI size: {max_size}.\")\n",
    "            self._size = [self.R.randint(low=self._size[i], high=max_size[i] + 1) for i in range(len(img_size))]\n",
    "        if self.random_center:\n",
    "            valid_size = get_valid_patch_size(img_size, self._size)\n",
    "            p = get_random_patch(img_size, valid_size, self.R)\n",
    "            #print(p)\n",
    "            self._slices = (slice(None),) + p\n",
    "\n",
    "\n",
    "\n",
    "    def __call__(self, data: Mapping[Hashable, NdarrayOrTensor]) -> Dict[Hashable, NdarrayOrTensor]:\n",
    "        d = dict(data)\n",
    "        first_key: Union[Hashable, List] = self.first_key(d)\n",
    "        if first_key == []:\n",
    "            return d\n",
    "\n",
    "        self.randomize(d[first_key].shape[1:])  # type: ignore\n",
    "        if self._size is None:\n",
    "            raise RuntimeError(\"self._size not specified.\")\n",
    "        for key in self.key_iterator(d):\n",
    "            if self.random_center:\n",
    "                self.push_transform(d, key, {\"slices\": [(i.start, i.stop) for i in self._slices[1:]]})  # type: ignore\n",
    "                d[key] = d[key][self._slices]\n",
    "            else:\n",
    "                self.push_transform(d, key)\n",
    "                cropper = CenterSpatialCrop(self._size)\n",
    "                d[key] = cropper(d[key])\n",
    "        return d\n",
    "\n",
    "\n",
    "\n",
    "    def inverse(self, data: Mapping[Hashable, NdarrayOrTensor]) -> Dict[Hashable, NdarrayOrTensor]:\n",
    "        d = deepcopy(dict(data))\n",
    "\n",
    "        for key in self.key_iterator(d):\n",
    "            transform = self.get_most_recent_transform(d, key)\n",
    "            # Create inverse transform\n",
    "            orig_size = transform[TraceKeys.ORIG_SIZE]\n",
    "            random_center = self.random_center\n",
    "            pad_to_start = np.empty((len(orig_size)), dtype=np.int32)\n",
    "            pad_to_end = np.empty((len(orig_size)), dtype=np.int32)\n",
    "            if random_center:\n",
    "                for i, _slice in enumerate(transform[TraceKeys.EXTRA_INFO][\"slices\"]):\n",
    "                    pad_to_start[i] = _slice[0]\n",
    "                    pad_to_end[i] = orig_size[i] - _slice[1]\n",
    "            else:\n",
    "                current_size = d[key].shape[1:]\n",
    "                for i, (o_s, c_s) in enumerate(zip(orig_size, current_size)):\n",
    "                    pad_to_start[i] = pad_to_end[i] = (o_s - c_s) / 2\n",
    "                    if o_s % 2 == 0 and c_s % 2 == 1:\n",
    "                        pad_to_start[i] += 1\n",
    "                    elif o_s % 2 == 1 and c_s % 2 == 0:\n",
    "                        pad_to_end[i] += 1\n",
    "            # interleave mins and maxes\n",
    "            pad = list(chain(*zip(pad_to_start.tolist(), pad_to_end.tolist())))\n",
    "            inverse_transform = BorderPad(pad)\n",
    "            # Apply inverse transform\n",
    "            d[key] = inverse_transform(d[key])\n",
    "            # Remove the applied transform\n",
    "            self.pop_transform(d, key)\n",
    "\n",
    "        return d"
   ]
  },
  {
   "cell_type": "code",
   "execution_count": 22,
   "metadata": {
    "execution": {
     "iopub.execute_input": "2022-07-08T14:26:33.085754Z",
     "iopub.status.busy": "2022-07-08T14:26:33.085018Z",
     "iopub.status.idle": "2022-07-08T14:26:33.106246Z",
     "shell.execute_reply": "2022-07-08T14:26:33.105144Z",
     "shell.execute_reply.started": "2022-07-08T14:26:33.085695Z"
    }
   },
   "outputs": [],
   "source": [
    "RAND_SAMPLES=4  ## No longer used since we are using the simpler crop\n",
    "\n",
    "def deg_to_rad(d):\n",
    "    return d*0.01745329\n",
    "\n",
    "train_transforms=[]\n",
    "\n",
    "t = Compose(\n",
    "    [\n",
    "        # Deterministic transforms\n",
    "        LoadImaged(keys=[\"img\",\"mask\"]),\n",
    "        EnsureChannelFirstd(keys=[\"img\", \"mask\"]),\n",
    "        EnsureTyped(keys=[\"img\", \"mask\"],dtype=torch.float32),\n",
    "        ToDeviced(keys=[\"img\", \"mask\"], device=device),\n",
    "        #Lambdad(keys=['mask'], func=lambda mask: print(mask.shape),\n",
    "        ScaleIntensityd(keys=[\"img\",\"mask\"]),\n",
    "        \n",
    "        SquarePadd(keys=[\"img\",\"mask\"],dim1=0,dim2=1),\n",
    "        #SpatialPadd(keys=[\"img\",\"mask\"],spatial_size=(360,360,-1)),\n",
    "        Resized(keys=[\"img\",\"mask\"],spatial_size=(256,256,-1)),\n",
    "        RandZCropd(keys=[\"img\", \"mask\"], roi_size=(256,256,16), random_size=False,\n",
    "                         max_roi_size=None, random_center=True),\n",
    "        \n",
    "        \n",
    "\n",
    "        \n",
    "        \n",
    "    ]\n",
    ")\n",
    "\n",
    "train_transforms.append(t)\n",
    "\n",
    "t = Compose(\n",
    "    [\n",
    "        # Deterministic transforms\n",
    "        LoadImaged(keys=[\"img\",\"mask\"]),\n",
    "        EnsureChannelFirstd(keys=[\"img\", \"mask\"]),\n",
    "        EnsureTyped(keys=[\"img\", \"mask\"],dtype=torch.float32),\n",
    "        ToDeviced(keys=[\"img\", \"mask\"], device=device),\n",
    "        \n",
    "        #Lambdad(keys=['mask'], func=lambda mask: print(mask.shape),\n",
    "        ScaleIntensityd(keys=[\"img\",\"mask\"]),\n",
    "        SquarePadd(keys=[\"img\",\"mask\"],dim1=0,dim2=1),\n",
    "        #SpatialPadd(keys=[\"img\",\"mask\"],spatial_size=(360,360,-1)),\n",
    "        Resized(keys=[\"img\",\"mask\"],spatial_size=(256,256,-1)),\n",
    "        \n",
    "        RandZCropd(keys=[\"img\", \"mask\"], roi_size=(256,256,16), random_size=False,\n",
    "                         max_roi_size=None, random_center=True),\n",
    "        RandCoarseShuffled(keys=[\"img\", \"mask\"], max_holes=8, holes=2,\n",
    "                           spatial_size=(256//20,256//20,1), max_spatial_size=(256//10,256//10,4),\n",
    "                           prob=0.5),\n",
    "        \n",
    "        # Random transforms\n",
    "        # Approx 10% chance of up to 10 degree random rotation\n",
    "        #RandRotated(keys=['img', 'mask'],prob=1.0, range_z=deg_to_rad(15), padding_mode=\"zeros\"),\n",
    "        #RandZoomd(keys=['img', 'mask'],prob=1.0,min_zoom=(.95,.95,.95),max_zoom=(1.05,1.05,1.05)),\n",
    "        Rand3DElasticd(keys=['img', 'mask'],prob=0.5, sigma_range=(10,30), magnitude_range=(50,150),\n",
    "                       spatial_size=None, rotate_range=(.01,.01,.1), shear_range=None,\n",
    "                       translate_range=None, scale_range=(.05,.05,.05),device=device),\n",
    "        RandGridDistortiond(keys=['img', 'mask'],prob=0.5,num_cells=10, distort_limit=0.2,\n",
    "                            padding_mode=\"zeros\",device=device),\n",
    "        #RandAffined(keys=['img', 'mask'],rotate_range=[-0.2, 0.2],),\n",
    "        \n",
    "        \n",
    "        \n",
    "        #SpatialPadd(keys=['img', 'mask'], spatial_size=[256,256,16]),\n",
    "        #CastToTyped(keys=['img', 'mask'])\n",
    "        \n",
    "        \n",
    "    ]\n",
    ")\n",
    "\n",
    "train_transforms.append(t)\n",
    "\n",
    "\n",
    "val_transforms = Compose(\n",
    "    [\n",
    "        # Deterministic transforms\n",
    "        LoadImaged(keys=[\"img\",\"mask\"]),\n",
    "        EnsureChannelFirstd(keys=[\"img\", \"mask\"]),\n",
    "        ScaleIntensityd(keys=[\"img\",\"mask\"]),\n",
    "        \n",
    "    ]\n",
    ")\n",
    "\n",
    "val_transforms_old = Compose(\n",
    "    [\n",
    "        # Deterministic transforms\n",
    "        LoadImaged(keys=[\"img\",\"mask\"]),\n",
    "        EnsureChannelFirstd(keys=[\"img\", \"mask\"]),\n",
    "        ScaleIntensityd(keys=[\"img\",\"mask\"]),\n",
    "        # Random transforms\n",
    "        RandCropByPosNegLabeld(\n",
    "            # Note x,y,z here must be divisible by 16\n",
    "            keys=[\"img\", \"mask\"],\n",
    "            label_key=\"mask\",\n",
    "            spatial_size=[128, 128, 16],\n",
    "            pos=1,\n",
    "            neg=1,\n",
    "            num_samples=2\n",
    "        ),\n",
    "        SpatialPadd(keys=['img', 'mask'], spatial_size=[128,128,16]),\n",
    "        CastToTyped(keys=['img', 'mask'])\n",
    "    ]\n",
    ")"
   ]
  },
  {
   "cell_type": "markdown",
   "metadata": {},
   "source": [
    "## Function to get dataloaders"
   ]
  },
  {
   "cell_type": "code",
   "execution_count": 23,
   "metadata": {
    "execution": {
     "iopub.execute_input": "2022-07-08T14:27:08.724055Z",
     "iopub.status.busy": "2022-07-08T14:27:08.723447Z",
     "iopub.status.idle": "2022-07-08T14:27:08.742996Z",
     "shell.execute_reply": "2022-07-08T14:27:08.742168Z",
     "shell.execute_reply.started": "2022-07-08T14:27:08.723991Z"
    }
   },
   "outputs": [],
   "source": [
    "import tempfile\n",
    "def get_data_dict_list(df):\n",
    "    data = []\n",
    "    for name, group in df.groupby(['group']):\n",
    "        entry = {}\n",
    "        case  = np.unique(group['case_id'])[0]\n",
    "        day  = np.unique(group['day_num'])[0]\n",
    "        fold = np.unique(group['fold'])[0]\n",
    "        n_slice = group.shape[0]\n",
    "        dest_folder = DEST / f\"{int(fold)}/case-{case}_day-{day}\"\n",
    "        img = Path(f\"{dest_folder}/img_0.nii.gz\")\n",
    "        mask = Path(f\"{dest_folder}/mask_0.nii.gz\")\n",
    "        if not (img.exists() and img.is_file()):\n",
    "            raise RuntimeError(f'{img} doesnt exist')\n",
    "        if not (mask.exists() and mask.is_file()):\n",
    "            raise RuntimeError(f'{mask} doesnt exist')\n",
    "        entry['img'] = img\n",
    "        entry['mask'] = mask\n",
    "        data.append(entry)\n",
    "    return data\n",
    "    \n",
    "def get_data_loader(df, fold,train_trans,train_batch_size):\n",
    "    train_df = df[df['fold'] != fold]\n",
    "    valid_df = df[df['fold'] == fold]\n",
    "    \n",
    "    train = get_data_dict_list(train_df)\n",
    "    valid = get_data_dict_list(valid_df)\n",
    "    print(\"Train Length:\",len(train),\"Val Length:\",len(valid))\n",
    "    \n",
    "    persistent_cache = DATASET_FOLDER/\"persistent_cache\"\n",
    "    persistent_cache.mkdir(parents=True, exist_ok=True)\n",
    "    \n",
    "    #train_ds = CacheDataset(\n",
    "    train_ds = Dataset(\n",
    "    #train_ds = PersistentDataset(\n",
    "        data=train, \n",
    "        transform=train_trans,\n",
    "        #cache_rate=0.05,\n",
    "        #num_workers=1,\n",
    "        #copy_cache=False,\n",
    "        #cache_dir=persistent_cache,\n",
    "    )\n",
    "    train_loader = DataLoader(\n",
    "        train_ds,\n",
    "        batch_size=train_batch_size,\n",
    "        shuffle=True,\n",
    "        num_workers=0,\n",
    "        collate_fn=list_data_collate,\n",
    "        pin_memory=False,\n",
    "    )\n",
    "    \n",
    "    # Use other fold ids for validation\n",
    "    # Validation set loader\n",
    "    val_ds = Dataset(\n",
    "    #val_ds = PersistentDataset(\n",
    "        data=valid,\n",
    "        transform=val_transforms,\n",
    "        #cache_dir=persistent_cache,\n",
    "        #cache_dir=tempfile.gettempdir()\n",
    "    )\n",
    "    val_loader = DataLoader(\n",
    "        val_ds,\n",
    "        batch_size=1,\n",
    "        num_workers=0,\n",
    "        collate_fn=list_data_collate\n",
    "    )\n",
    "    return train_loader, val_loader"
   ]
  },
  {
   "cell_type": "markdown",
   "metadata": {},
   "source": [
    "### Inspect one batch"
   ]
  },
  {
   "cell_type": "code",
   "execution_count": null,
   "metadata": {
    "execution": {
     "iopub.execute_input": "2022-07-08T14:26:33.127365Z",
     "iopub.status.busy": "2022-07-08T14:26:33.126304Z",
     "iopub.status.idle": "2022-07-08T14:26:33.147378Z",
     "shell.execute_reply": "2022-07-08T14:26:33.146165Z",
     "shell.execute_reply.started": "2022-07-08T14:26:33.127328Z"
    }
   },
   "outputs": [],
   "source": [
    "from matplotlib import animation\n",
    "\n",
    "def plot_data3d(image, mask):\n",
    "    frames = 16\n",
    "    interval = 200\n",
    "    start_frame = 0\n",
    "    img = rearrange(image, 'n c h w d -> n h w d c')\n",
    "    mask = rearrange(mask, 'n c h w d -> n h w d c')\n",
    "    # Plot first 4 images\n",
    "    fig, ax = plt.subplots(2, 4, figsize=(15,10))\n",
    "    print(image.shape, img.shape)\n",
    "    ax = ax.ravel()\n",
    "    ims = []\n",
    "    masks = []\n",
    "\n",
    "    # Start by adding the image to each axis\n",
    "    for i in range(len(ax)):\n",
    "        im_min = img[i].min()\n",
    "        im_max = img[i].max()\n",
    "        # Plot the i'th image at the starting frame\n",
    "        im_plot = ax[i].imshow(\n",
    "            img[i,:,:,start_frame,:],\n",
    "            cmap='bone',\n",
    "            vmin=im_min,\n",
    "            vmax=im_max\n",
    "        )\n",
    "        print(mask.max())\n",
    "        mask_plot = ax[i].imshow(mask[i,:,:,start_frame,1:4], alpha=0.3)\n",
    "        ims.append(im_plot)\n",
    "        masks.append(mask_plot)\n",
    "    print(im_min, im_max)\n",
    "        \n",
    "    def animate(frame):\n",
    "        for i in range(len(ax)):\n",
    "            # Update the i'th image to the data from the j'th frame\n",
    "            ims[i].set_array(img[i,:,:,frame])\n",
    "            masks[i].set_array(mask[i,:,:,frame,1:4])\n",
    "        return ims, masks\n",
    "    anim = animation.FuncAnimation(fig, animate, interval=interval, frames=frames)\n",
    "    video = anim.to_html5_video()\n",
    "  \n",
    "    # embedding for the video\n",
    "    html = display.HTML(video)\n",
    "  \n",
    "    # draw the animation\n",
    "    display.display(html)\n",
    "    plt.tight_layout()\n",
    "    plt.close()"
   ]
  },
  {
   "cell_type": "code",
   "execution_count": null,
   "metadata": {},
   "outputs": [],
   "source": [
    "def plot_data3d(image, mask,b,start_frame):\n",
    "    \n",
    "    img = rearrange(image, 'n c h w d -> n h w d c').cpu().numpy()\n",
    "    mask = rearrange(mask, 'n c h w d -> n h w d c').cpu().numpy()\n",
    "    # Plot first 4 images\n",
    "    fig, ax = plt.subplots(4, 4, figsize=(20,20))\n",
    "    \n",
    "    #print(image.shape, img.shape)\n",
    "    ax = ax.ravel()\n",
    "    ims = []\n",
    "    masks = []\n",
    "\n",
    "    # Start by adding the image to each axis\n",
    "    for i in range(len(ax)):\n",
    "        im_min = img[b].min()\n",
    "        im_max = img[b].max()\n",
    "        # Plot the i'th image at the starting frame\n",
    "        im_plot = ax[i].imshow(\n",
    "            img[b,:,:,start_frame+i,:],\n",
    "            cmap='bone',\n",
    "            vmin=im_min,\n",
    "            vmax=im_max\n",
    "        )\n",
    "        #print(mask.max())\n",
    "        mask_plot = ax[i].imshow(mask[b,:,:,start_frame+i,1:4], alpha=0.3)\n",
    "        #ims.append(im_plot)\n",
    "        #masks.append(mask_plot)\n",
    "        ax[i].axis('off')\n",
    "    print(im_min, im_max)\n",
    "    print(img.shape)"
   ]
  },
  {
   "cell_type": "code",
   "execution_count": null,
   "metadata": {},
   "outputs": [],
   "source": []
  },
  {
   "cell_type": "code",
   "execution_count": null,
   "metadata": {
    "execution": {
     "iopub.execute_input": "2022-07-08T14:26:33.149764Z",
     "iopub.status.busy": "2022-07-08T14:26:33.149057Z",
     "iopub.status.idle": "2022-07-08T14:26:33.379707Z",
     "shell.execute_reply": "2022-07-08T14:26:33.378784Z",
     "shell.execute_reply.started": "2022-07-08T14:26:33.149728Z"
    }
   },
   "outputs": [],
   "source": [
    "import gc\n",
    "gc.collect()"
   ]
  },
  {
   "cell_type": "code",
   "execution_count": null,
   "metadata": {
    "execution": {
     "iopub.execute_input": "2022-07-08T14:27:13.378443Z",
     "iopub.status.busy": "2022-07-08T14:27:13.37808Z",
     "iopub.status.idle": "2022-07-08T14:27:13.857906Z",
     "shell.execute_reply": "2022-07-08T14:27:13.856279Z",
     "shell.execute_reply.started": "2022-07-08T14:27:13.378415Z"
    }
   },
   "outputs": [],
   "source": [
    "from monai.utils.misc import first\n",
    "fold = 0\n",
    "#train_ds, val_ds = get_data_loader(df2d, fold,train_transforms[1],4)"
   ]
  },
  {
   "cell_type": "code",
   "execution_count": null,
   "metadata": {
    "execution": {
     "iopub.status.busy": "2022-07-08T14:26:33.880261Z",
     "iopub.status.idle": "2022-07-08T14:26:33.881058Z",
     "shell.execute_reply": "2022-07-08T14:26:33.880875Z",
     "shell.execute_reply.started": "2022-07-08T14:26:33.880854Z"
    }
   },
   "outputs": [],
   "source": [
    "#check_data = first(train_ds)"
   ]
  },
  {
   "cell_type": "code",
   "execution_count": null,
   "metadata": {},
   "outputs": [],
   "source": [
    "#data = iter(train_ds)"
   ]
  },
  {
   "cell_type": "code",
   "execution_count": null,
   "metadata": {},
   "outputs": [],
   "source": [
    "#check_data = next(data)"
   ]
  },
  {
   "cell_type": "code",
   "execution_count": null,
   "metadata": {
    "execution": {
     "iopub.status.busy": "2022-07-08T14:26:33.882084Z",
     "iopub.status.idle": "2022-07-08T14:26:33.882473Z",
     "shell.execute_reply": "2022-07-08T14:26:33.882315Z",
     "shell.execute_reply.started": "2022-07-08T14:26:33.882296Z"
    }
   },
   "outputs": [],
   "source": [
    "\n",
    "#plot_data3d(check_data['img'], check_data['mask'],0,0)"
   ]
  },
  {
   "cell_type": "markdown",
   "metadata": {},
   "source": [
    "## Model"
   ]
  },
  {
   "cell_type": "code",
   "execution_count": null,
   "metadata": {},
   "outputs": [],
   "source": []
  },
  {
   "cell_type": "code",
   "execution_count": 24,
   "metadata": {
    "execution": {
     "iopub.status.busy": "2022-07-08T14:26:33.88739Z",
     "iopub.status.idle": "2022-07-08T14:26:33.887941Z",
     "shell.execute_reply": "2022-07-08T14:26:33.88778Z",
     "shell.execute_reply.started": "2022-07-08T14:26:33.88776Z"
    }
   },
   "outputs": [],
   "source": [
    "def plot_metrics(loss, metric):\n",
    "    fig, ax = plt.subplots(1,2)\n",
    "    loss_line, = ax[0].plot(loss, label='loss')\n",
    "    metric_line, = ax[1].plot(metric, label='metric')\n",
    "    ax[0].legend(handles=[loss_line])\n",
    "    ax[1].legend(handles=[metric_line])"
   ]
  },
  {
   "cell_type": "markdown",
   "metadata": {},
   "source": [
    "### Need to save the fold 4 model to all the other models so that they become the initial condition\n",
    "\n",
    "Complete\n",
    "'0_dict_7.pth' to '4_dict_7.pth' copied from '4_dict7.pth' and backups in 'backup dict_7'"
   ]
  },
  {
   "cell_type": "markdown",
   "metadata": {},
   "source": [
    "### Training phase 8 - use augmentation transforms"
   ]
  },
  {
   "cell_type": "code",
   "execution_count": 25,
   "metadata": {},
   "outputs": [],
   "source": [
    "#Training settings\n",
    "\n",
    "\n",
    "#fn=\"/media/SSD/gi-tract/uw-madison-gi-tract-image-segmentation/kaggle models/best_weights_fold_0.pth\"\n",
    "#model.load_state_dict(torch.load(fn),strict=False)\n",
    "\n",
    "amp = True\n",
    "\n",
    "training_phase = 8\n",
    "load_weights = True\n",
    "\n",
    "#tr_transforms = train_transforms[0]\n",
    "#batch_size = 8\n",
    "\n",
    "tr_transforms = train_transforms[1]\n",
    "batch_size = 6\n",
    "\n",
    "num_epochs = 40\n",
    "num_folds = 5\n",
    "start_fold = 0\n",
    "val_interval = 5\n",
    "roi_size = (256, 256, 80)\n",
    "\n",
    "metric_function = DiceMetric(include_background=True, reduction=\"mean\", get_not_nans=False)\n",
    "loss_function = DiceCELoss(include_background=False, softmax=True)\n",
    "\n",
    "LR = torch.optim.lr_scheduler.OneCycleLR\n",
    "max_learning_rate = 0.001\n",
    "min_learning_rate = 0.001\n"
   ]
  },
  {
   "cell_type": "code",
   "execution_count": 26,
   "metadata": {},
   "outputs": [
    {
     "name": "stdout",
     "output_type": "stream",
     "text": [
      "----------\n",
      "fold 1/5\n",
      "Train Length: 220 Val Length: 54\n",
      "----------\n",
      "epoch 1/40  LR=3.9999999999999996e-05\n"
     ]
    },
    {
     "data": {
      "application/vnd.jupyter.widget-view+json": {
       "model_id": "",
       "version_major": 2,
       "version_minor": 0
      },
      "text/plain": [
       "  0%|          | 0/37 [00:00<?, ?it/s]"
      ]
     },
     "metadata": {},
     "output_type": "display_data"
    },
    {
     "name": "stdout",
     "output_type": "stream",
     "text": [
      "epoch 1 average loss: 1.0519\n",
      "----------\n",
      "epoch 2/40  LR=5.6429102309004894e-05\n"
     ]
    },
    {
     "data": {
      "application/vnd.jupyter.widget-view+json": {
       "model_id": "",
       "version_major": 2,
       "version_minor": 0
      },
      "text/plain": [
       "  0%|          | 0/37 [00:00<?, ?it/s]"
      ]
     },
     "metadata": {},
     "output_type": "display_data"
    },
    {
     "name": "stdout",
     "output_type": "stream",
     "text": [
      "epoch 2 average loss: 1.0479\n",
      "----------\n",
      "epoch 3/40  LR=0.00010459176172485389\n"
     ]
    },
    {
     "data": {
      "application/vnd.jupyter.widget-view+json": {
       "model_id": "",
       "version_major": 2,
       "version_minor": 0
      },
      "text/plain": [
       "  0%|          | 0/37 [00:00<?, ?it/s]"
      ]
     },
     "metadata": {},
     "output_type": "display_data"
    },
    {
     "name": "stdout",
     "output_type": "stream",
     "text": [
      "epoch 3 average loss: 1.0486\n",
      "----------\n",
      "epoch 4/40  LR=0.00018119102300164392\n"
     ]
    },
    {
     "data": {
      "application/vnd.jupyter.widget-view+json": {
       "model_id": "",
       "version_major": 2,
       "version_minor": 0
      },
      "text/plain": [
       "  0%|          | 0/37 [00:00<?, ?it/s]"
      ]
     },
     "metadata": {},
     "output_type": "display_data"
    },
    {
     "name": "stdout",
     "output_type": "stream",
     "text": [
      "epoch 4 average loss: 1.0492\n",
      "----------\n",
      "epoch 5/40  LR=0.00028098331488808095\n"
     ]
    },
    {
     "data": {
      "application/vnd.jupyter.widget-view+json": {
       "model_id": "",
       "version_major": 2,
       "version_minor": 0
      },
      "text/plain": [
       "  0%|          | 0/37 [00:00<?, ?it/s]"
      ]
     },
     "metadata": {},
     "output_type": "display_data"
    },
    {
     "name": "stdout",
     "output_type": "stream",
     "text": [
      "epoch 5 average loss: 1.0522\n"
     ]
    },
    {
     "data": {
      "application/vnd.jupyter.widget-view+json": {
       "model_id": "",
       "version_major": 2,
       "version_minor": 0
      },
      "text/plain": [
       "  0%|          | 0/54 [00:00<?, ?it/s]"
      ]
     },
     "metadata": {},
     "output_type": "display_data"
    },
    {
     "name": "stdout",
     "output_type": "stream",
     "text": [
      "----------\n",
      "Validation\n",
      "Metric: 0.661516547203064\n",
      "saved new best metric model\n",
      "current epoch: 5 current mean dice: 0.6615 best mean dice: 0.6615 at epoch 5\n",
      "----------\n",
      "epoch 6/40  LR=0.00039713739666311337\n"
     ]
    },
    {
     "data": {
      "application/vnd.jupyter.widget-view+json": {
       "model_id": "",
       "version_major": 2,
       "version_minor": 0
      },
      "text/plain": [
       "  0%|          | 0/37 [00:00<?, ?it/s]"
      ]
     },
     "metadata": {},
     "output_type": "display_data"
    },
    {
     "name": "stdout",
     "output_type": "stream",
     "text": [
      "epoch 6 average loss: 1.0525\n",
      "----------\n",
      "epoch 7/40  LR=0.0005217019879388641\n"
     ]
    },
    {
     "data": {
      "application/vnd.jupyter.widget-view+json": {
       "model_id": "",
       "version_major": 2,
       "version_minor": 0
      },
      "text/plain": [
       "  0%|          | 0/37 [00:00<?, ?it/s]"
      ]
     },
     "metadata": {},
     "output_type": "display_data"
    },
    {
     "name": "stdout",
     "output_type": "stream",
     "text": [
      "epoch 7 average loss: 1.0579\n",
      "----------\n",
      "epoch 8/40  LR=0.0006461500703230469\n"
     ]
    },
    {
     "data": {
      "application/vnd.jupyter.widget-view+json": {
       "model_id": "",
       "version_major": 2,
       "version_minor": 0
      },
      "text/plain": [
       "  0%|          | 0/37 [00:00<?, ?it/s]"
      ]
     },
     "metadata": {},
     "output_type": "display_data"
    },
    {
     "name": "stdout",
     "output_type": "stream",
     "text": [
      "epoch 8 average loss: 1.0580\n",
      "----------\n",
      "epoch 9/40  LR=0.0007619626009921238\n"
     ]
    },
    {
     "data": {
      "application/vnd.jupyter.widget-view+json": {
       "model_id": "",
       "version_major": 2,
       "version_minor": 0
      },
      "text/plain": [
       "  0%|          | 0/37 [00:00<?, ?it/s]"
      ]
     },
     "metadata": {},
     "output_type": "display_data"
    },
    {
     "name": "stdout",
     "output_type": "stream",
     "text": [
      "epoch 9 average loss: 1.0657\n",
      "----------\n",
      "epoch 10/40  LR=0.0008612116803001482\n"
     ]
    },
    {
     "data": {
      "application/vnd.jupyter.widget-view+json": {
       "model_id": "",
       "version_major": 2,
       "version_minor": 0
      },
      "text/plain": [
       "  0%|          | 0/37 [00:00<?, ?it/s]"
      ]
     },
     "metadata": {},
     "output_type": "display_data"
    },
    {
     "name": "stdout",
     "output_type": "stream",
     "text": [
      "epoch 10 average loss: 1.0665\n"
     ]
    },
    {
     "data": {
      "application/vnd.jupyter.widget-view+json": {
       "model_id": "",
       "version_major": 2,
       "version_minor": 0
      },
      "text/plain": [
       "  0%|          | 0/54 [00:00<?, ?it/s]"
      ]
     },
     "metadata": {},
     "output_type": "display_data"
    },
    {
     "name": "stdout",
     "output_type": "stream",
     "text": [
      "----------\n",
      "Validation\n",
      "Metric: 0.4511643946170807\n",
      "current epoch: 10 current mean dice: 0.4512 best mean dice: 0.6615 at epoch 5\n",
      "----------\n",
      "epoch 11/40  LR=0.0009371032529220119\n"
     ]
    },
    {
     "data": {
      "application/vnd.jupyter.widget-view+json": {
       "model_id": "",
       "version_major": 2,
       "version_minor": 0
      },
      "text/plain": [
       "  0%|          | 0/37 [00:00<?, ?it/s]"
      ]
     },
     "metadata": {},
     "output_type": "display_data"
    },
    {
     "name": "stdout",
     "output_type": "stream",
     "text": [
      "epoch 11 average loss: 1.0669\n",
      "----------\n",
      "epoch 12/40  LR=0.0009844421921452319\n"
     ]
    },
    {
     "data": {
      "application/vnd.jupyter.widget-view+json": {
       "model_id": "",
       "version_major": 2,
       "version_minor": 0
      },
      "text/plain": [
       "  0%|          | 0/37 [00:00<?, ?it/s]"
      ]
     },
     "metadata": {},
     "output_type": "display_data"
    },
    {
     "name": "stdout",
     "output_type": "stream",
     "text": [
      "epoch 12 average loss: 1.0636\n",
      "----------\n",
      "epoch 13/40  LR=0.0009999977011100945\n"
     ]
    },
    {
     "data": {
      "application/vnd.jupyter.widget-view+json": {
       "model_id": "",
       "version_major": 2,
       "version_minor": 0
      },
      "text/plain": [
       "  0%|          | 0/37 [00:00<?, ?it/s]"
      ]
     },
     "metadata": {},
     "output_type": "display_data"
    },
    {
     "name": "stdout",
     "output_type": "stream",
     "text": [
      "epoch 13 average loss: 1.0665\n",
      "----------\n",
      "epoch 14/40  LR=0.0009966840720691266\n"
     ]
    },
    {
     "data": {
      "application/vnd.jupyter.widget-view+json": {
       "model_id": "",
       "version_major": 2,
       "version_minor": 0
      },
      "text/plain": [
       "  0%|          | 0/37 [00:00<?, ?it/s]"
      ]
     },
     "metadata": {},
     "output_type": "display_data"
    },
    {
     "name": "stdout",
     "output_type": "stream",
     "text": [
      "epoch 14 average loss: 1.0619\n",
      "----------\n",
      "epoch 15/40  LR=0.0009871243777902386\n"
     ]
    },
    {
     "data": {
      "application/vnd.jupyter.widget-view+json": {
       "model_id": "",
       "version_major": 2,
       "version_minor": 0
      },
      "text/plain": [
       "  0%|          | 0/37 [00:00<?, ?it/s]"
      ]
     },
     "metadata": {},
     "output_type": "display_data"
    },
    {
     "name": "stdout",
     "output_type": "stream",
     "text": [
      "epoch 15 average loss: 1.0649\n"
     ]
    },
    {
     "data": {
      "application/vnd.jupyter.widget-view+json": {
       "model_id": "",
       "version_major": 2,
       "version_minor": 0
      },
      "text/plain": [
       "  0%|          | 0/54 [00:00<?, ?it/s]"
      ]
     },
     "metadata": {},
     "output_type": "display_data"
    },
    {
     "name": "stdout",
     "output_type": "stream",
     "text": [
      "----------\n",
      "Validation\n",
      "Metric: 0.3948974609375\n",
      "current epoch: 15 current mean dice: 0.3949 best mean dice: 0.6615 at epoch 5\n",
      "----------\n",
      "epoch 16/40  LR=0.0009714388369756511\n"
     ]
    },
    {
     "data": {
      "application/vnd.jupyter.widget-view+json": {
       "model_id": "",
       "version_major": 2,
       "version_minor": 0
      },
      "text/plain": [
       "  0%|          | 0/37 [00:00<?, ?it/s]"
      ]
     },
     "metadata": {},
     "output_type": "display_data"
    },
    {
     "name": "stdout",
     "output_type": "stream",
     "text": [
      "epoch 16 average loss: 1.0581\n",
      "----------\n",
      "epoch 17/40  LR=0.0009498247044020708\n"
     ]
    },
    {
     "data": {
      "application/vnd.jupyter.widget-view+json": {
       "model_id": "",
       "version_major": 2,
       "version_minor": 0
      },
      "text/plain": [
       "  0%|          | 0/37 [00:00<?, ?it/s]"
      ]
     },
     "metadata": {},
     "output_type": "display_data"
    },
    {
     "name": "stdout",
     "output_type": "stream",
     "text": [
      "epoch 17 average loss: 1.0597\n",
      "----------\n",
      "epoch 18/40  LR=0.000922553790327422\n"
     ]
    },
    {
     "data": {
      "application/vnd.jupyter.widget-view+json": {
       "model_id": "",
       "version_major": 2,
       "version_minor": 0
      },
      "text/plain": [
       "  0%|          | 0/37 [00:00<?, ?it/s]"
      ]
     },
     "metadata": {},
     "output_type": "display_data"
    },
    {
     "name": "stdout",
     "output_type": "stream",
     "text": [
      "epoch 18 average loss: 1.0585\n",
      "----------\n",
      "epoch 19/40  LR=0.0008899690423191465\n"
     ]
    },
    {
     "data": {
      "application/vnd.jupyter.widget-view+json": {
       "model_id": "",
       "version_major": 2,
       "version_minor": 0
      },
      "text/plain": [
       "  0%|          | 0/37 [00:00<?, ?it/s]"
      ]
     },
     "metadata": {},
     "output_type": "display_data"
    },
    {
     "name": "stdout",
     "output_type": "stream",
     "text": [
      "epoch 19 average loss: 1.0575\n",
      "----------\n",
      "epoch 20/40  LR=0.0008524802324895594\n"
     ]
    },
    {
     "data": {
      "application/vnd.jupyter.widget-view+json": {
       "model_id": "",
       "version_major": 2,
       "version_minor": 0
      },
      "text/plain": [
       "  0%|          | 0/37 [00:00<?, ?it/s]"
      ]
     },
     "metadata": {},
     "output_type": "display_data"
    },
    {
     "name": "stdout",
     "output_type": "stream",
     "text": [
      "epoch 20 average loss: 1.0599\n"
     ]
    },
    {
     "data": {
      "application/vnd.jupyter.widget-view+json": {
       "model_id": "",
       "version_major": 2,
       "version_minor": 0
      },
      "text/plain": [
       "  0%|          | 0/54 [00:00<?, ?it/s]"
      ]
     },
     "metadata": {},
     "output_type": "display_data"
    },
    {
     "name": "stdout",
     "output_type": "stream",
     "text": [
      "----------\n",
      "Validation\n",
      "Metric: 0.29966679215431213\n",
      "current epoch: 20 current mean dice: 0.2997 best mean dice: 0.6615 at epoch 5\n",
      "----------\n",
      "epoch 21/40  LR=0.000810558804373782\n"
     ]
    },
    {
     "data": {
      "application/vnd.jupyter.widget-view+json": {
       "model_id": "",
       "version_major": 2,
       "version_minor": 0
      },
      "text/plain": [
       "  0%|          | 0/37 [00:00<?, ?it/s]"
      ]
     },
     "metadata": {},
     "output_type": "display_data"
    },
    {
     "name": "stdout",
     "output_type": "stream",
     "text": [
      "epoch 21 average loss: 1.0648\n",
      "----------\n",
      "epoch 22/40  LR=0.0007647319442537491\n"
     ]
    },
    {
     "data": {
      "application/vnd.jupyter.widget-view+json": {
       "model_id": "",
       "version_major": 2,
       "version_minor": 0
      },
      "text/plain": [
       "  0%|          | 0/37 [00:00<?, ?it/s]"
      ]
     },
     "metadata": {},
     "output_type": "display_data"
    },
    {
     "name": "stdout",
     "output_type": "stream",
     "text": [
      "epoch 22 average loss: 1.0598\n",
      "----------\n",
      "epoch 23/40  LR=0.0007155759514848339\n"
     ]
    },
    {
     "data": {
      "application/vnd.jupyter.widget-view+json": {
       "model_id": "",
       "version_major": 2,
       "version_minor": 0
      },
      "text/plain": [
       "  0%|          | 0/37 [00:00<?, ?it/s]"
      ]
     },
     "metadata": {},
     "output_type": "display_data"
    },
    {
     "name": "stdout",
     "output_type": "stream",
     "text": [
      "epoch 23 average loss: 1.0595\n",
      "----------\n",
      "epoch 24/40  LR=0.000663708991197077\n"
     ]
    },
    {
     "data": {
      "application/vnd.jupyter.widget-view+json": {
       "model_id": "",
       "version_major": 2,
       "version_minor": 0
      },
      "text/plain": [
       "  0%|          | 0/37 [00:00<?, ?it/s]"
      ]
     },
     "metadata": {},
     "output_type": "display_data"
    },
    {
     "name": "stdout",
     "output_type": "stream",
     "text": [
      "epoch 24 average loss: 1.0622\n",
      "----------\n",
      "epoch 25/40  LR=0.0006097833205100079\n"
     ]
    },
    {
     "data": {
      "application/vnd.jupyter.widget-view+json": {
       "model_id": "",
       "version_major": 2,
       "version_minor": 0
      },
      "text/plain": [
       "  0%|          | 0/37 [00:00<?, ?it/s]"
      ]
     },
     "metadata": {},
     "output_type": "display_data"
    },
    {
     "name": "stdout",
     "output_type": "stream",
     "text": [
      "epoch 25 average loss: 1.0579\n"
     ]
    },
    {
     "data": {
      "application/vnd.jupyter.widget-view+json": {
       "model_id": "",
       "version_major": 2,
       "version_minor": 0
      },
      "text/plain": [
       "  0%|          | 0/54 [00:00<?, ?it/s]"
      ]
     },
     "metadata": {},
     "output_type": "display_data"
    },
    {
     "name": "stdout",
     "output_type": "stream",
     "text": [
      "----------\n",
      "Validation\n",
      "Metric: 0.5408623814582825\n",
      "current epoch: 25 current mean dice: 0.5409 best mean dice: 0.6615 at epoch 5\n",
      "----------\n",
      "epoch 26/40  LR=0.0005544770860209196\n"
     ]
    },
    {
     "data": {
      "application/vnd.jupyter.widget-view+json": {
       "model_id": "",
       "version_major": 2,
       "version_minor": 0
      },
      "text/plain": [
       "  0%|          | 0/37 [00:00<?, ?it/s]"
      ]
     },
     "metadata": {},
     "output_type": "display_data"
    },
    {
     "name": "stdout",
     "output_type": "stream",
     "text": [
      "epoch 26 average loss: 1.0607\n",
      "----------\n",
      "epoch 27/40  LR=0.0004984857957179372\n"
     ]
    },
    {
     "data": {
      "application/vnd.jupyter.widget-view+json": {
       "model_id": "",
       "version_major": 2,
       "version_minor": 0
      },
      "text/plain": [
       "  0%|          | 0/37 [00:00<?, ?it/s]"
      ]
     },
     "metadata": {},
     "output_type": "display_data"
    },
    {
     "name": "stdout",
     "output_type": "stream",
     "text": [
      "epoch 27 average loss: 1.0559\n",
      "----------\n",
      "epoch 28/40  LR=0.000442513572563524\n"
     ]
    },
    {
     "data": {
      "application/vnd.jupyter.widget-view+json": {
       "model_id": "",
       "version_major": 2,
       "version_minor": 0
      },
      "text/plain": [
       "  0%|          | 0/37 [00:00<?, ?it/s]"
      ]
     },
     "metadata": {},
     "output_type": "display_data"
    },
    {
     "name": "stdout",
     "output_type": "stream",
     "text": [
      "epoch 28 average loss: 1.0485\n",
      "----------\n",
      "epoch 29/40  LR=0.00038726429973968697\n"
     ]
    },
    {
     "data": {
      "application/vnd.jupyter.widget-view+json": {
       "model_id": "",
       "version_major": 2,
       "version_minor": 0
      },
      "text/plain": [
       "  0%|          | 0/37 [00:00<?, ?it/s]"
      ]
     },
     "metadata": {},
     "output_type": "display_data"
    },
    {
     "name": "stdout",
     "output_type": "stream",
     "text": [
      "epoch 29 average loss: 1.0568\n",
      "----------\n",
      "epoch 30/40  LR=0.00033343276890856067\n"
     ]
    },
    {
     "data": {
      "application/vnd.jupyter.widget-view+json": {
       "model_id": "",
       "version_major": 2,
       "version_minor": 0
      },
      "text/plain": [
       "  0%|          | 0/37 [00:00<?, ?it/s]"
      ]
     },
     "metadata": {},
     "output_type": "display_data"
    },
    {
     "name": "stdout",
     "output_type": "stream",
     "text": [
      "epoch 30 average loss: 1.0533\n"
     ]
    },
    {
     "data": {
      "application/vnd.jupyter.widget-view+json": {
       "model_id": "",
       "version_major": 2,
       "version_minor": 0
      },
      "text/plain": [
       "  0%|          | 0/54 [00:00<?, ?it/s]"
      ]
     },
     "metadata": {},
     "output_type": "display_data"
    },
    {
     "name": "stdout",
     "output_type": "stream",
     "text": [
      "----------\n",
      "Validation\n",
      "Metric: 0.6476033329963684\n",
      "current epoch: 30 current mean dice: 0.6476 best mean dice: 0.6615 at epoch 5\n",
      "----------\n",
      "epoch 31/40  LR=0.00028169594280412843\n"
     ]
    },
    {
     "data": {
      "application/vnd.jupyter.widget-view+json": {
       "model_id": "",
       "version_major": 2,
       "version_minor": 0
      },
      "text/plain": [
       "  0%|          | 0/37 [00:00<?, ?it/s]"
      ]
     },
     "metadata": {},
     "output_type": "display_data"
    },
    {
     "name": "stdout",
     "output_type": "stream",
     "text": [
      "epoch 31 average loss: 1.0498\n",
      "----------\n",
      "epoch 32/40  LR=0.00023270444203305884\n"
     ]
    },
    {
     "data": {
      "application/vnd.jupyter.widget-view+json": {
       "model_id": "",
       "version_major": 2,
       "version_minor": 0
      },
      "text/plain": [
       "  0%|          | 0/37 [00:00<?, ?it/s]"
      ]
     },
     "metadata": {},
     "output_type": "display_data"
    },
    {
     "name": "stdout",
     "output_type": "stream",
     "text": [
      "epoch 32 average loss: 1.0524\n",
      "----------\n",
      "epoch 33/40  LR=0.0001870743631430792\n"
     ]
    },
    {
     "data": {
      "application/vnd.jupyter.widget-view+json": {
       "model_id": "",
       "version_major": 2,
       "version_minor": 0
      },
      "text/plain": [
       "  0%|          | 0/37 [00:00<?, ?it/s]"
      ]
     },
     "metadata": {},
     "output_type": "display_data"
    },
    {
     "name": "stdout",
     "output_type": "stream",
     "text": [
      "epoch 33 average loss: 1.0483\n",
      "----------\n",
      "epoch 34/40  LR=0.0001453795308514192\n"
     ]
    },
    {
     "data": {
      "application/vnd.jupyter.widget-view+json": {
       "model_id": "",
       "version_major": 2,
       "version_minor": 0
      },
      "text/plain": [
       "  0%|          | 0/37 [00:00<?, ?it/s]"
      ]
     },
     "metadata": {},
     "output_type": "display_data"
    },
    {
     "name": "stdout",
     "output_type": "stream",
     "text": [
      "epoch 34 average loss: 1.0477\n",
      "----------\n",
      "epoch 35/40  LR=0.00010814428186605209\n"
     ]
    },
    {
     "data": {
      "application/vnd.jupyter.widget-view+json": {
       "model_id": "",
       "version_major": 2,
       "version_minor": 0
      },
      "text/plain": [
       "  0%|          | 0/37 [00:00<?, ?it/s]"
      ]
     },
     "metadata": {},
     "output_type": "display_data"
    },
    {
     "name": "stdout",
     "output_type": "stream",
     "text": [
      "epoch 35 average loss: 1.0480\n"
     ]
    },
    {
     "data": {
      "application/vnd.jupyter.widget-view+json": {
       "model_id": "",
       "version_major": 2,
       "version_minor": 0
      },
      "text/plain": [
       "  0%|          | 0/54 [00:00<?, ?it/s]"
      ]
     },
     "metadata": {},
     "output_type": "display_data"
    },
    {
     "name": "stdout",
     "output_type": "stream",
     "text": [
      "----------\n",
      "Validation\n",
      "Metric: 0.7189556956291199\n",
      "saved new best metric model\n",
      "current epoch: 35 current mean dice: 0.7190 best mean dice: 0.7190 at epoch 35\n",
      "----------\n",
      "epoch 36/40  LR=7.58368710473634e-05\n"
     ]
    },
    {
     "data": {
      "application/vnd.jupyter.widget-view+json": {
       "model_id": "",
       "version_major": 2,
       "version_minor": 0
      },
      "text/plain": [
       "  0%|          | 0/37 [00:00<?, ?it/s]"
      ]
     },
     "metadata": {},
     "output_type": "display_data"
    },
    {
     "name": "stdout",
     "output_type": "stream",
     "text": [
      "epoch 36 average loss: 1.0495\n",
      "----------\n",
      "epoch 37/40  LR=4.886358283159439e-05\n"
     ]
    },
    {
     "data": {
      "application/vnd.jupyter.widget-view+json": {
       "model_id": "",
       "version_major": 2,
       "version_minor": 0
      },
      "text/plain": [
       "  0%|          | 0/37 [00:00<?, ?it/s]"
      ]
     },
     "metadata": {},
     "output_type": "display_data"
    },
    {
     "name": "stdout",
     "output_type": "stream",
     "text": [
      "epoch 37 average loss: 1.0448\n",
      "----------\n",
      "epoch 38/40  LR=2.756362196832472e-05\n"
     ]
    },
    {
     "data": {
      "application/vnd.jupyter.widget-view+json": {
       "model_id": "",
       "version_major": 2,
       "version_minor": 0
      },
      "text/plain": [
       "  0%|          | 0/37 [00:00<?, ?it/s]"
      ]
     },
     "metadata": {},
     "output_type": "display_data"
    },
    {
     "name": "stdout",
     "output_type": "stream",
     "text": [
      "epoch 38 average loss: 1.0473\n",
      "----------\n",
      "epoch 39/40  LR=1.2204847823935208e-05\n"
     ]
    },
    {
     "data": {
      "application/vnd.jupyter.widget-view+json": {
       "model_id": "",
       "version_major": 2,
       "version_minor": 0
      },
      "text/plain": [
       "  0%|          | 0/37 [00:00<?, ?it/s]"
      ]
     },
     "metadata": {},
     "output_type": "display_data"
    },
    {
     "name": "stdout",
     "output_type": "stream",
     "text": [
      "epoch 39 average loss: 1.0468\n",
      "----------\n",
      "epoch 40/40  LR=2.9804058946599423e-06\n"
     ]
    },
    {
     "data": {
      "application/vnd.jupyter.widget-view+json": {
       "model_id": "",
       "version_major": 2,
       "version_minor": 0
      },
      "text/plain": [
       "  0%|          | 0/37 [00:00<?, ?it/s]"
      ]
     },
     "metadata": {},
     "output_type": "display_data"
    },
    {
     "name": "stdout",
     "output_type": "stream",
     "text": [
      "epoch 40 average loss: 1.0439\n"
     ]
    },
    {
     "data": {
      "application/vnd.jupyter.widget-view+json": {
       "model_id": "",
       "version_major": 2,
       "version_minor": 0
      },
      "text/plain": [
       "  0%|          | 0/54 [00:00<?, ?it/s]"
      ]
     },
     "metadata": {},
     "output_type": "display_data"
    },
    {
     "name": "stdout",
     "output_type": "stream",
     "text": [
      "----------\n",
      "Validation\n",
      "Metric: 0.71403968334198\n",
      "current epoch: 40 current mean dice: 0.7140 best mean dice: 0.7190 at epoch 35\n",
      "----------\n",
      "fold 2/5\n",
      "Train Length: 219 Val Length: 55\n",
      "----------\n",
      "epoch 1/40  LR=3.9999999999999996e-05\n"
     ]
    },
    {
     "data": {
      "application/vnd.jupyter.widget-view+json": {
       "model_id": "",
       "version_major": 2,
       "version_minor": 0
      },
      "text/plain": [
       "  0%|          | 0/37 [00:00<?, ?it/s]"
      ]
     },
     "metadata": {},
     "output_type": "display_data"
    },
    {
     "name": "stdout",
     "output_type": "stream",
     "text": [
      "epoch 1 average loss: 1.0515\n",
      "----------\n",
      "epoch 2/40  LR=5.6429102309004894e-05\n"
     ]
    },
    {
     "data": {
      "application/vnd.jupyter.widget-view+json": {
       "model_id": "",
       "version_major": 2,
       "version_minor": 0
      },
      "text/plain": [
       "  0%|          | 0/37 [00:00<?, ?it/s]"
      ]
     },
     "metadata": {},
     "output_type": "display_data"
    },
    {
     "name": "stdout",
     "output_type": "stream",
     "text": [
      "epoch 2 average loss: 1.0468\n",
      "----------\n",
      "epoch 3/40  LR=0.00010459176172485389\n"
     ]
    },
    {
     "data": {
      "application/vnd.jupyter.widget-view+json": {
       "model_id": "",
       "version_major": 2,
       "version_minor": 0
      },
      "text/plain": [
       "  0%|          | 0/37 [00:00<?, ?it/s]"
      ]
     },
     "metadata": {},
     "output_type": "display_data"
    },
    {
     "name": "stdout",
     "output_type": "stream",
     "text": [
      "epoch 3 average loss: 1.0463\n",
      "----------\n",
      "epoch 4/40  LR=0.00018119102300164392\n"
     ]
    },
    {
     "data": {
      "application/vnd.jupyter.widget-view+json": {
       "model_id": "",
       "version_major": 2,
       "version_minor": 0
      },
      "text/plain": [
       "  0%|          | 0/37 [00:00<?, ?it/s]"
      ]
     },
     "metadata": {},
     "output_type": "display_data"
    },
    {
     "name": "stdout",
     "output_type": "stream",
     "text": [
      "epoch 4 average loss: 1.0488\n",
      "----------\n",
      "epoch 5/40  LR=0.00028098331488808095\n"
     ]
    },
    {
     "data": {
      "application/vnd.jupyter.widget-view+json": {
       "model_id": "",
       "version_major": 2,
       "version_minor": 0
      },
      "text/plain": [
       "  0%|          | 0/37 [00:00<?, ?it/s]"
      ]
     },
     "metadata": {},
     "output_type": "display_data"
    },
    {
     "name": "stdout",
     "output_type": "stream",
     "text": [
      "epoch 5 average loss: 1.0500\n"
     ]
    },
    {
     "data": {
      "application/vnd.jupyter.widget-view+json": {
       "model_id": "",
       "version_major": 2,
       "version_minor": 0
      },
      "text/plain": [
       "  0%|          | 0/55 [00:00<?, ?it/s]"
      ]
     },
     "metadata": {},
     "output_type": "display_data"
    },
    {
     "name": "stdout",
     "output_type": "stream",
     "text": [
      "----------\n",
      "Validation\n",
      "Metric: 0.6480301022529602\n",
      "saved new best metric model\n",
      "current epoch: 5 current mean dice: 0.6480 best mean dice: 0.6480 at epoch 5\n",
      "----------\n",
      "epoch 6/40  LR=0.00039713739666311337\n"
     ]
    },
    {
     "data": {
      "application/vnd.jupyter.widget-view+json": {
       "model_id": "",
       "version_major": 2,
       "version_minor": 0
      },
      "text/plain": [
       "  0%|          | 0/37 [00:00<?, ?it/s]"
      ]
     },
     "metadata": {},
     "output_type": "display_data"
    },
    {
     "name": "stdout",
     "output_type": "stream",
     "text": [
      "epoch 6 average loss: 1.0526\n",
      "----------\n",
      "epoch 7/40  LR=0.0005217019879388641\n"
     ]
    },
    {
     "data": {
      "application/vnd.jupyter.widget-view+json": {
       "model_id": "",
       "version_major": 2,
       "version_minor": 0
      },
      "text/plain": [
       "  0%|          | 0/37 [00:00<?, ?it/s]"
      ]
     },
     "metadata": {},
     "output_type": "display_data"
    },
    {
     "name": "stdout",
     "output_type": "stream",
     "text": [
      "epoch 7 average loss: 1.0544\n",
      "----------\n",
      "epoch 8/40  LR=0.0006461500703230469\n"
     ]
    },
    {
     "data": {
      "application/vnd.jupyter.widget-view+json": {
       "model_id": "",
       "version_major": 2,
       "version_minor": 0
      },
      "text/plain": [
       "  0%|          | 0/37 [00:00<?, ?it/s]"
      ]
     },
     "metadata": {},
     "output_type": "display_data"
    },
    {
     "name": "stdout",
     "output_type": "stream",
     "text": [
      "epoch 8 average loss: 1.0614\n",
      "----------\n",
      "epoch 9/40  LR=0.0007619626009921238\n"
     ]
    },
    {
     "data": {
      "application/vnd.jupyter.widget-view+json": {
       "model_id": "",
       "version_major": 2,
       "version_minor": 0
      },
      "text/plain": [
       "  0%|          | 0/37 [00:00<?, ?it/s]"
      ]
     },
     "metadata": {},
     "output_type": "display_data"
    },
    {
     "name": "stdout",
     "output_type": "stream",
     "text": [
      "epoch 9 average loss: 1.0656\n",
      "----------\n",
      "epoch 10/40  LR=0.0008612116803001482\n"
     ]
    },
    {
     "data": {
      "application/vnd.jupyter.widget-view+json": {
       "model_id": "",
       "version_major": 2,
       "version_minor": 0
      },
      "text/plain": [
       "  0%|          | 0/37 [00:00<?, ?it/s]"
      ]
     },
     "metadata": {},
     "output_type": "display_data"
    },
    {
     "name": "stdout",
     "output_type": "stream",
     "text": [
      "epoch 10 average loss: 1.0645\n"
     ]
    },
    {
     "data": {
      "application/vnd.jupyter.widget-view+json": {
       "model_id": "",
       "version_major": 2,
       "version_minor": 0
      },
      "text/plain": [
       "  0%|          | 0/55 [00:00<?, ?it/s]"
      ]
     },
     "metadata": {},
     "output_type": "display_data"
    },
    {
     "name": "stdout",
     "output_type": "stream",
     "text": [
      "----------\n",
      "Validation\n",
      "Metric: 0.35806766152381897\n",
      "current epoch: 10 current mean dice: 0.3581 best mean dice: 0.6480 at epoch 5\n",
      "----------\n",
      "epoch 11/40  LR=0.0009371032529220119\n"
     ]
    },
    {
     "data": {
      "application/vnd.jupyter.widget-view+json": {
       "model_id": "",
       "version_major": 2,
       "version_minor": 0
      },
      "text/plain": [
       "  0%|          | 0/37 [00:00<?, ?it/s]"
      ]
     },
     "metadata": {},
     "output_type": "display_data"
    },
    {
     "name": "stdout",
     "output_type": "stream",
     "text": [
      "epoch 11 average loss: 1.0664\n",
      "----------\n",
      "epoch 12/40  LR=0.0009844421921452319\n"
     ]
    },
    {
     "data": {
      "application/vnd.jupyter.widget-view+json": {
       "model_id": "",
       "version_major": 2,
       "version_minor": 0
      },
      "text/plain": [
       "  0%|          | 0/37 [00:00<?, ?it/s]"
      ]
     },
     "metadata": {},
     "output_type": "display_data"
    },
    {
     "name": "stdout",
     "output_type": "stream",
     "text": [
      "epoch 12 average loss: 1.0659\n",
      "----------\n",
      "epoch 13/40  LR=0.0009999977011100945\n"
     ]
    },
    {
     "data": {
      "application/vnd.jupyter.widget-view+json": {
       "model_id": "",
       "version_major": 2,
       "version_minor": 0
      },
      "text/plain": [
       "  0%|          | 0/37 [00:00<?, ?it/s]"
      ]
     },
     "metadata": {},
     "output_type": "display_data"
    },
    {
     "name": "stdout",
     "output_type": "stream",
     "text": [
      "epoch 13 average loss: 1.0672\n",
      "----------\n",
      "epoch 14/40  LR=0.0009966840720691266\n"
     ]
    },
    {
     "data": {
      "application/vnd.jupyter.widget-view+json": {
       "model_id": "",
       "version_major": 2,
       "version_minor": 0
      },
      "text/plain": [
       "  0%|          | 0/37 [00:00<?, ?it/s]"
      ]
     },
     "metadata": {},
     "output_type": "display_data"
    },
    {
     "name": "stdout",
     "output_type": "stream",
     "text": [
      "epoch 14 average loss: 1.0680\n",
      "----------\n",
      "epoch 15/40  LR=0.0009871243777902386\n"
     ]
    },
    {
     "data": {
      "application/vnd.jupyter.widget-view+json": {
       "model_id": "",
       "version_major": 2,
       "version_minor": 0
      },
      "text/plain": [
       "  0%|          | 0/37 [00:00<?, ?it/s]"
      ]
     },
     "metadata": {},
     "output_type": "display_data"
    },
    {
     "name": "stdout",
     "output_type": "stream",
     "text": [
      "epoch 15 average loss: 1.0629\n"
     ]
    },
    {
     "data": {
      "application/vnd.jupyter.widget-view+json": {
       "model_id": "",
       "version_major": 2,
       "version_minor": 0
      },
      "text/plain": [
       "  0%|          | 0/55 [00:00<?, ?it/s]"
      ]
     },
     "metadata": {},
     "output_type": "display_data"
    },
    {
     "name": "stdout",
     "output_type": "stream",
     "text": [
      "----------\n",
      "Validation\n",
      "Metric: 0.4919479489326477\n",
      "current epoch: 15 current mean dice: 0.4919 best mean dice: 0.6480 at epoch 5\n",
      "----------\n",
      "epoch 16/40  LR=0.0009714388369756511\n"
     ]
    },
    {
     "data": {
      "application/vnd.jupyter.widget-view+json": {
       "model_id": "",
       "version_major": 2,
       "version_minor": 0
      },
      "text/plain": [
       "  0%|          | 0/37 [00:00<?, ?it/s]"
      ]
     },
     "metadata": {},
     "output_type": "display_data"
    },
    {
     "name": "stdout",
     "output_type": "stream",
     "text": [
      "epoch 16 average loss: 1.0570\n",
      "----------\n",
      "epoch 17/40  LR=0.0009498247044020708\n"
     ]
    },
    {
     "data": {
      "application/vnd.jupyter.widget-view+json": {
       "model_id": "",
       "version_major": 2,
       "version_minor": 0
      },
      "text/plain": [
       "  0%|          | 0/37 [00:00<?, ?it/s]"
      ]
     },
     "metadata": {},
     "output_type": "display_data"
    },
    {
     "name": "stdout",
     "output_type": "stream",
     "text": [
      "epoch 17 average loss: 1.0585\n",
      "----------\n",
      "epoch 18/40  LR=0.000922553790327422\n"
     ]
    },
    {
     "data": {
      "application/vnd.jupyter.widget-view+json": {
       "model_id": "",
       "version_major": 2,
       "version_minor": 0
      },
      "text/plain": [
       "  0%|          | 0/37 [00:00<?, ?it/s]"
      ]
     },
     "metadata": {},
     "output_type": "display_data"
    },
    {
     "name": "stdout",
     "output_type": "stream",
     "text": [
      "epoch 18 average loss: 1.0699\n",
      "----------\n",
      "epoch 19/40  LR=0.0008899690423191465\n"
     ]
    },
    {
     "data": {
      "application/vnd.jupyter.widget-view+json": {
       "model_id": "",
       "version_major": 2,
       "version_minor": 0
      },
      "text/plain": [
       "  0%|          | 0/37 [00:00<?, ?it/s]"
      ]
     },
     "metadata": {},
     "output_type": "display_data"
    },
    {
     "name": "stdout",
     "output_type": "stream",
     "text": [
      "epoch 19 average loss: 1.0703\n",
      "----------\n",
      "epoch 20/40  LR=0.0008524802324895594\n"
     ]
    },
    {
     "data": {
      "application/vnd.jupyter.widget-view+json": {
       "model_id": "",
       "version_major": 2,
       "version_minor": 0
      },
      "text/plain": [
       "  0%|          | 0/37 [00:00<?, ?it/s]"
      ]
     },
     "metadata": {},
     "output_type": "display_data"
    },
    {
     "name": "stdout",
     "output_type": "stream",
     "text": [
      "epoch 20 average loss: 1.0701\n"
     ]
    },
    {
     "data": {
      "application/vnd.jupyter.widget-view+json": {
       "model_id": "",
       "version_major": 2,
       "version_minor": 0
      },
      "text/plain": [
       "  0%|          | 0/55 [00:00<?, ?it/s]"
      ]
     },
     "metadata": {},
     "output_type": "display_data"
    },
    {
     "name": "stdout",
     "output_type": "stream",
     "text": [
      "----------\n",
      "Validation\n",
      "Metric: 0.47185617685317993\n",
      "current epoch: 20 current mean dice: 0.4719 best mean dice: 0.6480 at epoch 5\n",
      "----------\n",
      "epoch 21/40  LR=0.000810558804373782\n"
     ]
    },
    {
     "data": {
      "application/vnd.jupyter.widget-view+json": {
       "model_id": "",
       "version_major": 2,
       "version_minor": 0
      },
      "text/plain": [
       "  0%|          | 0/37 [00:00<?, ?it/s]"
      ]
     },
     "metadata": {},
     "output_type": "display_data"
    },
    {
     "name": "stdout",
     "output_type": "stream",
     "text": [
      "epoch 21 average loss: 1.0593\n",
      "----------\n",
      "epoch 22/40  LR=0.0007647319442537491\n"
     ]
    },
    {
     "data": {
      "application/vnd.jupyter.widget-view+json": {
       "model_id": "",
       "version_major": 2,
       "version_minor": 0
      },
      "text/plain": [
       "  0%|          | 0/37 [00:00<?, ?it/s]"
      ]
     },
     "metadata": {},
     "output_type": "display_data"
    },
    {
     "name": "stdout",
     "output_type": "stream",
     "text": [
      "epoch 22 average loss: 1.0644\n",
      "----------\n",
      "epoch 23/40  LR=0.0007155759514848339\n"
     ]
    },
    {
     "data": {
      "application/vnd.jupyter.widget-view+json": {
       "model_id": "",
       "version_major": 2,
       "version_minor": 0
      },
      "text/plain": [
       "  0%|          | 0/37 [00:00<?, ?it/s]"
      ]
     },
     "metadata": {},
     "output_type": "display_data"
    },
    {
     "name": "stdout",
     "output_type": "stream",
     "text": [
      "epoch 23 average loss: 1.0622\n",
      "----------\n",
      "epoch 24/40  LR=0.000663708991197077\n"
     ]
    },
    {
     "data": {
      "application/vnd.jupyter.widget-view+json": {
       "model_id": "",
       "version_major": 2,
       "version_minor": 0
      },
      "text/plain": [
       "  0%|          | 0/37 [00:00<?, ?it/s]"
      ]
     },
     "metadata": {},
     "output_type": "display_data"
    },
    {
     "name": "stdout",
     "output_type": "stream",
     "text": [
      "epoch 24 average loss: 1.0594\n",
      "----------\n",
      "epoch 25/40  LR=0.0006097833205100079\n"
     ]
    },
    {
     "data": {
      "application/vnd.jupyter.widget-view+json": {
       "model_id": "",
       "version_major": 2,
       "version_minor": 0
      },
      "text/plain": [
       "  0%|          | 0/37 [00:00<?, ?it/s]"
      ]
     },
     "metadata": {},
     "output_type": "display_data"
    },
    {
     "name": "stdout",
     "output_type": "stream",
     "text": [
      "epoch 25 average loss: 1.0617\n"
     ]
    },
    {
     "data": {
      "application/vnd.jupyter.widget-view+json": {
       "model_id": "",
       "version_major": 2,
       "version_minor": 0
      },
      "text/plain": [
       "  0%|          | 0/55 [00:00<?, ?it/s]"
      ]
     },
     "metadata": {},
     "output_type": "display_data"
    },
    {
     "name": "stdout",
     "output_type": "stream",
     "text": [
      "----------\n",
      "Validation\n",
      "Metric: 0.6453748345375061\n",
      "current epoch: 25 current mean dice: 0.6454 best mean dice: 0.6480 at epoch 5\n",
      "----------\n",
      "epoch 26/40  LR=0.0005544770860209196\n"
     ]
    },
    {
     "data": {
      "application/vnd.jupyter.widget-view+json": {
       "model_id": "",
       "version_major": 2,
       "version_minor": 0
      },
      "text/plain": [
       "  0%|          | 0/37 [00:00<?, ?it/s]"
      ]
     },
     "metadata": {},
     "output_type": "display_data"
    },
    {
     "name": "stdout",
     "output_type": "stream",
     "text": [
      "epoch 26 average loss: 1.0583\n",
      "----------\n",
      "epoch 27/40  LR=0.0004984857957179372\n"
     ]
    },
    {
     "data": {
      "application/vnd.jupyter.widget-view+json": {
       "model_id": "",
       "version_major": 2,
       "version_minor": 0
      },
      "text/plain": [
       "  0%|          | 0/37 [00:00<?, ?it/s]"
      ]
     },
     "metadata": {},
     "output_type": "display_data"
    },
    {
     "name": "stdout",
     "output_type": "stream",
     "text": [
      "epoch 27 average loss: 1.0561\n",
      "----------\n",
      "epoch 28/40  LR=0.000442513572563524\n"
     ]
    },
    {
     "data": {
      "application/vnd.jupyter.widget-view+json": {
       "model_id": "",
       "version_major": 2,
       "version_minor": 0
      },
      "text/plain": [
       "  0%|          | 0/37 [00:00<?, ?it/s]"
      ]
     },
     "metadata": {},
     "output_type": "display_data"
    },
    {
     "name": "stdout",
     "output_type": "stream",
     "text": [
      "epoch 28 average loss: 1.0571\n",
      "----------\n",
      "epoch 29/40  LR=0.00038726429973968697\n"
     ]
    },
    {
     "data": {
      "application/vnd.jupyter.widget-view+json": {
       "model_id": "",
       "version_major": 2,
       "version_minor": 0
      },
      "text/plain": [
       "  0%|          | 0/37 [00:00<?, ?it/s]"
      ]
     },
     "metadata": {},
     "output_type": "display_data"
    },
    {
     "name": "stdout",
     "output_type": "stream",
     "text": [
      "epoch 29 average loss: 1.0588\n",
      "----------\n",
      "epoch 30/40  LR=0.00033343276890856067\n"
     ]
    },
    {
     "data": {
      "application/vnd.jupyter.widget-view+json": {
       "model_id": "",
       "version_major": 2,
       "version_minor": 0
      },
      "text/plain": [
       "  0%|          | 0/37 [00:00<?, ?it/s]"
      ]
     },
     "metadata": {},
     "output_type": "display_data"
    },
    {
     "name": "stdout",
     "output_type": "stream",
     "text": [
      "epoch 30 average loss: 1.0485\n"
     ]
    },
    {
     "data": {
      "application/vnd.jupyter.widget-view+json": {
       "model_id": "",
       "version_major": 2,
       "version_minor": 0
      },
      "text/plain": [
       "  0%|          | 0/55 [00:00<?, ?it/s]"
      ]
     },
     "metadata": {},
     "output_type": "display_data"
    },
    {
     "name": "stdout",
     "output_type": "stream",
     "text": [
      "----------\n",
      "Validation\n",
      "Metric: 0.6472752094268799\n",
      "current epoch: 30 current mean dice: 0.6473 best mean dice: 0.6480 at epoch 5\n",
      "----------\n",
      "epoch 31/40  LR=0.00028169594280412843\n"
     ]
    },
    {
     "data": {
      "application/vnd.jupyter.widget-view+json": {
       "model_id": "",
       "version_major": 2,
       "version_minor": 0
      },
      "text/plain": [
       "  0%|          | 0/37 [00:00<?, ?it/s]"
      ]
     },
     "metadata": {},
     "output_type": "display_data"
    },
    {
     "name": "stdout",
     "output_type": "stream",
     "text": [
      "epoch 31 average loss: 1.0521\n",
      "----------\n",
      "epoch 32/40  LR=0.00023270444203305884\n"
     ]
    },
    {
     "data": {
      "application/vnd.jupyter.widget-view+json": {
       "model_id": "",
       "version_major": 2,
       "version_minor": 0
      },
      "text/plain": [
       "  0%|          | 0/37 [00:00<?, ?it/s]"
      ]
     },
     "metadata": {},
     "output_type": "display_data"
    },
    {
     "name": "stdout",
     "output_type": "stream",
     "text": [
      "epoch 32 average loss: 1.0511\n",
      "----------\n",
      "epoch 33/40  LR=0.0001870743631430792\n"
     ]
    },
    {
     "data": {
      "application/vnd.jupyter.widget-view+json": {
       "model_id": "",
       "version_major": 2,
       "version_minor": 0
      },
      "text/plain": [
       "  0%|          | 0/37 [00:00<?, ?it/s]"
      ]
     },
     "metadata": {},
     "output_type": "display_data"
    },
    {
     "name": "stdout",
     "output_type": "stream",
     "text": [
      "epoch 33 average loss: 1.0485\n",
      "----------\n",
      "epoch 34/40  LR=0.0001453795308514192\n"
     ]
    },
    {
     "data": {
      "application/vnd.jupyter.widget-view+json": {
       "model_id": "",
       "version_major": 2,
       "version_minor": 0
      },
      "text/plain": [
       "  0%|          | 0/37 [00:00<?, ?it/s]"
      ]
     },
     "metadata": {},
     "output_type": "display_data"
    },
    {
     "name": "stdout",
     "output_type": "stream",
     "text": [
      "epoch 34 average loss: 1.0509\n",
      "----------\n",
      "epoch 35/40  LR=0.00010814428186605209\n"
     ]
    },
    {
     "data": {
      "application/vnd.jupyter.widget-view+json": {
       "model_id": "",
       "version_major": 2,
       "version_minor": 0
      },
      "text/plain": [
       "  0%|          | 0/37 [00:00<?, ?it/s]"
      ]
     },
     "metadata": {},
     "output_type": "display_data"
    },
    {
     "name": "stdout",
     "output_type": "stream",
     "text": [
      "epoch 35 average loss: 1.0484\n"
     ]
    },
    {
     "data": {
      "application/vnd.jupyter.widget-view+json": {
       "model_id": "",
       "version_major": 2,
       "version_minor": 0
      },
      "text/plain": [
       "  0%|          | 0/55 [00:00<?, ?it/s]"
      ]
     },
     "metadata": {},
     "output_type": "display_data"
    },
    {
     "name": "stdout",
     "output_type": "stream",
     "text": [
      "----------\n",
      "Validation\n",
      "Metric: 0.7074880599975586\n",
      "saved new best metric model\n",
      "current epoch: 35 current mean dice: 0.7075 best mean dice: 0.7075 at epoch 35\n",
      "----------\n",
      "epoch 36/40  LR=7.58368710473634e-05\n"
     ]
    },
    {
     "data": {
      "application/vnd.jupyter.widget-view+json": {
       "model_id": "",
       "version_major": 2,
       "version_minor": 0
      },
      "text/plain": [
       "  0%|          | 0/37 [00:00<?, ?it/s]"
      ]
     },
     "metadata": {},
     "output_type": "display_data"
    },
    {
     "name": "stdout",
     "output_type": "stream",
     "text": [
      "epoch 36 average loss: 1.0458\n",
      "----------\n",
      "epoch 37/40  LR=4.886358283159439e-05\n"
     ]
    },
    {
     "data": {
      "application/vnd.jupyter.widget-view+json": {
       "model_id": "",
       "version_major": 2,
       "version_minor": 0
      },
      "text/plain": [
       "  0%|          | 0/37 [00:00<?, ?it/s]"
      ]
     },
     "metadata": {},
     "output_type": "display_data"
    },
    {
     "name": "stdout",
     "output_type": "stream",
     "text": [
      "epoch 37 average loss: 1.0459\n",
      "----------\n",
      "epoch 38/40  LR=2.756362196832472e-05\n"
     ]
    },
    {
     "data": {
      "application/vnd.jupyter.widget-view+json": {
       "model_id": "",
       "version_major": 2,
       "version_minor": 0
      },
      "text/plain": [
       "  0%|          | 0/37 [00:00<?, ?it/s]"
      ]
     },
     "metadata": {},
     "output_type": "display_data"
    },
    {
     "name": "stdout",
     "output_type": "stream",
     "text": [
      "epoch 38 average loss: 1.0495\n",
      "----------\n",
      "epoch 39/40  LR=1.2204847823935208e-05\n"
     ]
    },
    {
     "data": {
      "application/vnd.jupyter.widget-view+json": {
       "model_id": "",
       "version_major": 2,
       "version_minor": 0
      },
      "text/plain": [
       "  0%|          | 0/37 [00:00<?, ?it/s]"
      ]
     },
     "metadata": {},
     "output_type": "display_data"
    },
    {
     "name": "stdout",
     "output_type": "stream",
     "text": [
      "epoch 39 average loss: 1.0450\n",
      "----------\n",
      "epoch 40/40  LR=2.9804058946599423e-06\n"
     ]
    },
    {
     "data": {
      "application/vnd.jupyter.widget-view+json": {
       "model_id": "",
       "version_major": 2,
       "version_minor": 0
      },
      "text/plain": [
       "  0%|          | 0/37 [00:00<?, ?it/s]"
      ]
     },
     "metadata": {},
     "output_type": "display_data"
    },
    {
     "name": "stdout",
     "output_type": "stream",
     "text": [
      "epoch 40 average loss: 1.0473\n"
     ]
    },
    {
     "data": {
      "application/vnd.jupyter.widget-view+json": {
       "model_id": "",
       "version_major": 2,
       "version_minor": 0
      },
      "text/plain": [
       "  0%|          | 0/55 [00:00<?, ?it/s]"
      ]
     },
     "metadata": {},
     "output_type": "display_data"
    },
    {
     "name": "stdout",
     "output_type": "stream",
     "text": [
      "----------\n",
      "Validation\n",
      "Metric: 0.7216598391532898\n",
      "saved new best metric model\n",
      "current epoch: 40 current mean dice: 0.7217 best mean dice: 0.7217 at epoch 40\n",
      "----------\n",
      "fold 3/5\n",
      "Train Length: 219 Val Length: 55\n",
      "----------\n",
      "epoch 1/40  LR=3.9999999999999996e-05\n"
     ]
    },
    {
     "data": {
      "application/vnd.jupyter.widget-view+json": {
       "model_id": "",
       "version_major": 2,
       "version_minor": 0
      },
      "text/plain": [
       "  0%|          | 0/37 [00:00<?, ?it/s]"
      ]
     },
     "metadata": {},
     "output_type": "display_data"
    },
    {
     "name": "stdout",
     "output_type": "stream",
     "text": [
      "epoch 1 average loss: 1.0498\n",
      "----------\n",
      "epoch 2/40  LR=5.6429102309004894e-05\n"
     ]
    },
    {
     "data": {
      "application/vnd.jupyter.widget-view+json": {
       "model_id": "",
       "version_major": 2,
       "version_minor": 0
      },
      "text/plain": [
       "  0%|          | 0/37 [00:00<?, ?it/s]"
      ]
     },
     "metadata": {},
     "output_type": "display_data"
    },
    {
     "name": "stdout",
     "output_type": "stream",
     "text": [
      "epoch 2 average loss: 1.0476\n",
      "----------\n",
      "epoch 3/40  LR=0.00010459176172485389\n"
     ]
    },
    {
     "data": {
      "application/vnd.jupyter.widget-view+json": {
       "model_id": "",
       "version_major": 2,
       "version_minor": 0
      },
      "text/plain": [
       "  0%|          | 0/37 [00:00<?, ?it/s]"
      ]
     },
     "metadata": {},
     "output_type": "display_data"
    },
    {
     "name": "stdout",
     "output_type": "stream",
     "text": [
      "epoch 3 average loss: 1.0449\n",
      "----------\n",
      "epoch 4/40  LR=0.00018119102300164392\n"
     ]
    },
    {
     "data": {
      "application/vnd.jupyter.widget-view+json": {
       "model_id": "",
       "version_major": 2,
       "version_minor": 0
      },
      "text/plain": [
       "  0%|          | 0/37 [00:00<?, ?it/s]"
      ]
     },
     "metadata": {},
     "output_type": "display_data"
    },
    {
     "name": "stdout",
     "output_type": "stream",
     "text": [
      "epoch 4 average loss: 1.0502\n",
      "----------\n",
      "epoch 5/40  LR=0.00028098331488808095\n"
     ]
    },
    {
     "data": {
      "application/vnd.jupyter.widget-view+json": {
       "model_id": "",
       "version_major": 2,
       "version_minor": 0
      },
      "text/plain": [
       "  0%|          | 0/37 [00:00<?, ?it/s]"
      ]
     },
     "metadata": {},
     "output_type": "display_data"
    },
    {
     "name": "stdout",
     "output_type": "stream",
     "text": [
      "epoch 5 average loss: 1.0579\n"
     ]
    },
    {
     "data": {
      "application/vnd.jupyter.widget-view+json": {
       "model_id": "",
       "version_major": 2,
       "version_minor": 0
      },
      "text/plain": [
       "  0%|          | 0/55 [00:00<?, ?it/s]"
      ]
     },
     "metadata": {},
     "output_type": "display_data"
    },
    {
     "name": "stdout",
     "output_type": "stream",
     "text": [
      "----------\n",
      "Validation\n",
      "Metric: 0.6022128462791443\n",
      "saved new best metric model\n",
      "current epoch: 5 current mean dice: 0.6022 best mean dice: 0.6022 at epoch 5\n",
      "----------\n",
      "epoch 6/40  LR=0.00039713739666311337\n"
     ]
    },
    {
     "data": {
      "application/vnd.jupyter.widget-view+json": {
       "model_id": "",
       "version_major": 2,
       "version_minor": 0
      },
      "text/plain": [
       "  0%|          | 0/37 [00:00<?, ?it/s]"
      ]
     },
     "metadata": {},
     "output_type": "display_data"
    },
    {
     "name": "stdout",
     "output_type": "stream",
     "text": [
      "epoch 6 average loss: 1.0576\n",
      "----------\n",
      "epoch 7/40  LR=0.0005217019879388641\n"
     ]
    },
    {
     "data": {
      "application/vnd.jupyter.widget-view+json": {
       "model_id": "",
       "version_major": 2,
       "version_minor": 0
      },
      "text/plain": [
       "  0%|          | 0/37 [00:00<?, ?it/s]"
      ]
     },
     "metadata": {},
     "output_type": "display_data"
    },
    {
     "name": "stdout",
     "output_type": "stream",
     "text": [
      "epoch 7 average loss: 1.0614\n",
      "----------\n",
      "epoch 8/40  LR=0.0006461500703230469\n"
     ]
    },
    {
     "data": {
      "application/vnd.jupyter.widget-view+json": {
       "model_id": "",
       "version_major": 2,
       "version_minor": 0
      },
      "text/plain": [
       "  0%|          | 0/37 [00:00<?, ?it/s]"
      ]
     },
     "metadata": {},
     "output_type": "display_data"
    },
    {
     "name": "stdout",
     "output_type": "stream",
     "text": [
      "epoch 8 average loss: 1.0573\n",
      "----------\n",
      "epoch 9/40  LR=0.0007619626009921238\n"
     ]
    },
    {
     "data": {
      "application/vnd.jupyter.widget-view+json": {
       "model_id": "",
       "version_major": 2,
       "version_minor": 0
      },
      "text/plain": [
       "  0%|          | 0/37 [00:00<?, ?it/s]"
      ]
     },
     "metadata": {},
     "output_type": "display_data"
    },
    {
     "name": "stdout",
     "output_type": "stream",
     "text": [
      "epoch 9 average loss: 1.0633\n",
      "----------\n",
      "epoch 10/40  LR=0.0008612116803001482\n"
     ]
    },
    {
     "data": {
      "application/vnd.jupyter.widget-view+json": {
       "model_id": "",
       "version_major": 2,
       "version_minor": 0
      },
      "text/plain": [
       "  0%|          | 0/37 [00:00<?, ?it/s]"
      ]
     },
     "metadata": {},
     "output_type": "display_data"
    },
    {
     "name": "stdout",
     "output_type": "stream",
     "text": [
      "epoch 10 average loss: 1.0647\n"
     ]
    },
    {
     "data": {
      "application/vnd.jupyter.widget-view+json": {
       "model_id": "",
       "version_major": 2,
       "version_minor": 0
      },
      "text/plain": [
       "  0%|          | 0/55 [00:00<?, ?it/s]"
      ]
     },
     "metadata": {},
     "output_type": "display_data"
    },
    {
     "name": "stdout",
     "output_type": "stream",
     "text": [
      "----------\n",
      "Validation\n",
      "Metric: 0.45234403014183044\n",
      "current epoch: 10 current mean dice: 0.4523 best mean dice: 0.6022 at epoch 5\n",
      "----------\n",
      "epoch 11/40  LR=0.0009371032529220119\n"
     ]
    },
    {
     "data": {
      "application/vnd.jupyter.widget-view+json": {
       "model_id": "",
       "version_major": 2,
       "version_minor": 0
      },
      "text/plain": [
       "  0%|          | 0/37 [00:00<?, ?it/s]"
      ]
     },
     "metadata": {},
     "output_type": "display_data"
    },
    {
     "name": "stdout",
     "output_type": "stream",
     "text": [
      "epoch 11 average loss: 1.0625\n",
      "----------\n",
      "epoch 12/40  LR=0.0009844421921452319\n"
     ]
    },
    {
     "data": {
      "application/vnd.jupyter.widget-view+json": {
       "model_id": "",
       "version_major": 2,
       "version_minor": 0
      },
      "text/plain": [
       "  0%|          | 0/37 [00:00<?, ?it/s]"
      ]
     },
     "metadata": {},
     "output_type": "display_data"
    },
    {
     "name": "stdout",
     "output_type": "stream",
     "text": [
      "epoch 12 average loss: 1.0625\n",
      "----------\n",
      "epoch 13/40  LR=0.0009999977011100945\n"
     ]
    },
    {
     "data": {
      "application/vnd.jupyter.widget-view+json": {
       "model_id": "",
       "version_major": 2,
       "version_minor": 0
      },
      "text/plain": [
       "  0%|          | 0/37 [00:00<?, ?it/s]"
      ]
     },
     "metadata": {},
     "output_type": "display_data"
    },
    {
     "name": "stdout",
     "output_type": "stream",
     "text": [
      "epoch 13 average loss: 1.0653\n",
      "----------\n",
      "epoch 14/40  LR=0.0009966840720691266\n"
     ]
    },
    {
     "data": {
      "application/vnd.jupyter.widget-view+json": {
       "model_id": "",
       "version_major": 2,
       "version_minor": 0
      },
      "text/plain": [
       "  0%|          | 0/37 [00:00<?, ?it/s]"
      ]
     },
     "metadata": {},
     "output_type": "display_data"
    },
    {
     "name": "stdout",
     "output_type": "stream",
     "text": [
      "epoch 14 average loss: 1.0669\n",
      "----------\n",
      "epoch 15/40  LR=0.0009871243777902386\n"
     ]
    },
    {
     "data": {
      "application/vnd.jupyter.widget-view+json": {
       "model_id": "",
       "version_major": 2,
       "version_minor": 0
      },
      "text/plain": [
       "  0%|          | 0/37 [00:00<?, ?it/s]"
      ]
     },
     "metadata": {},
     "output_type": "display_data"
    },
    {
     "name": "stdout",
     "output_type": "stream",
     "text": [
      "epoch 15 average loss: 1.0714\n"
     ]
    },
    {
     "data": {
      "application/vnd.jupyter.widget-view+json": {
       "model_id": "",
       "version_major": 2,
       "version_minor": 0
      },
      "text/plain": [
       "  0%|          | 0/55 [00:00<?, ?it/s]"
      ]
     },
     "metadata": {},
     "output_type": "display_data"
    },
    {
     "name": "stdout",
     "output_type": "stream",
     "text": [
      "----------\n",
      "Validation\n",
      "Metric: 0.5169078707695007\n",
      "current epoch: 15 current mean dice: 0.5169 best mean dice: 0.6022 at epoch 5\n",
      "----------\n",
      "epoch 16/40  LR=0.0009714388369756511\n"
     ]
    },
    {
     "data": {
      "application/vnd.jupyter.widget-view+json": {
       "model_id": "",
       "version_major": 2,
       "version_minor": 0
      },
      "text/plain": [
       "  0%|          | 0/37 [00:00<?, ?it/s]"
      ]
     },
     "metadata": {},
     "output_type": "display_data"
    },
    {
     "name": "stdout",
     "output_type": "stream",
     "text": [
      "epoch 16 average loss: 1.0662\n",
      "----------\n",
      "epoch 17/40  LR=0.0009498247044020708\n"
     ]
    },
    {
     "data": {
      "application/vnd.jupyter.widget-view+json": {
       "model_id": "",
       "version_major": 2,
       "version_minor": 0
      },
      "text/plain": [
       "  0%|          | 0/37 [00:00<?, ?it/s]"
      ]
     },
     "metadata": {},
     "output_type": "display_data"
    },
    {
     "name": "stdout",
     "output_type": "stream",
     "text": [
      "epoch 17 average loss: 1.0575\n",
      "----------\n",
      "epoch 18/40  LR=0.000922553790327422\n"
     ]
    },
    {
     "data": {
      "application/vnd.jupyter.widget-view+json": {
       "model_id": "",
       "version_major": 2,
       "version_minor": 0
      },
      "text/plain": [
       "  0%|          | 0/37 [00:00<?, ?it/s]"
      ]
     },
     "metadata": {},
     "output_type": "display_data"
    },
    {
     "name": "stdout",
     "output_type": "stream",
     "text": [
      "epoch 18 average loss: 1.0639\n",
      "----------\n",
      "epoch 19/40  LR=0.0008899690423191465\n"
     ]
    },
    {
     "data": {
      "application/vnd.jupyter.widget-view+json": {
       "model_id": "",
       "version_major": 2,
       "version_minor": 0
      },
      "text/plain": [
       "  0%|          | 0/37 [00:00<?, ?it/s]"
      ]
     },
     "metadata": {},
     "output_type": "display_data"
    },
    {
     "name": "stdout",
     "output_type": "stream",
     "text": [
      "epoch 19 average loss: 1.0633\n",
      "----------\n",
      "epoch 20/40  LR=0.0008524802324895594\n"
     ]
    },
    {
     "data": {
      "application/vnd.jupyter.widget-view+json": {
       "model_id": "",
       "version_major": 2,
       "version_minor": 0
      },
      "text/plain": [
       "  0%|          | 0/37 [00:00<?, ?it/s]"
      ]
     },
     "metadata": {},
     "output_type": "display_data"
    },
    {
     "name": "stdout",
     "output_type": "stream",
     "text": [
      "epoch 20 average loss: 1.0593\n"
     ]
    },
    {
     "data": {
      "application/vnd.jupyter.widget-view+json": {
       "model_id": "",
       "version_major": 2,
       "version_minor": 0
      },
      "text/plain": [
       "  0%|          | 0/55 [00:00<?, ?it/s]"
      ]
     },
     "metadata": {},
     "output_type": "display_data"
    },
    {
     "name": "stdout",
     "output_type": "stream",
     "text": [
      "----------\n",
      "Validation\n",
      "Metric: 0.5310541987419128\n",
      "current epoch: 20 current mean dice: 0.5311 best mean dice: 0.6022 at epoch 5\n",
      "----------\n",
      "epoch 21/40  LR=0.000810558804373782\n"
     ]
    },
    {
     "data": {
      "application/vnd.jupyter.widget-view+json": {
       "model_id": "",
       "version_major": 2,
       "version_minor": 0
      },
      "text/plain": [
       "  0%|          | 0/37 [00:00<?, ?it/s]"
      ]
     },
     "metadata": {},
     "output_type": "display_data"
    },
    {
     "name": "stdout",
     "output_type": "stream",
     "text": [
      "epoch 21 average loss: 1.0612\n",
      "----------\n",
      "epoch 22/40  LR=0.0007647319442537491\n"
     ]
    },
    {
     "data": {
      "application/vnd.jupyter.widget-view+json": {
       "model_id": "",
       "version_major": 2,
       "version_minor": 0
      },
      "text/plain": [
       "  0%|          | 0/37 [00:00<?, ?it/s]"
      ]
     },
     "metadata": {},
     "output_type": "display_data"
    },
    {
     "name": "stdout",
     "output_type": "stream",
     "text": [
      "epoch 22 average loss: 1.0577\n",
      "----------\n",
      "epoch 23/40  LR=0.0007155759514848339\n"
     ]
    },
    {
     "data": {
      "application/vnd.jupyter.widget-view+json": {
       "model_id": "",
       "version_major": 2,
       "version_minor": 0
      },
      "text/plain": [
       "  0%|          | 0/37 [00:00<?, ?it/s]"
      ]
     },
     "metadata": {},
     "output_type": "display_data"
    },
    {
     "name": "stdout",
     "output_type": "stream",
     "text": [
      "epoch 23 average loss: 1.0584\n",
      "----------\n",
      "epoch 24/40  LR=0.000663708991197077\n"
     ]
    },
    {
     "data": {
      "application/vnd.jupyter.widget-view+json": {
       "model_id": "",
       "version_major": 2,
       "version_minor": 0
      },
      "text/plain": [
       "  0%|          | 0/37 [00:00<?, ?it/s]"
      ]
     },
     "metadata": {},
     "output_type": "display_data"
    },
    {
     "name": "stdout",
     "output_type": "stream",
     "text": [
      "epoch 24 average loss: 1.0560\n",
      "----------\n",
      "epoch 25/40  LR=0.0006097833205100079\n"
     ]
    },
    {
     "data": {
      "application/vnd.jupyter.widget-view+json": {
       "model_id": "",
       "version_major": 2,
       "version_minor": 0
      },
      "text/plain": [
       "  0%|          | 0/37 [00:00<?, ?it/s]"
      ]
     },
     "metadata": {},
     "output_type": "display_data"
    },
    {
     "name": "stdout",
     "output_type": "stream",
     "text": [
      "epoch 25 average loss: 1.0584\n"
     ]
    },
    {
     "data": {
      "application/vnd.jupyter.widget-view+json": {
       "model_id": "",
       "version_major": 2,
       "version_minor": 0
      },
      "text/plain": [
       "  0%|          | 0/55 [00:00<?, ?it/s]"
      ]
     },
     "metadata": {},
     "output_type": "display_data"
    },
    {
     "name": "stdout",
     "output_type": "stream",
     "text": [
      "----------\n",
      "Validation\n",
      "Metric: 0.5654608011245728\n",
      "current epoch: 25 current mean dice: 0.5655 best mean dice: 0.6022 at epoch 5\n",
      "----------\n",
      "epoch 26/40  LR=0.0005544770860209196\n"
     ]
    },
    {
     "data": {
      "application/vnd.jupyter.widget-view+json": {
       "model_id": "",
       "version_major": 2,
       "version_minor": 0
      },
      "text/plain": [
       "  0%|          | 0/37 [00:00<?, ?it/s]"
      ]
     },
     "metadata": {},
     "output_type": "display_data"
    },
    {
     "name": "stdout",
     "output_type": "stream",
     "text": [
      "epoch 26 average loss: 1.0563\n",
      "----------\n",
      "epoch 27/40  LR=0.0004984857957179372\n"
     ]
    },
    {
     "data": {
      "application/vnd.jupyter.widget-view+json": {
       "model_id": "",
       "version_major": 2,
       "version_minor": 0
      },
      "text/plain": [
       "  0%|          | 0/37 [00:00<?, ?it/s]"
      ]
     },
     "metadata": {},
     "output_type": "display_data"
    },
    {
     "name": "stdout",
     "output_type": "stream",
     "text": [
      "epoch 27 average loss: 1.0561\n",
      "----------\n",
      "epoch 28/40  LR=0.000442513572563524\n"
     ]
    },
    {
     "data": {
      "application/vnd.jupyter.widget-view+json": {
       "model_id": "",
       "version_major": 2,
       "version_minor": 0
      },
      "text/plain": [
       "  0%|          | 0/37 [00:00<?, ?it/s]"
      ]
     },
     "metadata": {},
     "output_type": "display_data"
    },
    {
     "name": "stdout",
     "output_type": "stream",
     "text": [
      "epoch 28 average loss: 1.0548\n",
      "----------\n",
      "epoch 29/40  LR=0.00038726429973968697\n"
     ]
    },
    {
     "data": {
      "application/vnd.jupyter.widget-view+json": {
       "model_id": "",
       "version_major": 2,
       "version_minor": 0
      },
      "text/plain": [
       "  0%|          | 0/37 [00:00<?, ?it/s]"
      ]
     },
     "metadata": {},
     "output_type": "display_data"
    },
    {
     "name": "stdout",
     "output_type": "stream",
     "text": [
      "epoch 29 average loss: 1.0477\n",
      "----------\n",
      "epoch 30/40  LR=0.00033343276890856067\n"
     ]
    },
    {
     "data": {
      "application/vnd.jupyter.widget-view+json": {
       "model_id": "",
       "version_major": 2,
       "version_minor": 0
      },
      "text/plain": [
       "  0%|          | 0/37 [00:00<?, ?it/s]"
      ]
     },
     "metadata": {},
     "output_type": "display_data"
    },
    {
     "name": "stdout",
     "output_type": "stream",
     "text": [
      "epoch 30 average loss: 1.0497\n"
     ]
    },
    {
     "data": {
      "application/vnd.jupyter.widget-view+json": {
       "model_id": "",
       "version_major": 2,
       "version_minor": 0
      },
      "text/plain": [
       "  0%|          | 0/55 [00:00<?, ?it/s]"
      ]
     },
     "metadata": {},
     "output_type": "display_data"
    },
    {
     "name": "stdout",
     "output_type": "stream",
     "text": [
      "----------\n",
      "Validation\n",
      "Metric: 0.6722270846366882\n",
      "saved new best metric model\n",
      "current epoch: 30 current mean dice: 0.6722 best mean dice: 0.6722 at epoch 30\n",
      "----------\n",
      "epoch 31/40  LR=0.00028169594280412843\n"
     ]
    },
    {
     "data": {
      "application/vnd.jupyter.widget-view+json": {
       "model_id": "",
       "version_major": 2,
       "version_minor": 0
      },
      "text/plain": [
       "  0%|          | 0/37 [00:00<?, ?it/s]"
      ]
     },
     "metadata": {},
     "output_type": "display_data"
    },
    {
     "name": "stdout",
     "output_type": "stream",
     "text": [
      "epoch 31 average loss: 1.0486\n",
      "----------\n",
      "epoch 32/40  LR=0.00023270444203305884\n"
     ]
    },
    {
     "data": {
      "application/vnd.jupyter.widget-view+json": {
       "model_id": "",
       "version_major": 2,
       "version_minor": 0
      },
      "text/plain": [
       "  0%|          | 0/37 [00:00<?, ?it/s]"
      ]
     },
     "metadata": {},
     "output_type": "display_data"
    },
    {
     "name": "stdout",
     "output_type": "stream",
     "text": [
      "epoch 32 average loss: 1.0484\n",
      "----------\n",
      "epoch 33/40  LR=0.0001870743631430792\n"
     ]
    },
    {
     "data": {
      "application/vnd.jupyter.widget-view+json": {
       "model_id": "",
       "version_major": 2,
       "version_minor": 0
      },
      "text/plain": [
       "  0%|          | 0/37 [00:00<?, ?it/s]"
      ]
     },
     "metadata": {},
     "output_type": "display_data"
    },
    {
     "name": "stdout",
     "output_type": "stream",
     "text": [
      "epoch 33 average loss: 1.0470\n",
      "----------\n",
      "epoch 34/40  LR=0.0001453795308514192\n"
     ]
    },
    {
     "data": {
      "application/vnd.jupyter.widget-view+json": {
       "model_id": "",
       "version_major": 2,
       "version_minor": 0
      },
      "text/plain": [
       "  0%|          | 0/37 [00:00<?, ?it/s]"
      ]
     },
     "metadata": {},
     "output_type": "display_data"
    },
    {
     "name": "stdout",
     "output_type": "stream",
     "text": [
      "epoch 34 average loss: 1.0449\n",
      "----------\n",
      "epoch 35/40  LR=0.00010814428186605209\n"
     ]
    },
    {
     "data": {
      "application/vnd.jupyter.widget-view+json": {
       "model_id": "",
       "version_major": 2,
       "version_minor": 0
      },
      "text/plain": [
       "  0%|          | 0/37 [00:00<?, ?it/s]"
      ]
     },
     "metadata": {},
     "output_type": "display_data"
    },
    {
     "name": "stdout",
     "output_type": "stream",
     "text": [
      "epoch 35 average loss: 1.0482\n"
     ]
    },
    {
     "data": {
      "application/vnd.jupyter.widget-view+json": {
       "model_id": "",
       "version_major": 2,
       "version_minor": 0
      },
      "text/plain": [
       "  0%|          | 0/55 [00:00<?, ?it/s]"
      ]
     },
     "metadata": {},
     "output_type": "display_data"
    },
    {
     "name": "stdout",
     "output_type": "stream",
     "text": [
      "----------\n",
      "Validation\n",
      "Metric: 0.6768501996994019\n",
      "saved new best metric model\n",
      "current epoch: 35 current mean dice: 0.6769 best mean dice: 0.6769 at epoch 35\n",
      "----------\n",
      "epoch 36/40  LR=7.58368710473634e-05\n"
     ]
    },
    {
     "data": {
      "application/vnd.jupyter.widget-view+json": {
       "model_id": "",
       "version_major": 2,
       "version_minor": 0
      },
      "text/plain": [
       "  0%|          | 0/37 [00:00<?, ?it/s]"
      ]
     },
     "metadata": {},
     "output_type": "display_data"
    },
    {
     "name": "stdout",
     "output_type": "stream",
     "text": [
      "epoch 36 average loss: 1.0494\n",
      "----------\n",
      "epoch 37/40  LR=4.886358283159439e-05\n"
     ]
    },
    {
     "data": {
      "application/vnd.jupyter.widget-view+json": {
       "model_id": "",
       "version_major": 2,
       "version_minor": 0
      },
      "text/plain": [
       "  0%|          | 0/37 [00:00<?, ?it/s]"
      ]
     },
     "metadata": {},
     "output_type": "display_data"
    },
    {
     "name": "stdout",
     "output_type": "stream",
     "text": [
      "epoch 37 average loss: 1.0453\n",
      "----------\n",
      "epoch 38/40  LR=2.756362196832472e-05\n"
     ]
    },
    {
     "data": {
      "application/vnd.jupyter.widget-view+json": {
       "model_id": "",
       "version_major": 2,
       "version_minor": 0
      },
      "text/plain": [
       "  0%|          | 0/37 [00:00<?, ?it/s]"
      ]
     },
     "metadata": {},
     "output_type": "display_data"
    },
    {
     "name": "stdout",
     "output_type": "stream",
     "text": [
      "epoch 38 average loss: 1.0417\n",
      "----------\n",
      "epoch 39/40  LR=1.2204847823935208e-05\n"
     ]
    },
    {
     "data": {
      "application/vnd.jupyter.widget-view+json": {
       "model_id": "",
       "version_major": 2,
       "version_minor": 0
      },
      "text/plain": [
       "  0%|          | 0/37 [00:00<?, ?it/s]"
      ]
     },
     "metadata": {},
     "output_type": "display_data"
    },
    {
     "name": "stdout",
     "output_type": "stream",
     "text": [
      "epoch 39 average loss: 1.0442\n",
      "----------\n",
      "epoch 40/40  LR=2.9804058946599423e-06\n"
     ]
    },
    {
     "data": {
      "application/vnd.jupyter.widget-view+json": {
       "model_id": "",
       "version_major": 2,
       "version_minor": 0
      },
      "text/plain": [
       "  0%|          | 0/37 [00:00<?, ?it/s]"
      ]
     },
     "metadata": {},
     "output_type": "display_data"
    },
    {
     "name": "stdout",
     "output_type": "stream",
     "text": [
      "epoch 40 average loss: 1.0454\n"
     ]
    },
    {
     "data": {
      "application/vnd.jupyter.widget-view+json": {
       "model_id": "",
       "version_major": 2,
       "version_minor": 0
      },
      "text/plain": [
       "  0%|          | 0/55 [00:00<?, ?it/s]"
      ]
     },
     "metadata": {},
     "output_type": "display_data"
    },
    {
     "name": "stdout",
     "output_type": "stream",
     "text": [
      "----------\n",
      "Validation\n",
      "Metric: 0.7199589014053345\n",
      "saved new best metric model\n",
      "current epoch: 40 current mean dice: 0.7200 best mean dice: 0.7200 at epoch 40\n",
      "----------\n",
      "fold 4/5\n",
      "Train Length: 219 Val Length: 55\n",
      "----------\n",
      "epoch 1/40  LR=3.9999999999999996e-05\n"
     ]
    },
    {
     "data": {
      "application/vnd.jupyter.widget-view+json": {
       "model_id": "",
       "version_major": 2,
       "version_minor": 0
      },
      "text/plain": [
       "  0%|          | 0/37 [00:00<?, ?it/s]"
      ]
     },
     "metadata": {},
     "output_type": "display_data"
    },
    {
     "name": "stdout",
     "output_type": "stream",
     "text": [
      "epoch 1 average loss: 1.0523\n",
      "----------\n",
      "epoch 2/40  LR=5.6429102309004894e-05\n"
     ]
    },
    {
     "data": {
      "application/vnd.jupyter.widget-view+json": {
       "model_id": "",
       "version_major": 2,
       "version_minor": 0
      },
      "text/plain": [
       "  0%|          | 0/37 [00:00<?, ?it/s]"
      ]
     },
     "metadata": {},
     "output_type": "display_data"
    },
    {
     "name": "stdout",
     "output_type": "stream",
     "text": [
      "epoch 2 average loss: 1.0479\n",
      "----------\n",
      "epoch 3/40  LR=0.00010459176172485389\n"
     ]
    },
    {
     "data": {
      "application/vnd.jupyter.widget-view+json": {
       "model_id": "",
       "version_major": 2,
       "version_minor": 0
      },
      "text/plain": [
       "  0%|          | 0/37 [00:00<?, ?it/s]"
      ]
     },
     "metadata": {},
     "output_type": "display_data"
    },
    {
     "name": "stdout",
     "output_type": "stream",
     "text": [
      "epoch 3 average loss: 1.0466\n",
      "----------\n",
      "epoch 4/40  LR=0.00018119102300164392\n"
     ]
    },
    {
     "data": {
      "application/vnd.jupyter.widget-view+json": {
       "model_id": "",
       "version_major": 2,
       "version_minor": 0
      },
      "text/plain": [
       "  0%|          | 0/37 [00:00<?, ?it/s]"
      ]
     },
     "metadata": {},
     "output_type": "display_data"
    },
    {
     "name": "stdout",
     "output_type": "stream",
     "text": [
      "epoch 4 average loss: 1.0504\n",
      "----------\n",
      "epoch 5/40  LR=0.00028098331488808095\n"
     ]
    },
    {
     "data": {
      "application/vnd.jupyter.widget-view+json": {
       "model_id": "",
       "version_major": 2,
       "version_minor": 0
      },
      "text/plain": [
       "  0%|          | 0/37 [00:00<?, ?it/s]"
      ]
     },
     "metadata": {},
     "output_type": "display_data"
    },
    {
     "name": "stdout",
     "output_type": "stream",
     "text": [
      "epoch 5 average loss: 1.0524\n"
     ]
    },
    {
     "data": {
      "application/vnd.jupyter.widget-view+json": {
       "model_id": "",
       "version_major": 2,
       "version_minor": 0
      },
      "text/plain": [
       "  0%|          | 0/55 [00:00<?, ?it/s]"
      ]
     },
     "metadata": {},
     "output_type": "display_data"
    },
    {
     "name": "stdout",
     "output_type": "stream",
     "text": [
      "----------\n",
      "Validation\n",
      "Metric: 0.5541318655014038\n",
      "saved new best metric model\n",
      "current epoch: 5 current mean dice: 0.5541 best mean dice: 0.5541 at epoch 5\n",
      "----------\n",
      "epoch 6/40  LR=0.00039713739666311337\n"
     ]
    },
    {
     "data": {
      "application/vnd.jupyter.widget-view+json": {
       "model_id": "",
       "version_major": 2,
       "version_minor": 0
      },
      "text/plain": [
       "  0%|          | 0/37 [00:00<?, ?it/s]"
      ]
     },
     "metadata": {},
     "output_type": "display_data"
    },
    {
     "name": "stdout",
     "output_type": "stream",
     "text": [
      "epoch 6 average loss: 1.0526\n",
      "----------\n",
      "epoch 7/40  LR=0.0005217019879388641\n"
     ]
    },
    {
     "data": {
      "application/vnd.jupyter.widget-view+json": {
       "model_id": "",
       "version_major": 2,
       "version_minor": 0
      },
      "text/plain": [
       "  0%|          | 0/37 [00:00<?, ?it/s]"
      ]
     },
     "metadata": {},
     "output_type": "display_data"
    },
    {
     "name": "stdout",
     "output_type": "stream",
     "text": [
      "epoch 7 average loss: 1.0592\n",
      "----------\n",
      "epoch 8/40  LR=0.0006461500703230469\n"
     ]
    },
    {
     "data": {
      "application/vnd.jupyter.widget-view+json": {
       "model_id": "",
       "version_major": 2,
       "version_minor": 0
      },
      "text/plain": [
       "  0%|          | 0/37 [00:00<?, ?it/s]"
      ]
     },
     "metadata": {},
     "output_type": "display_data"
    },
    {
     "name": "stdout",
     "output_type": "stream",
     "text": [
      "epoch 8 average loss: 1.0618\n",
      "----------\n",
      "epoch 9/40  LR=0.0007619626009921238\n"
     ]
    },
    {
     "data": {
      "application/vnd.jupyter.widget-view+json": {
       "model_id": "",
       "version_major": 2,
       "version_minor": 0
      },
      "text/plain": [
       "  0%|          | 0/37 [00:00<?, ?it/s]"
      ]
     },
     "metadata": {},
     "output_type": "display_data"
    },
    {
     "name": "stdout",
     "output_type": "stream",
     "text": [
      "epoch 9 average loss: 1.0611\n",
      "----------\n",
      "epoch 10/40  LR=0.0008612116803001482\n"
     ]
    },
    {
     "data": {
      "application/vnd.jupyter.widget-view+json": {
       "model_id": "",
       "version_major": 2,
       "version_minor": 0
      },
      "text/plain": [
       "  0%|          | 0/37 [00:00<?, ?it/s]"
      ]
     },
     "metadata": {},
     "output_type": "display_data"
    },
    {
     "name": "stdout",
     "output_type": "stream",
     "text": [
      "epoch 10 average loss: 1.0634\n"
     ]
    },
    {
     "data": {
      "application/vnd.jupyter.widget-view+json": {
       "model_id": "",
       "version_major": 2,
       "version_minor": 0
      },
      "text/plain": [
       "  0%|          | 0/55 [00:00<?, ?it/s]"
      ]
     },
     "metadata": {},
     "output_type": "display_data"
    },
    {
     "name": "stdout",
     "output_type": "stream",
     "text": [
      "----------\n",
      "Validation\n",
      "Metric: 0.4744417369365692\n",
      "current epoch: 10 current mean dice: 0.4744 best mean dice: 0.5541 at epoch 5\n",
      "----------\n",
      "epoch 11/40  LR=0.0009371032529220119\n"
     ]
    },
    {
     "data": {
      "application/vnd.jupyter.widget-view+json": {
       "model_id": "",
       "version_major": 2,
       "version_minor": 0
      },
      "text/plain": [
       "  0%|          | 0/37 [00:00<?, ?it/s]"
      ]
     },
     "metadata": {},
     "output_type": "display_data"
    },
    {
     "name": "stdout",
     "output_type": "stream",
     "text": [
      "epoch 11 average loss: 1.0625\n",
      "----------\n",
      "epoch 12/40  LR=0.0009844421921452319\n"
     ]
    },
    {
     "data": {
      "application/vnd.jupyter.widget-view+json": {
       "model_id": "",
       "version_major": 2,
       "version_minor": 0
      },
      "text/plain": [
       "  0%|          | 0/37 [00:00<?, ?it/s]"
      ]
     },
     "metadata": {},
     "output_type": "display_data"
    },
    {
     "name": "stdout",
     "output_type": "stream",
     "text": [
      "epoch 12 average loss: 1.0673\n",
      "----------\n",
      "epoch 13/40  LR=0.0009999977011100945\n"
     ]
    },
    {
     "data": {
      "application/vnd.jupyter.widget-view+json": {
       "model_id": "",
       "version_major": 2,
       "version_minor": 0
      },
      "text/plain": [
       "  0%|          | 0/37 [00:00<?, ?it/s]"
      ]
     },
     "metadata": {},
     "output_type": "display_data"
    },
    {
     "name": "stdout",
     "output_type": "stream",
     "text": [
      "epoch 13 average loss: 1.0556\n",
      "----------\n",
      "epoch 14/40  LR=0.0009966840720691266\n"
     ]
    },
    {
     "data": {
      "application/vnd.jupyter.widget-view+json": {
       "model_id": "",
       "version_major": 2,
       "version_minor": 0
      },
      "text/plain": [
       "  0%|          | 0/37 [00:00<?, ?it/s]"
      ]
     },
     "metadata": {},
     "output_type": "display_data"
    },
    {
     "name": "stdout",
     "output_type": "stream",
     "text": [
      "epoch 14 average loss: 1.0554\n",
      "----------\n",
      "epoch 15/40  LR=0.0009871243777902386\n"
     ]
    },
    {
     "data": {
      "application/vnd.jupyter.widget-view+json": {
       "model_id": "",
       "version_major": 2,
       "version_minor": 0
      },
      "text/plain": [
       "  0%|          | 0/37 [00:00<?, ?it/s]"
      ]
     },
     "metadata": {},
     "output_type": "display_data"
    },
    {
     "name": "stdout",
     "output_type": "stream",
     "text": [
      "epoch 15 average loss: 1.0558\n"
     ]
    },
    {
     "data": {
      "application/vnd.jupyter.widget-view+json": {
       "model_id": "",
       "version_major": 2,
       "version_minor": 0
      },
      "text/plain": [
       "  0%|          | 0/55 [00:00<?, ?it/s]"
      ]
     },
     "metadata": {},
     "output_type": "display_data"
    },
    {
     "name": "stdout",
     "output_type": "stream",
     "text": [
      "----------\n",
      "Validation\n",
      "Metric: 0.616690456867218\n",
      "saved new best metric model\n",
      "current epoch: 15 current mean dice: 0.6167 best mean dice: 0.6167 at epoch 15\n",
      "----------\n",
      "epoch 16/40  LR=0.0009714388369756511\n"
     ]
    },
    {
     "data": {
      "application/vnd.jupyter.widget-view+json": {
       "model_id": "",
       "version_major": 2,
       "version_minor": 0
      },
      "text/plain": [
       "  0%|          | 0/37 [00:00<?, ?it/s]"
      ]
     },
     "metadata": {},
     "output_type": "display_data"
    },
    {
     "name": "stdout",
     "output_type": "stream",
     "text": [
      "epoch 16 average loss: 1.0590\n",
      "----------\n",
      "epoch 17/40  LR=0.0009498247044020708\n"
     ]
    },
    {
     "data": {
      "application/vnd.jupyter.widget-view+json": {
       "model_id": "",
       "version_major": 2,
       "version_minor": 0
      },
      "text/plain": [
       "  0%|          | 0/37 [00:00<?, ?it/s]"
      ]
     },
     "metadata": {},
     "output_type": "display_data"
    },
    {
     "name": "stdout",
     "output_type": "stream",
     "text": [
      "epoch 17 average loss: 1.0546\n",
      "----------\n",
      "epoch 18/40  LR=0.000922553790327422\n"
     ]
    },
    {
     "data": {
      "application/vnd.jupyter.widget-view+json": {
       "model_id": "",
       "version_major": 2,
       "version_minor": 0
      },
      "text/plain": [
       "  0%|          | 0/37 [00:00<?, ?it/s]"
      ]
     },
     "metadata": {},
     "output_type": "display_data"
    },
    {
     "name": "stdout",
     "output_type": "stream",
     "text": [
      "epoch 18 average loss: 1.0633\n",
      "----------\n",
      "epoch 19/40  LR=0.0008899690423191465\n"
     ]
    },
    {
     "data": {
      "application/vnd.jupyter.widget-view+json": {
       "model_id": "",
       "version_major": 2,
       "version_minor": 0
      },
      "text/plain": [
       "  0%|          | 0/37 [00:00<?, ?it/s]"
      ]
     },
     "metadata": {},
     "output_type": "display_data"
    },
    {
     "name": "stdout",
     "output_type": "stream",
     "text": [
      "epoch 19 average loss: 1.0556\n",
      "----------\n",
      "epoch 20/40  LR=0.0008524802324895594\n"
     ]
    },
    {
     "data": {
      "application/vnd.jupyter.widget-view+json": {
       "model_id": "",
       "version_major": 2,
       "version_minor": 0
      },
      "text/plain": [
       "  0%|          | 0/37 [00:00<?, ?it/s]"
      ]
     },
     "metadata": {},
     "output_type": "display_data"
    },
    {
     "name": "stdout",
     "output_type": "stream",
     "text": [
      "epoch 20 average loss: 1.0585\n"
     ]
    },
    {
     "data": {
      "application/vnd.jupyter.widget-view+json": {
       "model_id": "",
       "version_major": 2,
       "version_minor": 0
      },
      "text/plain": [
       "  0%|          | 0/55 [00:00<?, ?it/s]"
      ]
     },
     "metadata": {},
     "output_type": "display_data"
    },
    {
     "name": "stdout",
     "output_type": "stream",
     "text": [
      "----------\n",
      "Validation\n",
      "Metric: 0.6273550391197205\n",
      "saved new best metric model\n",
      "current epoch: 20 current mean dice: 0.6274 best mean dice: 0.6274 at epoch 20\n",
      "----------\n",
      "epoch 21/40  LR=0.000810558804373782\n"
     ]
    },
    {
     "data": {
      "application/vnd.jupyter.widget-view+json": {
       "model_id": "",
       "version_major": 2,
       "version_minor": 0
      },
      "text/plain": [
       "  0%|          | 0/37 [00:00<?, ?it/s]"
      ]
     },
     "metadata": {},
     "output_type": "display_data"
    },
    {
     "name": "stdout",
     "output_type": "stream",
     "text": [
      "epoch 21 average loss: 1.0584\n",
      "----------\n",
      "epoch 22/40  LR=0.0007647319442537491\n"
     ]
    },
    {
     "data": {
      "application/vnd.jupyter.widget-view+json": {
       "model_id": "",
       "version_major": 2,
       "version_minor": 0
      },
      "text/plain": [
       "  0%|          | 0/37 [00:00<?, ?it/s]"
      ]
     },
     "metadata": {},
     "output_type": "display_data"
    },
    {
     "name": "stdout",
     "output_type": "stream",
     "text": [
      "epoch 22 average loss: 1.0534\n",
      "----------\n",
      "epoch 23/40  LR=0.0007155759514848339\n"
     ]
    },
    {
     "data": {
      "application/vnd.jupyter.widget-view+json": {
       "model_id": "",
       "version_major": 2,
       "version_minor": 0
      },
      "text/plain": [
       "  0%|          | 0/37 [00:00<?, ?it/s]"
      ]
     },
     "metadata": {},
     "output_type": "display_data"
    },
    {
     "name": "stdout",
     "output_type": "stream",
     "text": [
      "epoch 23 average loss: 1.0561\n",
      "----------\n",
      "epoch 24/40  LR=0.000663708991197077\n"
     ]
    },
    {
     "data": {
      "application/vnd.jupyter.widget-view+json": {
       "model_id": "",
       "version_major": 2,
       "version_minor": 0
      },
      "text/plain": [
       "  0%|          | 0/37 [00:00<?, ?it/s]"
      ]
     },
     "metadata": {},
     "output_type": "display_data"
    },
    {
     "name": "stdout",
     "output_type": "stream",
     "text": [
      "epoch 24 average loss: 1.0550\n",
      "----------\n",
      "epoch 25/40  LR=0.0006097833205100079\n"
     ]
    },
    {
     "data": {
      "application/vnd.jupyter.widget-view+json": {
       "model_id": "",
       "version_major": 2,
       "version_minor": 0
      },
      "text/plain": [
       "  0%|          | 0/37 [00:00<?, ?it/s]"
      ]
     },
     "metadata": {},
     "output_type": "display_data"
    },
    {
     "name": "stdout",
     "output_type": "stream",
     "text": [
      "epoch 25 average loss: 1.0549\n"
     ]
    },
    {
     "data": {
      "application/vnd.jupyter.widget-view+json": {
       "model_id": "",
       "version_major": 2,
       "version_minor": 0
      },
      "text/plain": [
       "  0%|          | 0/55 [00:00<?, ?it/s]"
      ]
     },
     "metadata": {},
     "output_type": "display_data"
    },
    {
     "name": "stdout",
     "output_type": "stream",
     "text": [
      "----------\n",
      "Validation\n",
      "Metric: 0.6772485971450806\n",
      "saved new best metric model\n",
      "current epoch: 25 current mean dice: 0.6772 best mean dice: 0.6772 at epoch 25\n",
      "----------\n",
      "epoch 26/40  LR=0.0005544770860209196\n"
     ]
    },
    {
     "data": {
      "application/vnd.jupyter.widget-view+json": {
       "model_id": "",
       "version_major": 2,
       "version_minor": 0
      },
      "text/plain": [
       "  0%|          | 0/37 [00:00<?, ?it/s]"
      ]
     },
     "metadata": {},
     "output_type": "display_data"
    },
    {
     "name": "stdout",
     "output_type": "stream",
     "text": [
      "epoch 26 average loss: 1.0555\n",
      "----------\n",
      "epoch 27/40  LR=0.0004984857957179372\n"
     ]
    },
    {
     "data": {
      "application/vnd.jupyter.widget-view+json": {
       "model_id": "",
       "version_major": 2,
       "version_minor": 0
      },
      "text/plain": [
       "  0%|          | 0/37 [00:00<?, ?it/s]"
      ]
     },
     "metadata": {},
     "output_type": "display_data"
    },
    {
     "name": "stdout",
     "output_type": "stream",
     "text": [
      "epoch 27 average loss: 1.0508\n",
      "----------\n",
      "epoch 28/40  LR=0.000442513572563524\n"
     ]
    },
    {
     "data": {
      "application/vnd.jupyter.widget-view+json": {
       "model_id": "",
       "version_major": 2,
       "version_minor": 0
      },
      "text/plain": [
       "  0%|          | 0/37 [00:00<?, ?it/s]"
      ]
     },
     "metadata": {},
     "output_type": "display_data"
    },
    {
     "name": "stdout",
     "output_type": "stream",
     "text": [
      "epoch 28 average loss: 1.0490\n",
      "----------\n",
      "epoch 29/40  LR=0.00038726429973968697\n"
     ]
    },
    {
     "data": {
      "application/vnd.jupyter.widget-view+json": {
       "model_id": "",
       "version_major": 2,
       "version_minor": 0
      },
      "text/plain": [
       "  0%|          | 0/37 [00:00<?, ?it/s]"
      ]
     },
     "metadata": {},
     "output_type": "display_data"
    },
    {
     "name": "stdout",
     "output_type": "stream",
     "text": [
      "epoch 29 average loss: 1.0519\n",
      "----------\n",
      "epoch 30/40  LR=0.00033343276890856067\n"
     ]
    },
    {
     "data": {
      "application/vnd.jupyter.widget-view+json": {
       "model_id": "",
       "version_major": 2,
       "version_minor": 0
      },
      "text/plain": [
       "  0%|          | 0/37 [00:00<?, ?it/s]"
      ]
     },
     "metadata": {},
     "output_type": "display_data"
    },
    {
     "name": "stdout",
     "output_type": "stream",
     "text": [
      "epoch 30 average loss: 1.0512\n"
     ]
    },
    {
     "data": {
      "application/vnd.jupyter.widget-view+json": {
       "model_id": "",
       "version_major": 2,
       "version_minor": 0
      },
      "text/plain": [
       "  0%|          | 0/55 [00:00<?, ?it/s]"
      ]
     },
     "metadata": {},
     "output_type": "display_data"
    },
    {
     "name": "stdout",
     "output_type": "stream",
     "text": [
      "----------\n",
      "Validation\n",
      "Metric: 0.6592206358909607\n",
      "current epoch: 30 current mean dice: 0.6592 best mean dice: 0.6772 at epoch 25\n",
      "----------\n",
      "epoch 31/40  LR=0.00028169594280412843\n"
     ]
    },
    {
     "data": {
      "application/vnd.jupyter.widget-view+json": {
       "model_id": "",
       "version_major": 2,
       "version_minor": 0
      },
      "text/plain": [
       "  0%|          | 0/37 [00:00<?, ?it/s]"
      ]
     },
     "metadata": {},
     "output_type": "display_data"
    },
    {
     "name": "stdout",
     "output_type": "stream",
     "text": [
      "epoch 31 average loss: 1.0478\n",
      "----------\n",
      "epoch 32/40  LR=0.00023270444203305884\n"
     ]
    },
    {
     "data": {
      "application/vnd.jupyter.widget-view+json": {
       "model_id": "",
       "version_major": 2,
       "version_minor": 0
      },
      "text/plain": [
       "  0%|          | 0/37 [00:00<?, ?it/s]"
      ]
     },
     "metadata": {},
     "output_type": "display_data"
    },
    {
     "name": "stdout",
     "output_type": "stream",
     "text": [
      "epoch 32 average loss: 1.0480\n",
      "----------\n",
      "epoch 33/40  LR=0.0001870743631430792\n"
     ]
    },
    {
     "data": {
      "application/vnd.jupyter.widget-view+json": {
       "model_id": "",
       "version_major": 2,
       "version_minor": 0
      },
      "text/plain": [
       "  0%|          | 0/37 [00:00<?, ?it/s]"
      ]
     },
     "metadata": {},
     "output_type": "display_data"
    },
    {
     "name": "stdout",
     "output_type": "stream",
     "text": [
      "epoch 33 average loss: 1.0465\n",
      "----------\n",
      "epoch 34/40  LR=0.0001453795308514192\n"
     ]
    },
    {
     "data": {
      "application/vnd.jupyter.widget-view+json": {
       "model_id": "",
       "version_major": 2,
       "version_minor": 0
      },
      "text/plain": [
       "  0%|          | 0/37 [00:00<?, ?it/s]"
      ]
     },
     "metadata": {},
     "output_type": "display_data"
    },
    {
     "name": "stdout",
     "output_type": "stream",
     "text": [
      "epoch 34 average loss: 1.0501\n",
      "----------\n",
      "epoch 35/40  LR=0.00010814428186605209\n"
     ]
    },
    {
     "data": {
      "application/vnd.jupyter.widget-view+json": {
       "model_id": "",
       "version_major": 2,
       "version_minor": 0
      },
      "text/plain": [
       "  0%|          | 0/37 [00:00<?, ?it/s]"
      ]
     },
     "metadata": {},
     "output_type": "display_data"
    },
    {
     "name": "stdout",
     "output_type": "stream",
     "text": [
      "epoch 35 average loss: 1.0442\n"
     ]
    },
    {
     "data": {
      "application/vnd.jupyter.widget-view+json": {
       "model_id": "",
       "version_major": 2,
       "version_minor": 0
      },
      "text/plain": [
       "  0%|          | 0/55 [00:00<?, ?it/s]"
      ]
     },
     "metadata": {},
     "output_type": "display_data"
    },
    {
     "name": "stdout",
     "output_type": "stream",
     "text": [
      "----------\n",
      "Validation\n",
      "Metric: 0.72617506980896\n",
      "saved new best metric model\n",
      "current epoch: 35 current mean dice: 0.7262 best mean dice: 0.7262 at epoch 35\n",
      "----------\n",
      "epoch 36/40  LR=7.58368710473634e-05\n"
     ]
    },
    {
     "data": {
      "application/vnd.jupyter.widget-view+json": {
       "model_id": "",
       "version_major": 2,
       "version_minor": 0
      },
      "text/plain": [
       "  0%|          | 0/37 [00:00<?, ?it/s]"
      ]
     },
     "metadata": {},
     "output_type": "display_data"
    },
    {
     "name": "stdout",
     "output_type": "stream",
     "text": [
      "epoch 36 average loss: 1.0454\n",
      "----------\n",
      "epoch 37/40  LR=4.886358283159439e-05\n"
     ]
    },
    {
     "data": {
      "application/vnd.jupyter.widget-view+json": {
       "model_id": "",
       "version_major": 2,
       "version_minor": 0
      },
      "text/plain": [
       "  0%|          | 0/37 [00:00<?, ?it/s]"
      ]
     },
     "metadata": {},
     "output_type": "display_data"
    },
    {
     "name": "stdout",
     "output_type": "stream",
     "text": [
      "epoch 37 average loss: 1.0412\n",
      "----------\n",
      "epoch 38/40  LR=2.756362196832472e-05\n"
     ]
    },
    {
     "data": {
      "application/vnd.jupyter.widget-view+json": {
       "model_id": "",
       "version_major": 2,
       "version_minor": 0
      },
      "text/plain": [
       "  0%|          | 0/37 [00:00<?, ?it/s]"
      ]
     },
     "metadata": {},
     "output_type": "display_data"
    },
    {
     "name": "stdout",
     "output_type": "stream",
     "text": [
      "epoch 38 average loss: 1.0465\n",
      "----------\n",
      "epoch 39/40  LR=1.2204847823935208e-05\n"
     ]
    },
    {
     "data": {
      "application/vnd.jupyter.widget-view+json": {
       "model_id": "",
       "version_major": 2,
       "version_minor": 0
      },
      "text/plain": [
       "  0%|          | 0/37 [00:00<?, ?it/s]"
      ]
     },
     "metadata": {},
     "output_type": "display_data"
    },
    {
     "name": "stdout",
     "output_type": "stream",
     "text": [
      "epoch 39 average loss: 1.0461\n",
      "----------\n",
      "epoch 40/40  LR=2.9804058946599423e-06\n"
     ]
    },
    {
     "data": {
      "application/vnd.jupyter.widget-view+json": {
       "model_id": "",
       "version_major": 2,
       "version_minor": 0
      },
      "text/plain": [
       "  0%|          | 0/37 [00:00<?, ?it/s]"
      ]
     },
     "metadata": {},
     "output_type": "display_data"
    },
    {
     "name": "stdout",
     "output_type": "stream",
     "text": [
      "epoch 40 average loss: 1.0442\n"
     ]
    },
    {
     "data": {
      "application/vnd.jupyter.widget-view+json": {
       "model_id": "",
       "version_major": 2,
       "version_minor": 0
      },
      "text/plain": [
       "  0%|          | 0/55 [00:00<?, ?it/s]"
      ]
     },
     "metadata": {},
     "output_type": "display_data"
    },
    {
     "name": "stdout",
     "output_type": "stream",
     "text": [
      "----------\n",
      "Validation\n",
      "Metric: 0.7303896546363831\n",
      "saved new best metric model\n",
      "current epoch: 40 current mean dice: 0.7304 best mean dice: 0.7304 at epoch 40\n",
      "----------\n",
      "fold 5/5\n",
      "Train Length: 219 Val Length: 55\n",
      "----------\n",
      "epoch 1/40  LR=3.9999999999999996e-05\n"
     ]
    },
    {
     "data": {
      "application/vnd.jupyter.widget-view+json": {
       "model_id": "",
       "version_major": 2,
       "version_minor": 0
      },
      "text/plain": [
       "  0%|          | 0/37 [00:00<?, ?it/s]"
      ]
     },
     "metadata": {},
     "output_type": "display_data"
    },
    {
     "name": "stdout",
     "output_type": "stream",
     "text": [
      "epoch 1 average loss: 1.0477\n",
      "----------\n",
      "epoch 2/40  LR=5.6429102309004894e-05\n"
     ]
    },
    {
     "data": {
      "application/vnd.jupyter.widget-view+json": {
       "model_id": "",
       "version_major": 2,
       "version_minor": 0
      },
      "text/plain": [
       "  0%|          | 0/37 [00:00<?, ?it/s]"
      ]
     },
     "metadata": {},
     "output_type": "display_data"
    },
    {
     "name": "stdout",
     "output_type": "stream",
     "text": [
      "epoch 2 average loss: 1.0536\n",
      "----------\n",
      "epoch 3/40  LR=0.00010459176172485389\n"
     ]
    },
    {
     "data": {
      "application/vnd.jupyter.widget-view+json": {
       "model_id": "",
       "version_major": 2,
       "version_minor": 0
      },
      "text/plain": [
       "  0%|          | 0/37 [00:00<?, ?it/s]"
      ]
     },
     "metadata": {},
     "output_type": "display_data"
    },
    {
     "name": "stdout",
     "output_type": "stream",
     "text": [
      "epoch 3 average loss: 1.0472\n",
      "----------\n",
      "epoch 4/40  LR=0.00018119102300164392\n"
     ]
    },
    {
     "data": {
      "application/vnd.jupyter.widget-view+json": {
       "model_id": "",
       "version_major": 2,
       "version_minor": 0
      },
      "text/plain": [
       "  0%|          | 0/37 [00:00<?, ?it/s]"
      ]
     },
     "metadata": {},
     "output_type": "display_data"
    },
    {
     "name": "stdout",
     "output_type": "stream",
     "text": [
      "epoch 4 average loss: 1.0484\n",
      "----------\n",
      "epoch 5/40  LR=0.00028098331488808095\n"
     ]
    },
    {
     "data": {
      "application/vnd.jupyter.widget-view+json": {
       "model_id": "",
       "version_major": 2,
       "version_minor": 0
      },
      "text/plain": [
       "  0%|          | 0/37 [00:00<?, ?it/s]"
      ]
     },
     "metadata": {},
     "output_type": "display_data"
    },
    {
     "name": "stdout",
     "output_type": "stream",
     "text": [
      "epoch 5 average loss: 1.0503\n"
     ]
    },
    {
     "data": {
      "application/vnd.jupyter.widget-view+json": {
       "model_id": "",
       "version_major": 2,
       "version_minor": 0
      },
      "text/plain": [
       "  0%|          | 0/55 [00:00<?, ?it/s]"
      ]
     },
     "metadata": {},
     "output_type": "display_data"
    },
    {
     "name": "stdout",
     "output_type": "stream",
     "text": [
      "----------\n",
      "Validation\n",
      "Metric: 0.6954007744789124\n",
      "saved new best metric model\n",
      "current epoch: 5 current mean dice: 0.6954 best mean dice: 0.6954 at epoch 5\n",
      "----------\n",
      "epoch 6/40  LR=0.00039713739666311337\n"
     ]
    },
    {
     "data": {
      "application/vnd.jupyter.widget-view+json": {
       "model_id": "",
       "version_major": 2,
       "version_minor": 0
      },
      "text/plain": [
       "  0%|          | 0/37 [00:00<?, ?it/s]"
      ]
     },
     "metadata": {},
     "output_type": "display_data"
    },
    {
     "name": "stdout",
     "output_type": "stream",
     "text": [
      "epoch 6 average loss: 1.0554\n",
      "----------\n",
      "epoch 7/40  LR=0.0005217019879388641\n"
     ]
    },
    {
     "data": {
      "application/vnd.jupyter.widget-view+json": {
       "model_id": "",
       "version_major": 2,
       "version_minor": 0
      },
      "text/plain": [
       "  0%|          | 0/37 [00:00<?, ?it/s]"
      ]
     },
     "metadata": {},
     "output_type": "display_data"
    },
    {
     "name": "stdout",
     "output_type": "stream",
     "text": [
      "epoch 7 average loss: 1.0574\n",
      "----------\n",
      "epoch 8/40  LR=0.0006461500703230469\n"
     ]
    },
    {
     "data": {
      "application/vnd.jupyter.widget-view+json": {
       "model_id": "",
       "version_major": 2,
       "version_minor": 0
      },
      "text/plain": [
       "  0%|          | 0/37 [00:00<?, ?it/s]"
      ]
     },
     "metadata": {},
     "output_type": "display_data"
    },
    {
     "name": "stdout",
     "output_type": "stream",
     "text": [
      "epoch 8 average loss: 1.0589\n",
      "----------\n",
      "epoch 9/40  LR=0.0007619626009921238\n"
     ]
    },
    {
     "data": {
      "application/vnd.jupyter.widget-view+json": {
       "model_id": "",
       "version_major": 2,
       "version_minor": 0
      },
      "text/plain": [
       "  0%|          | 0/37 [00:00<?, ?it/s]"
      ]
     },
     "metadata": {},
     "output_type": "display_data"
    },
    {
     "name": "stdout",
     "output_type": "stream",
     "text": [
      "epoch 9 average loss: 1.0607\n",
      "----------\n",
      "epoch 10/40  LR=0.0008612116803001482\n"
     ]
    },
    {
     "data": {
      "application/vnd.jupyter.widget-view+json": {
       "model_id": "",
       "version_major": 2,
       "version_minor": 0
      },
      "text/plain": [
       "  0%|          | 0/37 [00:00<?, ?it/s]"
      ]
     },
     "metadata": {},
     "output_type": "display_data"
    },
    {
     "name": "stdout",
     "output_type": "stream",
     "text": [
      "epoch 10 average loss: 1.0674\n"
     ]
    },
    {
     "data": {
      "application/vnd.jupyter.widget-view+json": {
       "model_id": "",
       "version_major": 2,
       "version_minor": 0
      },
      "text/plain": [
       "  0%|          | 0/55 [00:00<?, ?it/s]"
      ]
     },
     "metadata": {},
     "output_type": "display_data"
    },
    {
     "name": "stdout",
     "output_type": "stream",
     "text": [
      "----------\n",
      "Validation\n",
      "Metric: 0.4455655813217163\n",
      "current epoch: 10 current mean dice: 0.4456 best mean dice: 0.6954 at epoch 5\n",
      "----------\n",
      "epoch 11/40  LR=0.0009371032529220119\n"
     ]
    },
    {
     "data": {
      "application/vnd.jupyter.widget-view+json": {
       "model_id": "",
       "version_major": 2,
       "version_minor": 0
      },
      "text/plain": [
       "  0%|          | 0/37 [00:00<?, ?it/s]"
      ]
     },
     "metadata": {},
     "output_type": "display_data"
    },
    {
     "name": "stdout",
     "output_type": "stream",
     "text": [
      "epoch 11 average loss: 1.0677\n",
      "----------\n",
      "epoch 12/40  LR=0.0009844421921452319\n"
     ]
    },
    {
     "data": {
      "application/vnd.jupyter.widget-view+json": {
       "model_id": "",
       "version_major": 2,
       "version_minor": 0
      },
      "text/plain": [
       "  0%|          | 0/37 [00:00<?, ?it/s]"
      ]
     },
     "metadata": {},
     "output_type": "display_data"
    },
    {
     "name": "stdout",
     "output_type": "stream",
     "text": [
      "epoch 12 average loss: 1.0668\n",
      "----------\n",
      "epoch 13/40  LR=0.0009999977011100945\n"
     ]
    },
    {
     "data": {
      "application/vnd.jupyter.widget-view+json": {
       "model_id": "",
       "version_major": 2,
       "version_minor": 0
      },
      "text/plain": [
       "  0%|          | 0/37 [00:00<?, ?it/s]"
      ]
     },
     "metadata": {},
     "output_type": "display_data"
    },
    {
     "name": "stdout",
     "output_type": "stream",
     "text": [
      "epoch 13 average loss: 1.0653\n",
      "----------\n",
      "epoch 14/40  LR=0.0009966840720691266\n"
     ]
    },
    {
     "data": {
      "application/vnd.jupyter.widget-view+json": {
       "model_id": "",
       "version_major": 2,
       "version_minor": 0
      },
      "text/plain": [
       "  0%|          | 0/37 [00:00<?, ?it/s]"
      ]
     },
     "metadata": {},
     "output_type": "display_data"
    },
    {
     "name": "stdout",
     "output_type": "stream",
     "text": [
      "epoch 14 average loss: 1.0723\n",
      "----------\n",
      "epoch 15/40  LR=0.0009871243777902386\n"
     ]
    },
    {
     "data": {
      "application/vnd.jupyter.widget-view+json": {
       "model_id": "",
       "version_major": 2,
       "version_minor": 0
      },
      "text/plain": [
       "  0%|          | 0/37 [00:00<?, ?it/s]"
      ]
     },
     "metadata": {},
     "output_type": "display_data"
    },
    {
     "name": "stdout",
     "output_type": "stream",
     "text": [
      "epoch 15 average loss: 1.0718\n"
     ]
    },
    {
     "data": {
      "application/vnd.jupyter.widget-view+json": {
       "model_id": "",
       "version_major": 2,
       "version_minor": 0
      },
      "text/plain": [
       "  0%|          | 0/55 [00:00<?, ?it/s]"
      ]
     },
     "metadata": {},
     "output_type": "display_data"
    },
    {
     "name": "stdout",
     "output_type": "stream",
     "text": [
      "----------\n",
      "Validation\n",
      "Metric: 0.35357749462127686\n",
      "current epoch: 15 current mean dice: 0.3536 best mean dice: 0.6954 at epoch 5\n",
      "----------\n",
      "epoch 16/40  LR=0.0009714388369756511\n"
     ]
    },
    {
     "data": {
      "application/vnd.jupyter.widget-view+json": {
       "model_id": "",
       "version_major": 2,
       "version_minor": 0
      },
      "text/plain": [
       "  0%|          | 0/37 [00:00<?, ?it/s]"
      ]
     },
     "metadata": {},
     "output_type": "display_data"
    },
    {
     "name": "stdout",
     "output_type": "stream",
     "text": [
      "epoch 16 average loss: 1.0700\n",
      "----------\n",
      "epoch 17/40  LR=0.0009498247044020708\n"
     ]
    },
    {
     "data": {
      "application/vnd.jupyter.widget-view+json": {
       "model_id": "",
       "version_major": 2,
       "version_minor": 0
      },
      "text/plain": [
       "  0%|          | 0/37 [00:00<?, ?it/s]"
      ]
     },
     "metadata": {},
     "output_type": "display_data"
    },
    {
     "name": "stdout",
     "output_type": "stream",
     "text": [
      "epoch 17 average loss: 1.0648\n",
      "----------\n",
      "epoch 18/40  LR=0.000922553790327422\n"
     ]
    },
    {
     "data": {
      "application/vnd.jupyter.widget-view+json": {
       "model_id": "",
       "version_major": 2,
       "version_minor": 0
      },
      "text/plain": [
       "  0%|          | 0/37 [00:00<?, ?it/s]"
      ]
     },
     "metadata": {},
     "output_type": "display_data"
    },
    {
     "name": "stdout",
     "output_type": "stream",
     "text": [
      "epoch 18 average loss: 1.0602\n",
      "----------\n",
      "epoch 19/40  LR=0.0008899690423191465\n"
     ]
    },
    {
     "data": {
      "application/vnd.jupyter.widget-view+json": {
       "model_id": "",
       "version_major": 2,
       "version_minor": 0
      },
      "text/plain": [
       "  0%|          | 0/37 [00:00<?, ?it/s]"
      ]
     },
     "metadata": {},
     "output_type": "display_data"
    },
    {
     "name": "stdout",
     "output_type": "stream",
     "text": [
      "epoch 19 average loss: 1.0624\n",
      "----------\n",
      "epoch 20/40  LR=0.0008524802324895594\n"
     ]
    },
    {
     "data": {
      "application/vnd.jupyter.widget-view+json": {
       "model_id": "",
       "version_major": 2,
       "version_minor": 0
      },
      "text/plain": [
       "  0%|          | 0/37 [00:00<?, ?it/s]"
      ]
     },
     "metadata": {},
     "output_type": "display_data"
    },
    {
     "name": "stdout",
     "output_type": "stream",
     "text": [
      "epoch 20 average loss: 1.0652\n"
     ]
    },
    {
     "data": {
      "application/vnd.jupyter.widget-view+json": {
       "model_id": "",
       "version_major": 2,
       "version_minor": 0
      },
      "text/plain": [
       "  0%|          | 0/55 [00:00<?, ?it/s]"
      ]
     },
     "metadata": {},
     "output_type": "display_data"
    },
    {
     "name": "stdout",
     "output_type": "stream",
     "text": [
      "----------\n",
      "Validation\n",
      "Metric: 0.5273999571800232\n",
      "current epoch: 20 current mean dice: 0.5274 best mean dice: 0.6954 at epoch 5\n",
      "----------\n",
      "epoch 21/40  LR=0.000810558804373782\n"
     ]
    },
    {
     "data": {
      "application/vnd.jupyter.widget-view+json": {
       "model_id": "",
       "version_major": 2,
       "version_minor": 0
      },
      "text/plain": [
       "  0%|          | 0/37 [00:00<?, ?it/s]"
      ]
     },
     "metadata": {},
     "output_type": "display_data"
    },
    {
     "name": "stdout",
     "output_type": "stream",
     "text": [
      "epoch 21 average loss: 1.0595\n",
      "----------\n",
      "epoch 22/40  LR=0.0007647319442537491\n"
     ]
    },
    {
     "data": {
      "application/vnd.jupyter.widget-view+json": {
       "model_id": "",
       "version_major": 2,
       "version_minor": 0
      },
      "text/plain": [
       "  0%|          | 0/37 [00:00<?, ?it/s]"
      ]
     },
     "metadata": {},
     "output_type": "display_data"
    },
    {
     "name": "stdout",
     "output_type": "stream",
     "text": [
      "epoch 22 average loss: 1.0596\n",
      "----------\n",
      "epoch 23/40  LR=0.0007155759514848339\n"
     ]
    },
    {
     "data": {
      "application/vnd.jupyter.widget-view+json": {
       "model_id": "",
       "version_major": 2,
       "version_minor": 0
      },
      "text/plain": [
       "  0%|          | 0/37 [00:00<?, ?it/s]"
      ]
     },
     "metadata": {},
     "output_type": "display_data"
    },
    {
     "name": "stdout",
     "output_type": "stream",
     "text": [
      "epoch 23 average loss: 1.0616\n",
      "----------\n",
      "epoch 24/40  LR=0.000663708991197077\n"
     ]
    },
    {
     "data": {
      "application/vnd.jupyter.widget-view+json": {
       "model_id": "",
       "version_major": 2,
       "version_minor": 0
      },
      "text/plain": [
       "  0%|          | 0/37 [00:00<?, ?it/s]"
      ]
     },
     "metadata": {},
     "output_type": "display_data"
    },
    {
     "name": "stdout",
     "output_type": "stream",
     "text": [
      "epoch 24 average loss: 1.0627\n",
      "----------\n",
      "epoch 25/40  LR=0.0006097833205100079\n"
     ]
    },
    {
     "data": {
      "application/vnd.jupyter.widget-view+json": {
       "model_id": "",
       "version_major": 2,
       "version_minor": 0
      },
      "text/plain": [
       "  0%|          | 0/37 [00:00<?, ?it/s]"
      ]
     },
     "metadata": {},
     "output_type": "display_data"
    },
    {
     "name": "stdout",
     "output_type": "stream",
     "text": [
      "epoch 25 average loss: 1.0606\n"
     ]
    },
    {
     "data": {
      "application/vnd.jupyter.widget-view+json": {
       "model_id": "",
       "version_major": 2,
       "version_minor": 0
      },
      "text/plain": [
       "  0%|          | 0/55 [00:00<?, ?it/s]"
      ]
     },
     "metadata": {},
     "output_type": "display_data"
    },
    {
     "name": "stdout",
     "output_type": "stream",
     "text": [
      "----------\n",
      "Validation\n",
      "Metric: 0.5734754204750061\n",
      "current epoch: 25 current mean dice: 0.5735 best mean dice: 0.6954 at epoch 5\n",
      "----------\n",
      "epoch 26/40  LR=0.0005544770860209196\n"
     ]
    },
    {
     "data": {
      "application/vnd.jupyter.widget-view+json": {
       "model_id": "",
       "version_major": 2,
       "version_minor": 0
      },
      "text/plain": [
       "  0%|          | 0/37 [00:00<?, ?it/s]"
      ]
     },
     "metadata": {},
     "output_type": "display_data"
    },
    {
     "name": "stdout",
     "output_type": "stream",
     "text": [
      "epoch 26 average loss: 1.0587\n",
      "----------\n",
      "epoch 27/40  LR=0.0004984857957179372\n"
     ]
    },
    {
     "data": {
      "application/vnd.jupyter.widget-view+json": {
       "model_id": "",
       "version_major": 2,
       "version_minor": 0
      },
      "text/plain": [
       "  0%|          | 0/37 [00:00<?, ?it/s]"
      ]
     },
     "metadata": {},
     "output_type": "display_data"
    },
    {
     "name": "stdout",
     "output_type": "stream",
     "text": [
      "epoch 27 average loss: 1.0539\n",
      "----------\n",
      "epoch 28/40  LR=0.000442513572563524\n"
     ]
    },
    {
     "data": {
      "application/vnd.jupyter.widget-view+json": {
       "model_id": "",
       "version_major": 2,
       "version_minor": 0
      },
      "text/plain": [
       "  0%|          | 0/37 [00:00<?, ?it/s]"
      ]
     },
     "metadata": {},
     "output_type": "display_data"
    },
    {
     "name": "stdout",
     "output_type": "stream",
     "text": [
      "epoch 28 average loss: 1.0504\n",
      "----------\n",
      "epoch 29/40  LR=0.00038726429973968697\n"
     ]
    },
    {
     "data": {
      "application/vnd.jupyter.widget-view+json": {
       "model_id": "",
       "version_major": 2,
       "version_minor": 0
      },
      "text/plain": [
       "  0%|          | 0/37 [00:00<?, ?it/s]"
      ]
     },
     "metadata": {},
     "output_type": "display_data"
    },
    {
     "name": "stdout",
     "output_type": "stream",
     "text": [
      "epoch 29 average loss: 1.0519\n",
      "----------\n",
      "epoch 30/40  LR=0.00033343276890856067\n"
     ]
    },
    {
     "data": {
      "application/vnd.jupyter.widget-view+json": {
       "model_id": "",
       "version_major": 2,
       "version_minor": 0
      },
      "text/plain": [
       "  0%|          | 0/37 [00:00<?, ?it/s]"
      ]
     },
     "metadata": {},
     "output_type": "display_data"
    },
    {
     "name": "stdout",
     "output_type": "stream",
     "text": [
      "epoch 30 average loss: 1.0540\n"
     ]
    },
    {
     "data": {
      "application/vnd.jupyter.widget-view+json": {
       "model_id": "",
       "version_major": 2,
       "version_minor": 0
      },
      "text/plain": [
       "  0%|          | 0/55 [00:00<?, ?it/s]"
      ]
     },
     "metadata": {},
     "output_type": "display_data"
    },
    {
     "name": "stdout",
     "output_type": "stream",
     "text": [
      "----------\n",
      "Validation\n",
      "Metric: 0.6654689311981201\n",
      "current epoch: 30 current mean dice: 0.6655 best mean dice: 0.6954 at epoch 5\n",
      "----------\n",
      "epoch 31/40  LR=0.00028169594280412843\n"
     ]
    },
    {
     "data": {
      "application/vnd.jupyter.widget-view+json": {
       "model_id": "",
       "version_major": 2,
       "version_minor": 0
      },
      "text/plain": [
       "  0%|          | 0/37 [00:00<?, ?it/s]"
      ]
     },
     "metadata": {},
     "output_type": "display_data"
    },
    {
     "name": "stdout",
     "output_type": "stream",
     "text": [
      "epoch 31 average loss: 1.0519\n",
      "----------\n",
      "epoch 32/40  LR=0.00023270444203305884\n"
     ]
    },
    {
     "data": {
      "application/vnd.jupyter.widget-view+json": {
       "model_id": "",
       "version_major": 2,
       "version_minor": 0
      },
      "text/plain": [
       "  0%|          | 0/37 [00:00<?, ?it/s]"
      ]
     },
     "metadata": {},
     "output_type": "display_data"
    },
    {
     "name": "stdout",
     "output_type": "stream",
     "text": [
      "epoch 32 average loss: 1.0516\n",
      "----------\n",
      "epoch 33/40  LR=0.0001870743631430792\n"
     ]
    },
    {
     "data": {
      "application/vnd.jupyter.widget-view+json": {
       "model_id": "",
       "version_major": 2,
       "version_minor": 0
      },
      "text/plain": [
       "  0%|          | 0/37 [00:00<?, ?it/s]"
      ]
     },
     "metadata": {},
     "output_type": "display_data"
    },
    {
     "name": "stdout",
     "output_type": "stream",
     "text": [
      "epoch 33 average loss: 1.0511\n",
      "----------\n",
      "epoch 34/40  LR=0.0001453795308514192\n"
     ]
    },
    {
     "data": {
      "application/vnd.jupyter.widget-view+json": {
       "model_id": "",
       "version_major": 2,
       "version_minor": 0
      },
      "text/plain": [
       "  0%|          | 0/37 [00:00<?, ?it/s]"
      ]
     },
     "metadata": {},
     "output_type": "display_data"
    },
    {
     "name": "stdout",
     "output_type": "stream",
     "text": [
      "epoch 34 average loss: 1.0518\n",
      "----------\n",
      "epoch 35/40  LR=0.00010814428186605209\n"
     ]
    },
    {
     "data": {
      "application/vnd.jupyter.widget-view+json": {
       "model_id": "",
       "version_major": 2,
       "version_minor": 0
      },
      "text/plain": [
       "  0%|          | 0/37 [00:00<?, ?it/s]"
      ]
     },
     "metadata": {},
     "output_type": "display_data"
    },
    {
     "name": "stdout",
     "output_type": "stream",
     "text": [
      "epoch 35 average loss: 1.0460\n"
     ]
    },
    {
     "data": {
      "application/vnd.jupyter.widget-view+json": {
       "model_id": "",
       "version_major": 2,
       "version_minor": 0
      },
      "text/plain": [
       "  0%|          | 0/55 [00:00<?, ?it/s]"
      ]
     },
     "metadata": {},
     "output_type": "display_data"
    },
    {
     "name": "stdout",
     "output_type": "stream",
     "text": [
      "----------\n",
      "Validation\n",
      "Metric: 0.7048062682151794\n",
      "saved new best metric model\n",
      "current epoch: 35 current mean dice: 0.7048 best mean dice: 0.7048 at epoch 35\n",
      "----------\n",
      "epoch 36/40  LR=7.58368710473634e-05\n"
     ]
    },
    {
     "data": {
      "application/vnd.jupyter.widget-view+json": {
       "model_id": "",
       "version_major": 2,
       "version_minor": 0
      },
      "text/plain": [
       "  0%|          | 0/37 [00:00<?, ?it/s]"
      ]
     },
     "metadata": {},
     "output_type": "display_data"
    },
    {
     "name": "stdout",
     "output_type": "stream",
     "text": [
      "epoch 36 average loss: 1.0474\n",
      "----------\n",
      "epoch 37/40  LR=4.886358283159439e-05\n"
     ]
    },
    {
     "data": {
      "application/vnd.jupyter.widget-view+json": {
       "model_id": "",
       "version_major": 2,
       "version_minor": 0
      },
      "text/plain": [
       "  0%|          | 0/37 [00:00<?, ?it/s]"
      ]
     },
     "metadata": {},
     "output_type": "display_data"
    },
    {
     "name": "stdout",
     "output_type": "stream",
     "text": [
      "epoch 37 average loss: 1.0488\n",
      "----------\n",
      "epoch 38/40  LR=2.756362196832472e-05\n"
     ]
    },
    {
     "data": {
      "application/vnd.jupyter.widget-view+json": {
       "model_id": "",
       "version_major": 2,
       "version_minor": 0
      },
      "text/plain": [
       "  0%|          | 0/37 [00:00<?, ?it/s]"
      ]
     },
     "metadata": {},
     "output_type": "display_data"
    },
    {
     "name": "stdout",
     "output_type": "stream",
     "text": [
      "epoch 38 average loss: 1.0449\n",
      "----------\n",
      "epoch 39/40  LR=1.2204847823935208e-05\n"
     ]
    },
    {
     "data": {
      "application/vnd.jupyter.widget-view+json": {
       "model_id": "",
       "version_major": 2,
       "version_minor": 0
      },
      "text/plain": [
       "  0%|          | 0/37 [00:00<?, ?it/s]"
      ]
     },
     "metadata": {},
     "output_type": "display_data"
    },
    {
     "name": "stdout",
     "output_type": "stream",
     "text": [
      "epoch 39 average loss: 1.0461\n",
      "----------\n",
      "epoch 40/40  LR=2.9804058946599423e-06\n"
     ]
    },
    {
     "data": {
      "application/vnd.jupyter.widget-view+json": {
       "model_id": "",
       "version_major": 2,
       "version_minor": 0
      },
      "text/plain": [
       "  0%|          | 0/37 [00:00<?, ?it/s]"
      ]
     },
     "metadata": {},
     "output_type": "display_data"
    },
    {
     "name": "stdout",
     "output_type": "stream",
     "text": [
      "epoch 40 average loss: 1.0497\n"
     ]
    },
    {
     "data": {
      "application/vnd.jupyter.widget-view+json": {
       "model_id": "",
       "version_major": 2,
       "version_minor": 0
      },
      "text/plain": [
       "  0%|          | 0/55 [00:00<?, ?it/s]"
      ]
     },
     "metadata": {},
     "output_type": "display_data"
    },
    {
     "name": "stdout",
     "output_type": "stream",
     "text": [
      "----------\n",
      "Validation\n",
      "Metric: 0.697622537612915\n",
      "current epoch: 40 current mean dice: 0.6976 best mean dice: 0.7048 at epoch 35\n"
     ]
    },
    {
     "data": {
      "image/png": "[encoded data removed]",
      "text/plain": [
       "<Figure size 432x288 with 2 Axes>"
      ]
     },
     "metadata": {
      "needs_background": "light"
     },
     "output_type": "display_data"
    },
    {
     "data": {
      "image/png": "[encoded data removed]",
      "text/plain": [
       "<Figure size 432x288 with 2 Axes>"
      ]
     },
     "metadata": {
      "needs_background": "light"
     },
     "output_type": "display_data"
    },
    {
     "data": {
      "image/png": "[encoded data removed]",
      "text/plain": [
       "<Figure size 432x288 with 2 Axes>"
      ]
     },
     "metadata": {
      "needs_background": "light"
     },
     "output_type": "display_data"
    },
    {
     "data": {
      "image/png": "[encoded data removed]",
      "text/plain": [
       "<Figure size 432x288 with 2 Axes>"
      ]
     },
     "metadata": {
      "needs_background": "light"
     },
     "output_type": "display_data"
    },
    {
     "data": {
      "image/png": "[encoded data removed]",
      "text/plain": [
       "<Figure size 432x288 with 2 Axes>"
      ]
     },
     "metadata": {
      "needs_background": "light"
     },
     "output_type": "display_data"
    }
   ],
   "source": [
    "post_trans = Compose([EnsureType(), Activations(softmax=True), AsDiscrete(threshold=0.5)])\n",
    "\n",
    "scaler = torch.cuda.amp.GradScaler() if amp else None\n",
    "best_metric_epoch = -1\n",
    "#writer = SummaryWriter()\n",
    "\n",
    "for fold in range(start_fold, start_fold + num_folds):\n",
    "\n",
    "    \n",
    "    model = UNet(\n",
    "    spatial_dims=3,\n",
    "    in_channels=1,\n",
    "    # With softmax \n",
    "    out_channels=4,\n",
    "    channels=(16, 32, 64, 128,256),\n",
    "    strides=(2, 2, 2, 2),\n",
    "    dropout=0.2,\n",
    "    num_res_units=2,\n",
    "    norm=\"batch\",\n",
    "    \n",
    "\n",
    "    )\n",
    "    model.to(device)\n",
    "    if load_weights:\n",
    "            model.load_state_dict(torch.load(MODEL_FOLDER / f\"{fold}_dict_{training_phase-1}.pth\"))\n",
    "    \n",
    "    optimizer = torch.optim.Adam(model.parameters(), max_learning_rate,weight_decay = 1e-6)\n",
    "    \n",
    "    \n",
    "    \n",
    "    epoch_loss_values = list()\n",
    "    metric_values = list()\n",
    "\n",
    "    best_metric = -1\n",
    "    print(\"-\" * 10)\n",
    "    print(f\"fold {fold + 1}/{num_folds}\")\n",
    "    train_loader, val_loader = get_data_loader(df2d, fold,tr_transforms, batch_size)\n",
    "    \n",
    "    lr_scheduler = LR(optimizer, max_lr=max_learning_rate, steps_per_epoch=len(train_loader), epochs=num_epochs)\n",
    "    #lr_scheduler = LR(optimizer, T_max=10, eta_min=min_learning_rate)\n",
    "    for epoch in range(num_epochs):\n",
    "        print(\"-\" * 10)\n",
    "        lr_val = optimizer.param_groups[0][\"lr\"]\n",
    "        print(f\"epoch {epoch + 1}/{num_epochs}  LR={lr_val}\")\n",
    "        model.train()\n",
    "        epoch_loss = 0\n",
    "        pbar = tqdm(total=len(train_loader))\n",
    "        for i, batch_data in enumerate(train_loader):\n",
    "            inputs, labels = batch_data[\"img\"].to(device), batch_data[\"mask\"].to(device)\n",
    "            # dim[0] == batch\n",
    "            # dim[1] == channel 1\n",
    "            # dim[2] == spatial dim 1\n",
    "            # dim[3] == spatial dim 2\n",
    "            #Apply softmax to labels because they overlap in some cases\n",
    "            labels = torch.nn.Softmax(dim=1)(labels)\n",
    "            \n",
    "            optimizer.zero_grad()\n",
    "            if amp and scaler is not None:\n",
    "                with torch.cuda.amp.autocast():\n",
    "                    outputs = model(inputs)\n",
    "                    loss = loss_function(outputs, labels)\n",
    "                scaler.scale(loss).backward()\n",
    "                torch.nn.utils.clip_grad_norm_(model.parameters(), 12) # clip gradients with amp\n",
    "                scaler.step(optimizer)\n",
    "                scaler.update()\n",
    "            else:\n",
    "                outputs = model(inputs)\n",
    "                loss = loss_function(outputs, labels)\n",
    "                loss.backward()\n",
    "                optimizer.step()\n",
    "            \n",
    "            lr_scheduler.step()\n",
    "            \n",
    "            loss_item = loss.item()\n",
    "            epoch_loss += loss_item\n",
    "            epoch_len = len(train_loader) // train_loader.batch_size\n",
    "            pbar.update(1)\n",
    "        pbar.close()\n",
    "        #plot_output_data3d(inputs[0], labels[0], post_trans(outputs[0]))\n",
    "        epoch_loss /= i\n",
    "        epoch_loss_values.append(epoch_loss)\n",
    "        #torch.save(optimizer.state_dict(), MODEL_FOLDER / f\"{fold}_optimizer_{training_phase}.pth\")\n",
    "        #print(labels.shape, outputs.shape)\n",
    "        \n",
    "        print(f\"epoch {epoch + 1} average loss: {epoch_loss:.4f}\")\n",
    "\n",
    "        if (epoch + 1) % val_interval == 0:\n",
    "            model.eval()\n",
    "            with torch.no_grad():\n",
    "                val_images = None\n",
    "                val_labels = None\n",
    "                val_outputs = None\n",
    "                pbar = tqdm(total=len(val_loader))\n",
    "                print(\"-\" * 10)\n",
    "                print(f\"Validation\")\n",
    "                metric_function.reset()\n",
    "                for i, val_data in enumerate(val_loader):\n",
    "                    #if i > 0:\n",
    "                    #    break\n",
    "                    val_images, val_labels = val_data[\"img\"].to(device), val_data[\"mask\"].to(device)\n",
    "                    \n",
    "                    sw_batch_size = 4\n",
    "                    if amp:\n",
    "                        with torch.cuda.amp.autocast():\n",
    "                            val_outputs = sliding_window_inference(val_images, roi_size, sw_batch_size, model)\n",
    "                    else:\n",
    "                        \n",
    "                        val_outputs = sliding_window_inference(val_images, roi_size, sw_batch_size, model)\n",
    "                    \n",
    "                    val_outputs = [post_trans(i) for i in decollate_batch(val_outputs)]\n",
    "                    # compute metric for current iteration\n",
    "                    metric_function(y_pred=val_outputs, y=val_labels)\n",
    "                    pbar.update(1)\n",
    "                pbar.close()\n",
    "                \n",
    "                # aggregate the final mean dice result\n",
    "                metric = metric_function.aggregate().item()\n",
    "                print(\"Metric: \"+str(metric))\n",
    "                # reset the status for next validation round\n",
    "                metric_function.reset()\n",
    "\n",
    "                metric_values.append(metric)\n",
    "                if metric > best_metric:\n",
    "                    best_metric = metric\n",
    "                    best_metric_epoch = epoch + 1\n",
    "                    #plot_output_data3d(val_images[0], val_labels[0], val_outputs[0])\n",
    "                    torch.save(model.state_dict(), MODEL_FOLDER / f\"{fold}_best_dict_{training_phase}.pth\")\n",
    "                    print(\"saved new best metric model\")\n",
    "                print(\n",
    "                    \"current epoch: {} current mean dice: {:.4f} best mean dice: {:.4f} at epoch {}\".format(\n",
    "                        epoch + 1, metric, best_metric, best_metric_epoch\n",
    "                    )\n",
    "                )\n",
    "                #writer.add_scalar(\"val_mean_dice\", metric, epoch + 1)\n",
    "    plot_metrics(epoch_loss_values, metric_values)\n",
    "    torch.save(model.state_dict(), MODEL_FOLDER / f\"{fold}_dict_{training_phase}.pth\")"
   ]
  },
  {
   "cell_type": "markdown",
   "metadata": {},
   "source": [
    "### Training phase 9 - use augmentation transforms - reduce LR"
   ]
  },
  {
   "cell_type": "code",
   "execution_count": 27,
   "metadata": {},
   "outputs": [],
   "source": [
    "#Training settings\n",
    "\n",
    "\n",
    "#fn=\"/media/SSD/gi-tract/uw-madison-gi-tract-image-segmentation/kaggle models/best_weights_fold_0.pth\"\n",
    "#model.load_state_dict(torch.load(fn),strict=False)\n",
    "\n",
    "amp = True\n",
    "\n",
    "training_phase = 9\n",
    "load_weights = True\n",
    "\n",
    "#tr_transforms = train_transforms[0]\n",
    "#batch_size = 8\n",
    "\n",
    "tr_transforms = train_transforms[1]\n",
    "batch_size = 6\n",
    "\n",
    "num_epochs = 20\n",
    "num_folds = 5\n",
    "start_fold = 0\n",
    "val_interval = 5\n",
    "roi_size = (256, 256, 80)\n",
    "\n",
    "metric_function = DiceMetric(include_background=True, reduction=\"mean\", get_not_nans=False)\n",
    "loss_function = DiceCELoss(include_background=False, softmax=True)\n",
    "\n",
    "LR = torch.optim.lr_scheduler.OneCycleLR\n",
    "max_learning_rate = 0.0001\n",
    "min_learning_rate = 0.001\n"
   ]
  },
  {
   "cell_type": "code",
   "execution_count": 28,
   "metadata": {
    "scrolled": false
   },
   "outputs": [
    {
     "name": "stdout",
     "output_type": "stream",
     "text": [
      "----------\n",
      "fold 1/5\n",
      "Train Length: 220 Val Length: 54\n",
      "----------\n",
      "epoch 1/20  LR=4.000000000000002e-06\n"
     ]
    },
    {
     "data": {
      "application/vnd.jupyter.widget-view+json": {
       "model_id": "",
       "version_major": 2,
       "version_minor": 0
      },
      "text/plain": [
       "  0%|          | 0/37 [00:00<?, ?it/s]"
      ]
     },
     "metadata": {},
     "output_type": "display_data"
    },
    {
     "name": "stdout",
     "output_type": "stream",
     "text": [
      "epoch 1 average loss: 1.0470\n",
      "----------\n",
      "epoch 2/20  LR=1.0487758639348156e-05\n"
     ]
    },
    {
     "data": {
      "application/vnd.jupyter.widget-view+json": {
       "model_id": "",
       "version_major": 2,
       "version_minor": 0
      },
      "text/plain": [
       "  0%|          | 0/37 [00:00<?, ?it/s]"
      ]
     },
     "metadata": {},
     "output_type": "display_data"
    },
    {
     "name": "stdout",
     "output_type": "stream",
     "text": [
      "epoch 2 average loss: 1.0438\n",
      "----------\n",
      "epoch 3/20  LR=2.8197242383957768e-05\n"
     ]
    },
    {
     "data": {
      "application/vnd.jupyter.widget-view+json": {
       "model_id": "",
       "version_major": 2,
       "version_minor": 0
      },
      "text/plain": [
       "  0%|          | 0/37 [00:00<?, ?it/s]"
      ]
     },
     "metadata": {},
     "output_type": "display_data"
    },
    {
     "name": "stdout",
     "output_type": "stream",
     "text": [
      "epoch 3 average loss: 1.0447\n",
      "----------\n",
      "epoch 4/20  LR=5.2341165560391886e-05\n"
     ]
    },
    {
     "data": {
      "application/vnd.jupyter.widget-view+json": {
       "model_id": "",
       "version_major": 2,
       "version_minor": 0
      },
      "text/plain": [
       "  0%|          | 0/37 [00:00<?, ?it/s]"
      ]
     },
     "metadata": {},
     "output_type": "display_data"
    },
    {
     "name": "stdout",
     "output_type": "stream",
     "text": [
      "epoch 4 average loss: 1.0473\n",
      "----------\n",
      "epoch 5/20  LR=7.63928637446643e-05\n"
     ]
    },
    {
     "data": {
      "application/vnd.jupyter.widget-view+json": {
       "model_id": "",
       "version_major": 2,
       "version_minor": 0
      },
      "text/plain": [
       "  0%|          | 0/37 [00:00<?, ?it/s]"
      ]
     },
     "metadata": {},
     "output_type": "display_data"
    },
    {
     "name": "stdout",
     "output_type": "stream",
     "text": [
      "epoch 5 average loss: 1.0458\n"
     ]
    },
    {
     "data": {
      "application/vnd.jupyter.widget-view+json": {
       "model_id": "",
       "version_major": 2,
       "version_minor": 0
      },
      "text/plain": [
       "  0%|          | 0/54 [00:00<?, ?it/s]"
      ]
     },
     "metadata": {},
     "output_type": "display_data"
    },
    {
     "name": "stdout",
     "output_type": "stream",
     "text": [
      "----------\n",
      "Validation\n",
      "Metric: 0.7072191834449768\n",
      "saved new best metric model\n",
      "current epoch: 5 current mean dice: 0.7072 best mean dice: 0.7072 at epoch 5\n",
      "----------\n",
      "epoch 6/20  LR=9.385060307485807e-05\n"
     ]
    },
    {
     "data": {
      "application/vnd.jupyter.widget-view+json": {
       "model_id": "",
       "version_major": 2,
       "version_minor": 0
      },
      "text/plain": [
       "  0%|          | 0/37 [00:00<?, ?it/s]"
      ]
     },
     "metadata": {},
     "output_type": "display_data"
    },
    {
     "name": "stdout",
     "output_type": "stream",
     "text": [
      "epoch 6 average loss: 1.0481\n",
      "----------\n",
      "epoch 7/20  LR=9.99990804461518e-05\n"
     ]
    },
    {
     "data": {
      "application/vnd.jupyter.widget-view+json": {
       "model_id": "",
       "version_major": 2,
       "version_minor": 0
      },
      "text/plain": [
       "  0%|          | 0/37 [00:00<?, ?it/s]"
      ]
     },
     "metadata": {},
     "output_type": "display_data"
    },
    {
     "name": "stdout",
     "output_type": "stream",
     "text": [
      "epoch 7 average loss: 1.0462\n",
      "----------\n",
      "epoch 8/20  LR=9.867802699646041e-05\n"
     ]
    },
    {
     "data": {
      "application/vnd.jupyter.widget-view+json": {
       "model_id": "",
       "version_major": 2,
       "version_minor": 0
      },
      "text/plain": [
       "  0%|          | 0/37 [00:00<?, ?it/s]"
      ]
     },
     "metadata": {},
     "output_type": "display_data"
    },
    {
     "name": "stdout",
     "output_type": "stream",
     "text": [
      "epoch 8 average loss: 1.0469\n",
      "----------\n",
      "epoch 9/20  LR=9.49160640402625e-05\n"
     ]
    },
    {
     "data": {
      "application/vnd.jupyter.widget-view+json": {
       "model_id": "",
       "version_major": 2,
       "version_minor": 0
      },
      "text/plain": [
       "  0%|          | 0/37 [00:00<?, ?it/s]"
      ]
     },
     "metadata": {},
     "output_type": "display_data"
    },
    {
     "name": "stdout",
     "output_type": "stream",
     "text": [
      "epoch 9 average loss: 1.0449\n",
      "----------\n",
      "epoch 10/20  LR=8.890183210877112e-05\n"
     ]
    },
    {
     "data": {
      "application/vnd.jupyter.widget-view+json": {
       "model_id": "",
       "version_major": 2,
       "version_minor": 0
      },
      "text/plain": [
       "  0%|          | 0/37 [00:00<?, ?it/s]"
      ]
     },
     "metadata": {},
     "output_type": "display_data"
    },
    {
     "name": "stdout",
     "output_type": "stream",
     "text": [
      "epoch 10 average loss: 1.0456\n"
     ]
    },
    {
     "data": {
      "application/vnd.jupyter.widget-view+json": {
       "model_id": "",
       "version_major": 2,
       "version_minor": 0
      },
      "text/plain": [
       "  0%|          | 0/54 [00:00<?, ?it/s]"
      ]
     },
     "metadata": {},
     "output_type": "display_data"
    },
    {
     "name": "stdout",
     "output_type": "stream",
     "text": [
      "----------\n",
      "Validation\n",
      "Metric: 0.7129323482513428\n",
      "saved new best metric model\n",
      "current epoch: 10 current mean dice: 0.7129 best mean dice: 0.7129 at epoch 10\n",
      "----------\n",
      "epoch 11/20  LR=8.093690990427675e-05\n"
     ]
    },
    {
     "data": {
      "application/vnd.jupyter.widget-view+json": {
       "model_id": "",
       "version_major": 2,
       "version_minor": 0
      },
      "text/plain": [
       "  0%|          | 0/37 [00:00<?, ?it/s]"
      ]
     },
     "metadata": {},
     "output_type": "display_data"
    },
    {
     "name": "stdout",
     "output_type": "stream",
     "text": [
      "epoch 11 average loss: 1.0451\n",
      "----------\n",
      "epoch 12/20  LR=7.142069188473141e-05\n"
     ]
    },
    {
     "data": {
      "application/vnd.jupyter.widget-view+json": {
       "model_id": "",
       "version_major": 2,
       "version_minor": 0
      },
      "text/plain": [
       "  0%|          | 0/37 [00:00<?, ?it/s]"
      ]
     },
     "metadata": {},
     "output_type": "display_data"
    },
    {
     "name": "stdout",
     "output_type": "stream",
     "text": [
      "epoch 12 average loss: 1.0469\n",
      "----------\n",
      "epoch 13/20  LR=6.083036095790106e-05\n"
     ]
    },
    {
     "data": {
      "application/vnd.jupyter.widget-view+json": {
       "model_id": "",
       "version_major": 2,
       "version_minor": 0
      },
      "text/plain": [
       "  0%|          | 0/37 [00:00<?, ?it/s]"
      ]
     },
     "metadata": {},
     "output_type": "display_data"
    },
    {
     "name": "stdout",
     "output_type": "stream",
     "text": [
      "epoch 13 average loss: 1.0447\n",
      "----------\n",
      "epoch 14/20  LR=4.969696053782773e-05\n"
     ]
    },
    {
     "data": {
      "application/vnd.jupyter.widget-view+json": {
       "model_id": "",
       "version_major": 2,
       "version_minor": 0
      },
      "text/plain": [
       "  0%|          | 0/37 [00:00<?, ?it/s]"
      ]
     },
     "metadata": {},
     "output_type": "display_data"
    },
    {
     "name": "stdout",
     "output_type": "stream",
     "text": [
      "epoch 14 average loss: 1.0436\n",
      "----------\n",
      "epoch 15/20  LR=3.857876581060544e-05\n"
     ]
    },
    {
     "data": {
      "application/vnd.jupyter.widget-view+json": {
       "model_id": "",
       "version_major": 2,
       "version_minor": 0
      },
      "text/plain": [
       "  0%|          | 0/37 [00:00<?, ?it/s]"
      ]
     },
     "metadata": {},
     "output_type": "display_data"
    },
    {
     "name": "stdout",
     "output_type": "stream",
     "text": [
      "epoch 15 average loss: 1.0476\n"
     ]
    },
    {
     "data": {
      "application/vnd.jupyter.widget-view+json": {
       "model_id": "",
       "version_major": 2,
       "version_minor": 0
      },
      "text/plain": [
       "  0%|          | 0/54 [00:00<?, ?it/s]"
      ]
     },
     "metadata": {},
     "output_type": "display_data"
    },
    {
     "name": "stdout",
     "output_type": "stream",
     "text": [
      "----------\n",
      "Validation\n",
      "Metric: 0.7281319499015808\n",
      "saved new best metric model\n",
      "current epoch: 15 current mean dice: 0.7281 best mean dice: 0.7281 at epoch 15\n",
      "----------\n",
      "epoch 16/20  LR=2.8033289485395193e-05\n"
     ]
    },
    {
     "data": {
      "application/vnd.jupyter.widget-view+json": {
       "model_id": "",
       "version_major": 2,
       "version_minor": 0
      },
      "text/plain": [
       "  0%|          | 0/37 [00:00<?, ?it/s]"
      ]
     },
     "metadata": {},
     "output_type": "display_data"
    },
    {
     "name": "stdout",
     "output_type": "stream",
     "text": [
      "epoch 16 average loss: 1.0469\n",
      "----------\n",
      "epoch 17/20  LR=1.858932577921734e-05\n"
     ]
    },
    {
     "data": {
      "application/vnd.jupyter.widget-view+json": {
       "model_id": "",
       "version_major": 2,
       "version_minor": 0
      },
      "text/plain": [
       "  0%|          | 0/37 [00:00<?, ?it/s]"
      ]
     },
     "metadata": {},
     "output_type": "display_data"
    },
    {
     "name": "stdout",
     "output_type": "stream",
     "text": [
      "epoch 17 average loss: 1.0494\n",
      "----------\n",
      "epoch 18/20  LR=1.072043446685781e-05\n"
     ]
    },
    {
     "data": {
      "application/vnd.jupyter.widget-view+json": {
       "model_id": "",
       "version_major": 2,
       "version_minor": 0
      },
      "text/plain": [
       "  0%|          | 0/37 [00:00<?, ?it/s]"
      ]
     },
     "metadata": {},
     "output_type": "display_data"
    },
    {
     "name": "stdout",
     "output_type": "stream",
     "text": [
      "epoch 18 average loss: 1.0449\n",
      "----------\n",
      "epoch 19/20  LR=4.821194616346907e-06\n"
     ]
    },
    {
     "data": {
      "application/vnd.jupyter.widget-view+json": {
       "model_id": "",
       "version_major": 2,
       "version_minor": 0
      },
      "text/plain": [
       "  0%|          | 0/37 [00:00<?, ?it/s]"
      ]
     },
     "metadata": {},
     "output_type": "display_data"
    },
    {
     "name": "stdout",
     "output_type": "stream",
     "text": [
      "epoch 19 average loss: 1.0434\n",
      "----------\n",
      "epoch 20/20  LR=1.1874187468696274e-06\n"
     ]
    },
    {
     "data": {
      "application/vnd.jupyter.widget-view+json": {
       "model_id": "",
       "version_major": 2,
       "version_minor": 0
      },
      "text/plain": [
       "  0%|          | 0/37 [00:00<?, ?it/s]"
      ]
     },
     "metadata": {},
     "output_type": "display_data"
    },
    {
     "name": "stdout",
     "output_type": "stream",
     "text": [
      "epoch 20 average loss: 1.0429\n"
     ]
    },
    {
     "data": {
      "application/vnd.jupyter.widget-view+json": {
       "model_id": "",
       "version_major": 2,
       "version_minor": 0
      },
      "text/plain": [
       "  0%|          | 0/54 [00:00<?, ?it/s]"
      ]
     },
     "metadata": {},
     "output_type": "display_data"
    },
    {
     "name": "stdout",
     "output_type": "stream",
     "text": [
      "----------\n",
      "Validation\n",
      "Metric: 0.7275170683860779\n",
      "current epoch: 20 current mean dice: 0.7275 best mean dice: 0.7281 at epoch 15\n",
      "----------\n",
      "fold 2/5\n",
      "Train Length: 219 Val Length: 55\n",
      "----------\n",
      "epoch 1/20  LR=4.000000000000002e-06\n"
     ]
    },
    {
     "data": {
      "application/vnd.jupyter.widget-view+json": {
       "model_id": "",
       "version_major": 2,
       "version_minor": 0
      },
      "text/plain": [
       "  0%|          | 0/37 [00:00<?, ?it/s]"
      ]
     },
     "metadata": {},
     "output_type": "display_data"
    },
    {
     "name": "stdout",
     "output_type": "stream",
     "text": [
      "epoch 1 average loss: 1.0461\n",
      "----------\n",
      "epoch 2/20  LR=1.0487758639348156e-05\n"
     ]
    },
    {
     "data": {
      "application/vnd.jupyter.widget-view+json": {
       "model_id": "",
       "version_major": 2,
       "version_minor": 0
      },
      "text/plain": [
       "  0%|          | 0/37 [00:00<?, ?it/s]"
      ]
     },
     "metadata": {},
     "output_type": "display_data"
    },
    {
     "name": "stdout",
     "output_type": "stream",
     "text": [
      "epoch 2 average loss: 1.0458\n",
      "----------\n",
      "epoch 3/20  LR=2.8197242383957768e-05\n"
     ]
    },
    {
     "data": {
      "application/vnd.jupyter.widget-view+json": {
       "model_id": "",
       "version_major": 2,
       "version_minor": 0
      },
      "text/plain": [
       "  0%|          | 0/37 [00:00<?, ?it/s]"
      ]
     },
     "metadata": {},
     "output_type": "display_data"
    },
    {
     "name": "stdout",
     "output_type": "stream",
     "text": [
      "epoch 3 average loss: 1.0470\n",
      "----------\n",
      "epoch 4/20  LR=5.2341165560391886e-05\n"
     ]
    },
    {
     "data": {
      "application/vnd.jupyter.widget-view+json": {
       "model_id": "",
       "version_major": 2,
       "version_minor": 0
      },
      "text/plain": [
       "  0%|          | 0/37 [00:00<?, ?it/s]"
      ]
     },
     "metadata": {},
     "output_type": "display_data"
    },
    {
     "name": "stdout",
     "output_type": "stream",
     "text": [
      "epoch 4 average loss: 1.0466\n",
      "----------\n",
      "epoch 5/20  LR=7.63928637446643e-05\n"
     ]
    },
    {
     "data": {
      "application/vnd.jupyter.widget-view+json": {
       "model_id": "",
       "version_major": 2,
       "version_minor": 0
      },
      "text/plain": [
       "  0%|          | 0/37 [00:00<?, ?it/s]"
      ]
     },
     "metadata": {},
     "output_type": "display_data"
    },
    {
     "name": "stdout",
     "output_type": "stream",
     "text": [
      "epoch 5 average loss: 1.0468\n"
     ]
    },
    {
     "data": {
      "application/vnd.jupyter.widget-view+json": {
       "model_id": "",
       "version_major": 2,
       "version_minor": 0
      },
      "text/plain": [
       "  0%|          | 0/55 [00:00<?, ?it/s]"
      ]
     },
     "metadata": {},
     "output_type": "display_data"
    },
    {
     "name": "stdout",
     "output_type": "stream",
     "text": [
      "----------\n",
      "Validation\n",
      "Metric: 0.728847861289978\n",
      "saved new best metric model\n",
      "current epoch: 5 current mean dice: 0.7288 best mean dice: 0.7288 at epoch 5\n",
      "----------\n",
      "epoch 6/20  LR=9.385060307485807e-05\n"
     ]
    },
    {
     "data": {
      "application/vnd.jupyter.widget-view+json": {
       "model_id": "",
       "version_major": 2,
       "version_minor": 0
      },
      "text/plain": [
       "  0%|          | 0/37 [00:00<?, ?it/s]"
      ]
     },
     "metadata": {},
     "output_type": "display_data"
    },
    {
     "name": "stdout",
     "output_type": "stream",
     "text": [
      "epoch 6 average loss: 1.0458\n",
      "----------\n",
      "epoch 7/20  LR=9.99990804461518e-05\n"
     ]
    },
    {
     "data": {
      "application/vnd.jupyter.widget-view+json": {
       "model_id": "",
       "version_major": 2,
       "version_minor": 0
      },
      "text/plain": [
       "  0%|          | 0/37 [00:00<?, ?it/s]"
      ]
     },
     "metadata": {},
     "output_type": "display_data"
    },
    {
     "name": "stdout",
     "output_type": "stream",
     "text": [
      "epoch 7 average loss: 1.0464\n",
      "----------\n",
      "epoch 8/20  LR=9.867802699646041e-05\n"
     ]
    },
    {
     "data": {
      "application/vnd.jupyter.widget-view+json": {
       "model_id": "",
       "version_major": 2,
       "version_minor": 0
      },
      "text/plain": [
       "  0%|          | 0/37 [00:00<?, ?it/s]"
      ]
     },
     "metadata": {},
     "output_type": "display_data"
    },
    {
     "name": "stdout",
     "output_type": "stream",
     "text": [
      "epoch 8 average loss: 1.0443\n",
      "----------\n",
      "epoch 9/20  LR=9.49160640402625e-05\n"
     ]
    },
    {
     "data": {
      "application/vnd.jupyter.widget-view+json": {
       "model_id": "",
       "version_major": 2,
       "version_minor": 0
      },
      "text/plain": [
       "  0%|          | 0/37 [00:00<?, ?it/s]"
      ]
     },
     "metadata": {},
     "output_type": "display_data"
    },
    {
     "name": "stdout",
     "output_type": "stream",
     "text": [
      "epoch 9 average loss: 1.0436\n",
      "----------\n",
      "epoch 10/20  LR=8.890183210877112e-05\n"
     ]
    },
    {
     "data": {
      "application/vnd.jupyter.widget-view+json": {
       "model_id": "",
       "version_major": 2,
       "version_minor": 0
      },
      "text/plain": [
       "  0%|          | 0/37 [00:00<?, ?it/s]"
      ]
     },
     "metadata": {},
     "output_type": "display_data"
    },
    {
     "name": "stdout",
     "output_type": "stream",
     "text": [
      "epoch 10 average loss: 1.0443\n"
     ]
    },
    {
     "data": {
      "application/vnd.jupyter.widget-view+json": {
       "model_id": "",
       "version_major": 2,
       "version_minor": 0
      },
      "text/plain": [
       "  0%|          | 0/55 [00:00<?, ?it/s]"
      ]
     },
     "metadata": {},
     "output_type": "display_data"
    },
    {
     "name": "stdout",
     "output_type": "stream",
     "text": [
      "----------\n",
      "Validation\n",
      "Metric: 0.7208414077758789\n",
      "current epoch: 10 current mean dice: 0.7208 best mean dice: 0.7288 at epoch 5\n",
      "----------\n",
      "epoch 11/20  LR=8.093690990427675e-05\n"
     ]
    },
    {
     "data": {
      "application/vnd.jupyter.widget-view+json": {
       "model_id": "",
       "version_major": 2,
       "version_minor": 0
      },
      "text/plain": [
       "  0%|          | 0/37 [00:00<?, ?it/s]"
      ]
     },
     "metadata": {},
     "output_type": "display_data"
    },
    {
     "name": "stdout",
     "output_type": "stream",
     "text": [
      "epoch 11 average loss: 1.0458\n",
      "----------\n",
      "epoch 12/20  LR=7.142069188473141e-05\n"
     ]
    },
    {
     "data": {
      "application/vnd.jupyter.widget-view+json": {
       "model_id": "",
       "version_major": 2,
       "version_minor": 0
      },
      "text/plain": [
       "  0%|          | 0/37 [00:00<?, ?it/s]"
      ]
     },
     "metadata": {},
     "output_type": "display_data"
    },
    {
     "name": "stdout",
     "output_type": "stream",
     "text": [
      "epoch 12 average loss: 1.0450\n",
      "----------\n",
      "epoch 13/20  LR=6.083036095790106e-05\n"
     ]
    },
    {
     "data": {
      "application/vnd.jupyter.widget-view+json": {
       "model_id": "",
       "version_major": 2,
       "version_minor": 0
      },
      "text/plain": [
       "  0%|          | 0/37 [00:00<?, ?it/s]"
      ]
     },
     "metadata": {},
     "output_type": "display_data"
    },
    {
     "name": "stdout",
     "output_type": "stream",
     "text": [
      "epoch 13 average loss: 1.0442\n",
      "----------\n",
      "epoch 14/20  LR=4.969696053782773e-05\n"
     ]
    },
    {
     "data": {
      "application/vnd.jupyter.widget-view+json": {
       "model_id": "",
       "version_major": 2,
       "version_minor": 0
      },
      "text/plain": [
       "  0%|          | 0/37 [00:00<?, ?it/s]"
      ]
     },
     "metadata": {},
     "output_type": "display_data"
    },
    {
     "name": "stdout",
     "output_type": "stream",
     "text": [
      "epoch 14 average loss: 1.0472\n",
      "----------\n",
      "epoch 15/20  LR=3.857876581060544e-05\n"
     ]
    },
    {
     "data": {
      "application/vnd.jupyter.widget-view+json": {
       "model_id": "",
       "version_major": 2,
       "version_minor": 0
      },
      "text/plain": [
       "  0%|          | 0/37 [00:00<?, ?it/s]"
      ]
     },
     "metadata": {},
     "output_type": "display_data"
    },
    {
     "name": "stdout",
     "output_type": "stream",
     "text": [
      "epoch 15 average loss: 1.0459\n"
     ]
    },
    {
     "data": {
      "application/vnd.jupyter.widget-view+json": {
       "model_id": "",
       "version_major": 2,
       "version_minor": 0
      },
      "text/plain": [
       "  0%|          | 0/55 [00:00<?, ?it/s]"
      ]
     },
     "metadata": {},
     "output_type": "display_data"
    },
    {
     "name": "stdout",
     "output_type": "stream",
     "text": [
      "----------\n",
      "Validation\n",
      "Metric: 0.7310838103294373\n",
      "saved new best metric model\n",
      "current epoch: 15 current mean dice: 0.7311 best mean dice: 0.7311 at epoch 15\n",
      "----------\n",
      "epoch 16/20  LR=2.8033289485395193e-05\n"
     ]
    },
    {
     "data": {
      "application/vnd.jupyter.widget-view+json": {
       "model_id": "",
       "version_major": 2,
       "version_minor": 0
      },
      "text/plain": [
       "  0%|          | 0/37 [00:00<?, ?it/s]"
      ]
     },
     "metadata": {},
     "output_type": "display_data"
    },
    {
     "name": "stdout",
     "output_type": "stream",
     "text": [
      "epoch 16 average loss: 1.0443\n",
      "----------\n",
      "epoch 17/20  LR=1.858932577921734e-05\n"
     ]
    },
    {
     "data": {
      "application/vnd.jupyter.widget-view+json": {
       "model_id": "",
       "version_major": 2,
       "version_minor": 0
      },
      "text/plain": [
       "  0%|          | 0/37 [00:00<?, ?it/s]"
      ]
     },
     "metadata": {},
     "output_type": "display_data"
    },
    {
     "name": "stdout",
     "output_type": "stream",
     "text": [
      "epoch 17 average loss: 1.0435\n",
      "----------\n",
      "epoch 18/20  LR=1.072043446685781e-05\n"
     ]
    },
    {
     "data": {
      "application/vnd.jupyter.widget-view+json": {
       "model_id": "",
       "version_major": 2,
       "version_minor": 0
      },
      "text/plain": [
       "  0%|          | 0/37 [00:00<?, ?it/s]"
      ]
     },
     "metadata": {},
     "output_type": "display_data"
    },
    {
     "name": "stdout",
     "output_type": "stream",
     "text": [
      "epoch 18 average loss: 1.0426\n",
      "----------\n",
      "epoch 19/20  LR=4.821194616346907e-06\n"
     ]
    },
    {
     "data": {
      "application/vnd.jupyter.widget-view+json": {
       "model_id": "",
       "version_major": 2,
       "version_minor": 0
      },
      "text/plain": [
       "  0%|          | 0/37 [00:00<?, ?it/s]"
      ]
     },
     "metadata": {},
     "output_type": "display_data"
    },
    {
     "name": "stdout",
     "output_type": "stream",
     "text": [
      "epoch 19 average loss: 1.0441\n",
      "----------\n",
      "epoch 20/20  LR=1.1874187468696274e-06\n"
     ]
    },
    {
     "data": {
      "application/vnd.jupyter.widget-view+json": {
       "model_id": "",
       "version_major": 2,
       "version_minor": 0
      },
      "text/plain": [
       "  0%|          | 0/37 [00:00<?, ?it/s]"
      ]
     },
     "metadata": {},
     "output_type": "display_data"
    },
    {
     "name": "stdout",
     "output_type": "stream",
     "text": [
      "epoch 20 average loss: 1.0415\n"
     ]
    },
    {
     "data": {
      "application/vnd.jupyter.widget-view+json": {
       "model_id": "",
       "version_major": 2,
       "version_minor": 0
      },
      "text/plain": [
       "  0%|          | 0/55 [00:00<?, ?it/s]"
      ]
     },
     "metadata": {},
     "output_type": "display_data"
    },
    {
     "name": "stdout",
     "output_type": "stream",
     "text": [
      "----------\n",
      "Validation\n",
      "Metric: 0.7370118498802185\n",
      "saved new best metric model\n",
      "current epoch: 20 current mean dice: 0.7370 best mean dice: 0.7370 at epoch 20\n",
      "----------\n",
      "fold 3/5\n",
      "Train Length: 219 Val Length: 55\n",
      "----------\n",
      "epoch 1/20  LR=4.000000000000002e-06\n"
     ]
    },
    {
     "data": {
      "application/vnd.jupyter.widget-view+json": {
       "model_id": "",
       "version_major": 2,
       "version_minor": 0
      },
      "text/plain": [
       "  0%|          | 0/37 [00:00<?, ?it/s]"
      ]
     },
     "metadata": {},
     "output_type": "display_data"
    },
    {
     "name": "stdout",
     "output_type": "stream",
     "text": [
      "epoch 1 average loss: 1.0478\n",
      "----------\n",
      "epoch 2/20  LR=1.0487758639348156e-05\n"
     ]
    },
    {
     "data": {
      "application/vnd.jupyter.widget-view+json": {
       "model_id": "",
       "version_major": 2,
       "version_minor": 0
      },
      "text/plain": [
       "  0%|          | 0/37 [00:00<?, ?it/s]"
      ]
     },
     "metadata": {},
     "output_type": "display_data"
    },
    {
     "name": "stdout",
     "output_type": "stream",
     "text": [
      "epoch 2 average loss: 1.0453\n",
      "----------\n",
      "epoch 3/20  LR=2.8197242383957768e-05\n"
     ]
    },
    {
     "data": {
      "application/vnd.jupyter.widget-view+json": {
       "model_id": "",
       "version_major": 2,
       "version_minor": 0
      },
      "text/plain": [
       "  0%|          | 0/37 [00:00<?, ?it/s]"
      ]
     },
     "metadata": {},
     "output_type": "display_data"
    },
    {
     "name": "stdout",
     "output_type": "stream",
     "text": [
      "epoch 3 average loss: 1.0461\n",
      "----------\n",
      "epoch 4/20  LR=5.2341165560391886e-05\n"
     ]
    },
    {
     "data": {
      "application/vnd.jupyter.widget-view+json": {
       "model_id": "",
       "version_major": 2,
       "version_minor": 0
      },
      "text/plain": [
       "  0%|          | 0/37 [00:00<?, ?it/s]"
      ]
     },
     "metadata": {},
     "output_type": "display_data"
    },
    {
     "name": "stdout",
     "output_type": "stream",
     "text": [
      "epoch 4 average loss: 1.0454\n",
      "----------\n",
      "epoch 5/20  LR=7.63928637446643e-05\n"
     ]
    },
    {
     "data": {
      "application/vnd.jupyter.widget-view+json": {
       "model_id": "",
       "version_major": 2,
       "version_minor": 0
      },
      "text/plain": [
       "  0%|          | 0/37 [00:00<?, ?it/s]"
      ]
     },
     "metadata": {},
     "output_type": "display_data"
    },
    {
     "name": "stdout",
     "output_type": "stream",
     "text": [
      "epoch 5 average loss: 1.0413\n"
     ]
    },
    {
     "data": {
      "application/vnd.jupyter.widget-view+json": {
       "model_id": "",
       "version_major": 2,
       "version_minor": 0
      },
      "text/plain": [
       "  0%|          | 0/55 [00:00<?, ?it/s]"
      ]
     },
     "metadata": {},
     "output_type": "display_data"
    },
    {
     "name": "stdout",
     "output_type": "stream",
     "text": [
      "----------\n",
      "Validation\n",
      "Metric: 0.7304233312606812\n",
      "saved new best metric model\n",
      "current epoch: 5 current mean dice: 0.7304 best mean dice: 0.7304 at epoch 5\n",
      "----------\n",
      "epoch 6/20  LR=9.385060307485807e-05\n"
     ]
    },
    {
     "data": {
      "application/vnd.jupyter.widget-view+json": {
       "model_id": "",
       "version_major": 2,
       "version_minor": 0
      },
      "text/plain": [
       "  0%|          | 0/37 [00:00<?, ?it/s]"
      ]
     },
     "metadata": {},
     "output_type": "display_data"
    },
    {
     "name": "stdout",
     "output_type": "stream",
     "text": [
      "epoch 6 average loss: 1.0468\n",
      "----------\n",
      "epoch 7/20  LR=9.99990804461518e-05\n"
     ]
    },
    {
     "data": {
      "application/vnd.jupyter.widget-view+json": {
       "model_id": "",
       "version_major": 2,
       "version_minor": 0
      },
      "text/plain": [
       "  0%|          | 0/37 [00:00<?, ?it/s]"
      ]
     },
     "metadata": {},
     "output_type": "display_data"
    },
    {
     "name": "stdout",
     "output_type": "stream",
     "text": [
      "epoch 7 average loss: 1.0417\n",
      "----------\n",
      "epoch 8/20  LR=9.867802699646041e-05\n"
     ]
    },
    {
     "data": {
      "application/vnd.jupyter.widget-view+json": {
       "model_id": "",
       "version_major": 2,
       "version_minor": 0
      },
      "text/plain": [
       "  0%|          | 0/37 [00:00<?, ?it/s]"
      ]
     },
     "metadata": {},
     "output_type": "display_data"
    },
    {
     "name": "stdout",
     "output_type": "stream",
     "text": [
      "epoch 8 average loss: 1.0456\n",
      "----------\n",
      "epoch 9/20  LR=9.49160640402625e-05\n"
     ]
    },
    {
     "data": {
      "application/vnd.jupyter.widget-view+json": {
       "model_id": "",
       "version_major": 2,
       "version_minor": 0
      },
      "text/plain": [
       "  0%|          | 0/37 [00:00<?, ?it/s]"
      ]
     },
     "metadata": {},
     "output_type": "display_data"
    },
    {
     "name": "stdout",
     "output_type": "stream",
     "text": [
      "epoch 9 average loss: 1.0421\n",
      "----------\n",
      "epoch 10/20  LR=8.890183210877112e-05\n"
     ]
    },
    {
     "data": {
      "application/vnd.jupyter.widget-view+json": {
       "model_id": "",
       "version_major": 2,
       "version_minor": 0
      },
      "text/plain": [
       "  0%|          | 0/37 [00:00<?, ?it/s]"
      ]
     },
     "metadata": {},
     "output_type": "display_data"
    },
    {
     "name": "stdout",
     "output_type": "stream",
     "text": [
      "epoch 10 average loss: 1.0399\n"
     ]
    },
    {
     "data": {
      "application/vnd.jupyter.widget-view+json": {
       "model_id": "",
       "version_major": 2,
       "version_minor": 0
      },
      "text/plain": [
       "  0%|          | 0/55 [00:00<?, ?it/s]"
      ]
     },
     "metadata": {},
     "output_type": "display_data"
    },
    {
     "name": "stdout",
     "output_type": "stream",
     "text": [
      "----------\n",
      "Validation\n",
      "Metric: 0.7374797463417053\n",
      "saved new best metric model\n",
      "current epoch: 10 current mean dice: 0.7375 best mean dice: 0.7375 at epoch 10\n",
      "----------\n",
      "epoch 11/20  LR=8.093690990427675e-05\n"
     ]
    },
    {
     "data": {
      "application/vnd.jupyter.widget-view+json": {
       "model_id": "",
       "version_major": 2,
       "version_minor": 0
      },
      "text/plain": [
       "  0%|          | 0/37 [00:00<?, ?it/s]"
      ]
     },
     "metadata": {},
     "output_type": "display_data"
    },
    {
     "name": "stdout",
     "output_type": "stream",
     "text": [
      "epoch 11 average loss: 1.0497\n",
      "----------\n",
      "epoch 12/20  LR=7.142069188473141e-05\n"
     ]
    },
    {
     "data": {
      "application/vnd.jupyter.widget-view+json": {
       "model_id": "",
       "version_major": 2,
       "version_minor": 0
      },
      "text/plain": [
       "  0%|          | 0/37 [00:00<?, ?it/s]"
      ]
     },
     "metadata": {},
     "output_type": "display_data"
    },
    {
     "name": "stdout",
     "output_type": "stream",
     "text": [
      "epoch 12 average loss: 1.0428\n",
      "----------\n",
      "epoch 13/20  LR=6.083036095790106e-05\n"
     ]
    },
    {
     "data": {
      "application/vnd.jupyter.widget-view+json": {
       "model_id": "",
       "version_major": 2,
       "version_minor": 0
      },
      "text/plain": [
       "  0%|          | 0/37 [00:00<?, ?it/s]"
      ]
     },
     "metadata": {},
     "output_type": "display_data"
    },
    {
     "name": "stdout",
     "output_type": "stream",
     "text": [
      "epoch 13 average loss: 1.0442\n",
      "----------\n",
      "epoch 14/20  LR=4.969696053782773e-05\n"
     ]
    },
    {
     "data": {
      "application/vnd.jupyter.widget-view+json": {
       "model_id": "",
       "version_major": 2,
       "version_minor": 0
      },
      "text/plain": [
       "  0%|          | 0/37 [00:00<?, ?it/s]"
      ]
     },
     "metadata": {},
     "output_type": "display_data"
    },
    {
     "name": "stdout",
     "output_type": "stream",
     "text": [
      "epoch 14 average loss: 1.0437\n",
      "----------\n",
      "epoch 15/20  LR=3.857876581060544e-05\n"
     ]
    },
    {
     "data": {
      "application/vnd.jupyter.widget-view+json": {
       "model_id": "",
       "version_major": 2,
       "version_minor": 0
      },
      "text/plain": [
       "  0%|          | 0/37 [00:00<?, ?it/s]"
      ]
     },
     "metadata": {},
     "output_type": "display_data"
    },
    {
     "name": "stdout",
     "output_type": "stream",
     "text": [
      "epoch 15 average loss: 1.0404\n"
     ]
    },
    {
     "data": {
      "application/vnd.jupyter.widget-view+json": {
       "model_id": "",
       "version_major": 2,
       "version_minor": 0
      },
      "text/plain": [
       "  0%|          | 0/55 [00:00<?, ?it/s]"
      ]
     },
     "metadata": {},
     "output_type": "display_data"
    },
    {
     "name": "stdout",
     "output_type": "stream",
     "text": [
      "----------\n",
      "Validation\n",
      "Metric: 0.7265719175338745\n",
      "current epoch: 15 current mean dice: 0.7266 best mean dice: 0.7375 at epoch 10\n",
      "----------\n",
      "epoch 16/20  LR=2.8033289485395193e-05\n"
     ]
    },
    {
     "data": {
      "application/vnd.jupyter.widget-view+json": {
       "model_id": "",
       "version_major": 2,
       "version_minor": 0
      },
      "text/plain": [
       "  0%|          | 0/37 [00:00<?, ?it/s]"
      ]
     },
     "metadata": {},
     "output_type": "display_data"
    },
    {
     "name": "stdout",
     "output_type": "stream",
     "text": [
      "epoch 16 average loss: 1.0451\n",
      "----------\n",
      "epoch 17/20  LR=1.858932577921734e-05\n"
     ]
    },
    {
     "data": {
      "application/vnd.jupyter.widget-view+json": {
       "model_id": "",
       "version_major": 2,
       "version_minor": 0
      },
      "text/plain": [
       "  0%|          | 0/37 [00:00<?, ?it/s]"
      ]
     },
     "metadata": {},
     "output_type": "display_data"
    },
    {
     "name": "stdout",
     "output_type": "stream",
     "text": [
      "epoch 17 average loss: 1.0417\n",
      "----------\n",
      "epoch 18/20  LR=1.072043446685781e-05\n"
     ]
    },
    {
     "data": {
      "application/vnd.jupyter.widget-view+json": {
       "model_id": "",
       "version_major": 2,
       "version_minor": 0
      },
      "text/plain": [
       "  0%|          | 0/37 [00:00<?, ?it/s]"
      ]
     },
     "metadata": {},
     "output_type": "display_data"
    },
    {
     "name": "stdout",
     "output_type": "stream",
     "text": [
      "epoch 18 average loss: 1.0418\n",
      "----------\n",
      "epoch 19/20  LR=4.821194616346907e-06\n"
     ]
    },
    {
     "data": {
      "application/vnd.jupyter.widget-view+json": {
       "model_id": "",
       "version_major": 2,
       "version_minor": 0
      },
      "text/plain": [
       "  0%|          | 0/37 [00:00<?, ?it/s]"
      ]
     },
     "metadata": {},
     "output_type": "display_data"
    },
    {
     "name": "stdout",
     "output_type": "stream",
     "text": [
      "epoch 19 average loss: 1.0450\n",
      "----------\n",
      "epoch 20/20  LR=1.1874187468696274e-06\n"
     ]
    },
    {
     "data": {
      "application/vnd.jupyter.widget-view+json": {
       "model_id": "",
       "version_major": 2,
       "version_minor": 0
      },
      "text/plain": [
       "  0%|          | 0/37 [00:00<?, ?it/s]"
      ]
     },
     "metadata": {},
     "output_type": "display_data"
    },
    {
     "name": "stdout",
     "output_type": "stream",
     "text": [
      "epoch 20 average loss: 1.0421\n"
     ]
    },
    {
     "data": {
      "application/vnd.jupyter.widget-view+json": {
       "model_id": "",
       "version_major": 2,
       "version_minor": 0
      },
      "text/plain": [
       "  0%|          | 0/55 [00:00<?, ?it/s]"
      ]
     },
     "metadata": {},
     "output_type": "display_data"
    },
    {
     "name": "stdout",
     "output_type": "stream",
     "text": [
      "----------\n",
      "Validation\n",
      "Metric: 0.7505373954772949\n",
      "saved new best metric model\n",
      "current epoch: 20 current mean dice: 0.7505 best mean dice: 0.7505 at epoch 20\n",
      "----------\n",
      "fold 4/5\n",
      "Train Length: 219 Val Length: 55\n",
      "----------\n",
      "epoch 1/20  LR=4.000000000000002e-06\n"
     ]
    },
    {
     "data": {
      "application/vnd.jupyter.widget-view+json": {
       "model_id": "",
       "version_major": 2,
       "version_minor": 0
      },
      "text/plain": [
       "  0%|          | 0/37 [00:00<?, ?it/s]"
      ]
     },
     "metadata": {},
     "output_type": "display_data"
    },
    {
     "name": "stdout",
     "output_type": "stream",
     "text": [
      "epoch 1 average loss: 1.0433\n",
      "----------\n",
      "epoch 2/20  LR=1.0487758639348156e-05\n"
     ]
    },
    {
     "data": {
      "application/vnd.jupyter.widget-view+json": {
       "model_id": "",
       "version_major": 2,
       "version_minor": 0
      },
      "text/plain": [
       "  0%|          | 0/37 [00:00<?, ?it/s]"
      ]
     },
     "metadata": {},
     "output_type": "display_data"
    },
    {
     "name": "stdout",
     "output_type": "stream",
     "text": [
      "epoch 2 average loss: 1.0457\n",
      "----------\n",
      "epoch 3/20  LR=2.8197242383957768e-05\n"
     ]
    },
    {
     "data": {
      "application/vnd.jupyter.widget-view+json": {
       "model_id": "",
       "version_major": 2,
       "version_minor": 0
      },
      "text/plain": [
       "  0%|          | 0/37 [00:00<?, ?it/s]"
      ]
     },
     "metadata": {},
     "output_type": "display_data"
    },
    {
     "name": "stdout",
     "output_type": "stream",
     "text": [
      "epoch 3 average loss: 1.0440\n",
      "----------\n",
      "epoch 4/20  LR=5.2341165560391886e-05\n"
     ]
    },
    {
     "data": {
      "application/vnd.jupyter.widget-view+json": {
       "model_id": "",
       "version_major": 2,
       "version_minor": 0
      },
      "text/plain": [
       "  0%|          | 0/37 [00:00<?, ?it/s]"
      ]
     },
     "metadata": {},
     "output_type": "display_data"
    },
    {
     "name": "stdout",
     "output_type": "stream",
     "text": [
      "epoch 4 average loss: 1.0466\n",
      "----------\n",
      "epoch 5/20  LR=7.63928637446643e-05\n"
     ]
    },
    {
     "data": {
      "application/vnd.jupyter.widget-view+json": {
       "model_id": "",
       "version_major": 2,
       "version_minor": 0
      },
      "text/plain": [
       "  0%|          | 0/37 [00:00<?, ?it/s]"
      ]
     },
     "metadata": {},
     "output_type": "display_data"
    },
    {
     "name": "stdout",
     "output_type": "stream",
     "text": [
      "epoch 5 average loss: 1.0452\n"
     ]
    },
    {
     "data": {
      "application/vnd.jupyter.widget-view+json": {
       "model_id": "",
       "version_major": 2,
       "version_minor": 0
      },
      "text/plain": [
       "  0%|          | 0/55 [00:00<?, ?it/s]"
      ]
     },
     "metadata": {},
     "output_type": "display_data"
    },
    {
     "name": "stdout",
     "output_type": "stream",
     "text": [
      "----------\n",
      "Validation\n",
      "Metric: 0.7303147315979004\n",
      "saved new best metric model\n",
      "current epoch: 5 current mean dice: 0.7303 best mean dice: 0.7303 at epoch 5\n",
      "----------\n",
      "epoch 6/20  LR=9.385060307485807e-05\n"
     ]
    },
    {
     "data": {
      "application/vnd.jupyter.widget-view+json": {
       "model_id": "",
       "version_major": 2,
       "version_minor": 0
      },
      "text/plain": [
       "  0%|          | 0/37 [00:00<?, ?it/s]"
      ]
     },
     "metadata": {},
     "output_type": "display_data"
    },
    {
     "name": "stdout",
     "output_type": "stream",
     "text": [
      "epoch 6 average loss: 1.0499\n",
      "----------\n",
      "epoch 7/20  LR=9.99990804461518e-05\n"
     ]
    },
    {
     "data": {
      "application/vnd.jupyter.widget-view+json": {
       "model_id": "",
       "version_major": 2,
       "version_minor": 0
      },
      "text/plain": [
       "  0%|          | 0/37 [00:00<?, ?it/s]"
      ]
     },
     "metadata": {},
     "output_type": "display_data"
    },
    {
     "name": "stdout",
     "output_type": "stream",
     "text": [
      "epoch 7 average loss: 1.0454\n",
      "----------\n",
      "epoch 8/20  LR=9.867802699646041e-05\n"
     ]
    },
    {
     "data": {
      "application/vnd.jupyter.widget-view+json": {
       "model_id": "",
       "version_major": 2,
       "version_minor": 0
      },
      "text/plain": [
       "  0%|          | 0/37 [00:00<?, ?it/s]"
      ]
     },
     "metadata": {},
     "output_type": "display_data"
    },
    {
     "name": "stdout",
     "output_type": "stream",
     "text": [
      "epoch 8 average loss: 1.0460\n",
      "----------\n",
      "epoch 9/20  LR=9.49160640402625e-05\n"
     ]
    },
    {
     "data": {
      "application/vnd.jupyter.widget-view+json": {
       "model_id": "",
       "version_major": 2,
       "version_minor": 0
      },
      "text/plain": [
       "  0%|          | 0/37 [00:00<?, ?it/s]"
      ]
     },
     "metadata": {},
     "output_type": "display_data"
    },
    {
     "name": "stdout",
     "output_type": "stream",
     "text": [
      "epoch 9 average loss: 1.0442\n",
      "----------\n",
      "epoch 10/20  LR=8.890183210877112e-05\n"
     ]
    },
    {
     "data": {
      "application/vnd.jupyter.widget-view+json": {
       "model_id": "",
       "version_major": 2,
       "version_minor": 0
      },
      "text/plain": [
       "  0%|          | 0/37 [00:00<?, ?it/s]"
      ]
     },
     "metadata": {},
     "output_type": "display_data"
    },
    {
     "name": "stdout",
     "output_type": "stream",
     "text": [
      "epoch 10 average loss: 1.0441\n"
     ]
    },
    {
     "data": {
      "application/vnd.jupyter.widget-view+json": {
       "model_id": "",
       "version_major": 2,
       "version_minor": 0
      },
      "text/plain": [
       "  0%|          | 0/55 [00:00<?, ?it/s]"
      ]
     },
     "metadata": {},
     "output_type": "display_data"
    },
    {
     "name": "stdout",
     "output_type": "stream",
     "text": [
      "----------\n",
      "Validation\n",
      "Metric: 0.7150691747665405\n",
      "current epoch: 10 current mean dice: 0.7151 best mean dice: 0.7303 at epoch 5\n",
      "----------\n",
      "epoch 11/20  LR=8.093690990427675e-05\n"
     ]
    },
    {
     "data": {
      "application/vnd.jupyter.widget-view+json": {
       "model_id": "",
       "version_major": 2,
       "version_minor": 0
      },
      "text/plain": [
       "  0%|          | 0/37 [00:00<?, ?it/s]"
      ]
     },
     "metadata": {},
     "output_type": "display_data"
    },
    {
     "name": "stdout",
     "output_type": "stream",
     "text": [
      "epoch 11 average loss: 1.0437\n",
      "----------\n",
      "epoch 12/20  LR=7.142069188473141e-05\n"
     ]
    },
    {
     "data": {
      "application/vnd.jupyter.widget-view+json": {
       "model_id": "",
       "version_major": 2,
       "version_minor": 0
      },
      "text/plain": [
       "  0%|          | 0/37 [00:00<?, ?it/s]"
      ]
     },
     "metadata": {},
     "output_type": "display_data"
    },
    {
     "name": "stdout",
     "output_type": "stream",
     "text": [
      "epoch 12 average loss: 1.0419\n",
      "----------\n",
      "epoch 13/20  LR=6.083036095790106e-05\n"
     ]
    },
    {
     "data": {
      "application/vnd.jupyter.widget-view+json": {
       "model_id": "",
       "version_major": 2,
       "version_minor": 0
      },
      "text/plain": [
       "  0%|          | 0/37 [00:00<?, ?it/s]"
      ]
     },
     "metadata": {},
     "output_type": "display_data"
    },
    {
     "name": "stdout",
     "output_type": "stream",
     "text": [
      "epoch 13 average loss: 1.0443\n",
      "----------\n",
      "epoch 14/20  LR=4.969696053782773e-05\n"
     ]
    },
    {
     "data": {
      "application/vnd.jupyter.widget-view+json": {
       "model_id": "",
       "version_major": 2,
       "version_minor": 0
      },
      "text/plain": [
       "  0%|          | 0/37 [00:00<?, ?it/s]"
      ]
     },
     "metadata": {},
     "output_type": "display_data"
    },
    {
     "name": "stdout",
     "output_type": "stream",
     "text": [
      "epoch 14 average loss: 1.0476\n",
      "----------\n",
      "epoch 15/20  LR=3.857876581060544e-05\n"
     ]
    },
    {
     "data": {
      "application/vnd.jupyter.widget-view+json": {
       "model_id": "",
       "version_major": 2,
       "version_minor": 0
      },
      "text/plain": [
       "  0%|          | 0/37 [00:00<?, ?it/s]"
      ]
     },
     "metadata": {},
     "output_type": "display_data"
    },
    {
     "name": "stdout",
     "output_type": "stream",
     "text": [
      "epoch 15 average loss: 1.0443\n"
     ]
    },
    {
     "data": {
      "application/vnd.jupyter.widget-view+json": {
       "model_id": "",
       "version_major": 2,
       "version_minor": 0
      },
      "text/plain": [
       "  0%|          | 0/55 [00:00<?, ?it/s]"
      ]
     },
     "metadata": {},
     "output_type": "display_data"
    },
    {
     "name": "stdout",
     "output_type": "stream",
     "text": [
      "----------\n",
      "Validation\n",
      "Metric: 0.7404732704162598\n",
      "saved new best metric model\n",
      "current epoch: 15 current mean dice: 0.7405 best mean dice: 0.7405 at epoch 15\n",
      "----------\n",
      "epoch 16/20  LR=2.8033289485395193e-05\n"
     ]
    },
    {
     "data": {
      "application/vnd.jupyter.widget-view+json": {
       "model_id": "",
       "version_major": 2,
       "version_minor": 0
      },
      "text/plain": [
       "  0%|          | 0/37 [00:00<?, ?it/s]"
      ]
     },
     "metadata": {},
     "output_type": "display_data"
    },
    {
     "name": "stdout",
     "output_type": "stream",
     "text": [
      "epoch 16 average loss: 1.0424\n",
      "----------\n",
      "epoch 17/20  LR=1.858932577921734e-05\n"
     ]
    },
    {
     "data": {
      "application/vnd.jupyter.widget-view+json": {
       "model_id": "",
       "version_major": 2,
       "version_minor": 0
      },
      "text/plain": [
       "  0%|          | 0/37 [00:00<?, ?it/s]"
      ]
     },
     "metadata": {},
     "output_type": "display_data"
    },
    {
     "name": "stdout",
     "output_type": "stream",
     "text": [
      "epoch 17 average loss: 1.0431\n",
      "----------\n",
      "epoch 18/20  LR=1.072043446685781e-05\n"
     ]
    },
    {
     "data": {
      "application/vnd.jupyter.widget-view+json": {
       "model_id": "",
       "version_major": 2,
       "version_minor": 0
      },
      "text/plain": [
       "  0%|          | 0/37 [00:00<?, ?it/s]"
      ]
     },
     "metadata": {},
     "output_type": "display_data"
    },
    {
     "name": "stdout",
     "output_type": "stream",
     "text": [
      "epoch 18 average loss: 1.0423\n",
      "----------\n",
      "epoch 19/20  LR=4.821194616346907e-06\n"
     ]
    },
    {
     "data": {
      "application/vnd.jupyter.widget-view+json": {
       "model_id": "",
       "version_major": 2,
       "version_minor": 0
      },
      "text/plain": [
       "  0%|          | 0/37 [00:00<?, ?it/s]"
      ]
     },
     "metadata": {},
     "output_type": "display_data"
    },
    {
     "name": "stdout",
     "output_type": "stream",
     "text": [
      "epoch 19 average loss: 1.0427\n",
      "----------\n",
      "epoch 20/20  LR=1.1874187468696274e-06\n"
     ]
    },
    {
     "data": {
      "application/vnd.jupyter.widget-view+json": {
       "model_id": "",
       "version_major": 2,
       "version_minor": 0
      },
      "text/plain": [
       "  0%|          | 0/37 [00:00<?, ?it/s]"
      ]
     },
     "metadata": {},
     "output_type": "display_data"
    },
    {
     "name": "stdout",
     "output_type": "stream",
     "text": [
      "epoch 20 average loss: 1.0456\n"
     ]
    },
    {
     "data": {
      "application/vnd.jupyter.widget-view+json": {
       "model_id": "",
       "version_major": 2,
       "version_minor": 0
      },
      "text/plain": [
       "  0%|          | 0/55 [00:00<?, ?it/s]"
      ]
     },
     "metadata": {},
     "output_type": "display_data"
    },
    {
     "name": "stdout",
     "output_type": "stream",
     "text": [
      "----------\n",
      "Validation\n",
      "Metric: 0.7408037781715393\n",
      "saved new best metric model\n",
      "current epoch: 20 current mean dice: 0.7408 best mean dice: 0.7408 at epoch 20\n",
      "----------\n",
      "fold 5/5\n",
      "Train Length: 219 Val Length: 55\n",
      "----------\n",
      "epoch 1/20  LR=4.000000000000002e-06\n"
     ]
    },
    {
     "data": {
      "application/vnd.jupyter.widget-view+json": {
       "model_id": "",
       "version_major": 2,
       "version_minor": 0
      },
      "text/plain": [
       "  0%|          | 0/37 [00:00<?, ?it/s]"
      ]
     },
     "metadata": {},
     "output_type": "display_data"
    },
    {
     "name": "stdout",
     "output_type": "stream",
     "text": [
      "epoch 1 average loss: 1.0442\n",
      "----------\n",
      "epoch 2/20  LR=1.0487758639348156e-05\n"
     ]
    },
    {
     "data": {
      "application/vnd.jupyter.widget-view+json": {
       "model_id": "",
       "version_major": 2,
       "version_minor": 0
      },
      "text/plain": [
       "  0%|          | 0/37 [00:00<?, ?it/s]"
      ]
     },
     "metadata": {},
     "output_type": "display_data"
    },
    {
     "name": "stdout",
     "output_type": "stream",
     "text": [
      "epoch 2 average loss: 1.0443\n",
      "----------\n",
      "epoch 3/20  LR=2.8197242383957768e-05\n"
     ]
    },
    {
     "data": {
      "application/vnd.jupyter.widget-view+json": {
       "model_id": "",
       "version_major": 2,
       "version_minor": 0
      },
      "text/plain": [
       "  0%|          | 0/37 [00:00<?, ?it/s]"
      ]
     },
     "metadata": {},
     "output_type": "display_data"
    },
    {
     "name": "stdout",
     "output_type": "stream",
     "text": [
      "epoch 3 average loss: 1.0461\n",
      "----------\n",
      "epoch 4/20  LR=5.2341165560391886e-05\n"
     ]
    },
    {
     "data": {
      "application/vnd.jupyter.widget-view+json": {
       "model_id": "",
       "version_major": 2,
       "version_minor": 0
      },
      "text/plain": [
       "  0%|          | 0/37 [00:00<?, ?it/s]"
      ]
     },
     "metadata": {},
     "output_type": "display_data"
    },
    {
     "name": "stdout",
     "output_type": "stream",
     "text": [
      "epoch 4 average loss: 1.0459\n",
      "----------\n",
      "epoch 5/20  LR=7.63928637446643e-05\n"
     ]
    },
    {
     "data": {
      "application/vnd.jupyter.widget-view+json": {
       "model_id": "",
       "version_major": 2,
       "version_minor": 0
      },
      "text/plain": [
       "  0%|          | 0/37 [00:00<?, ?it/s]"
      ]
     },
     "metadata": {},
     "output_type": "display_data"
    },
    {
     "name": "stdout",
     "output_type": "stream",
     "text": [
      "epoch 5 average loss: 1.0469\n"
     ]
    },
    {
     "data": {
      "application/vnd.jupyter.widget-view+json": {
       "model_id": "",
       "version_major": 2,
       "version_minor": 0
      },
      "text/plain": [
       "  0%|          | 0/55 [00:00<?, ?it/s]"
      ]
     },
     "metadata": {},
     "output_type": "display_data"
    },
    {
     "name": "stdout",
     "output_type": "stream",
     "text": [
      "----------\n",
      "Validation\n",
      "Metric: 0.697402834892273\n",
      "saved new best metric model\n",
      "current epoch: 5 current mean dice: 0.6974 best mean dice: 0.6974 at epoch 5\n",
      "----------\n",
      "epoch 6/20  LR=9.385060307485807e-05\n"
     ]
    },
    {
     "data": {
      "application/vnd.jupyter.widget-view+json": {
       "model_id": "",
       "version_major": 2,
       "version_minor": 0
      },
      "text/plain": [
       "  0%|          | 0/37 [00:00<?, ?it/s]"
      ]
     },
     "metadata": {},
     "output_type": "display_data"
    },
    {
     "name": "stdout",
     "output_type": "stream",
     "text": [
      "epoch 6 average loss: 1.0458\n",
      "----------\n",
      "epoch 7/20  LR=9.99990804461518e-05\n"
     ]
    },
    {
     "data": {
      "application/vnd.jupyter.widget-view+json": {
       "model_id": "",
       "version_major": 2,
       "version_minor": 0
      },
      "text/plain": [
       "  0%|          | 0/37 [00:00<?, ?it/s]"
      ]
     },
     "metadata": {},
     "output_type": "display_data"
    },
    {
     "name": "stdout",
     "output_type": "stream",
     "text": [
      "epoch 7 average loss: 1.0474\n",
      "----------\n",
      "epoch 8/20  LR=9.867802699646041e-05\n"
     ]
    },
    {
     "data": {
      "application/vnd.jupyter.widget-view+json": {
       "model_id": "",
       "version_major": 2,
       "version_minor": 0
      },
      "text/plain": [
       "  0%|          | 0/37 [00:00<?, ?it/s]"
      ]
     },
     "metadata": {},
     "output_type": "display_data"
    },
    {
     "name": "stdout",
     "output_type": "stream",
     "text": [
      "epoch 8 average loss: 1.0449\n",
      "----------\n",
      "epoch 9/20  LR=9.49160640402625e-05\n"
     ]
    },
    {
     "data": {
      "application/vnd.jupyter.widget-view+json": {
       "model_id": "",
       "version_major": 2,
       "version_minor": 0
      },
      "text/plain": [
       "  0%|          | 0/37 [00:00<?, ?it/s]"
      ]
     },
     "metadata": {},
     "output_type": "display_data"
    },
    {
     "name": "stdout",
     "output_type": "stream",
     "text": [
      "epoch 9 average loss: 1.0471\n",
      "----------\n",
      "epoch 10/20  LR=8.890183210877112e-05\n"
     ]
    },
    {
     "data": {
      "application/vnd.jupyter.widget-view+json": {
       "model_id": "",
       "version_major": 2,
       "version_minor": 0
      },
      "text/plain": [
       "  0%|          | 0/37 [00:00<?, ?it/s]"
      ]
     },
     "metadata": {},
     "output_type": "display_data"
    },
    {
     "name": "stdout",
     "output_type": "stream",
     "text": [
      "epoch 10 average loss: 1.0446\n"
     ]
    },
    {
     "data": {
      "application/vnd.jupyter.widget-view+json": {
       "model_id": "",
       "version_major": 2,
       "version_minor": 0
      },
      "text/plain": [
       "  0%|          | 0/55 [00:00<?, ?it/s]"
      ]
     },
     "metadata": {},
     "output_type": "display_data"
    },
    {
     "name": "stdout",
     "output_type": "stream",
     "text": [
      "----------\n",
      "Validation\n",
      "Metric: 0.711523175239563\n",
      "saved new best metric model\n",
      "current epoch: 10 current mean dice: 0.7115 best mean dice: 0.7115 at epoch 10\n",
      "----------\n",
      "epoch 11/20  LR=8.093690990427675e-05\n"
     ]
    },
    {
     "data": {
      "application/vnd.jupyter.widget-view+json": {
       "model_id": "",
       "version_major": 2,
       "version_minor": 0
      },
      "text/plain": [
       "  0%|          | 0/37 [00:00<?, ?it/s]"
      ]
     },
     "metadata": {},
     "output_type": "display_data"
    },
    {
     "name": "stdout",
     "output_type": "stream",
     "text": [
      "epoch 11 average loss: 1.0452\n",
      "----------\n",
      "epoch 12/20  LR=7.142069188473141e-05\n"
     ]
    },
    {
     "data": {
      "application/vnd.jupyter.widget-view+json": {
       "model_id": "",
       "version_major": 2,
       "version_minor": 0
      },
      "text/plain": [
       "  0%|          | 0/37 [00:00<?, ?it/s]"
      ]
     },
     "metadata": {},
     "output_type": "display_data"
    },
    {
     "name": "stdout",
     "output_type": "stream",
     "text": [
      "epoch 12 average loss: 1.0468\n",
      "----------\n",
      "epoch 13/20  LR=6.083036095790106e-05\n"
     ]
    },
    {
     "data": {
      "application/vnd.jupyter.widget-view+json": {
       "model_id": "",
       "version_major": 2,
       "version_minor": 0
      },
      "text/plain": [
       "  0%|          | 0/37 [00:00<?, ?it/s]"
      ]
     },
     "metadata": {},
     "output_type": "display_data"
    },
    {
     "name": "stdout",
     "output_type": "stream",
     "text": [
      "epoch 13 average loss: 1.0466\n",
      "----------\n",
      "epoch 14/20  LR=4.969696053782773e-05\n"
     ]
    },
    {
     "data": {
      "application/vnd.jupyter.widget-view+json": {
       "model_id": "",
       "version_major": 2,
       "version_minor": 0
      },
      "text/plain": [
       "  0%|          | 0/37 [00:00<?, ?it/s]"
      ]
     },
     "metadata": {},
     "output_type": "display_data"
    },
    {
     "name": "stdout",
     "output_type": "stream",
     "text": [
      "epoch 14 average loss: 1.0439\n",
      "----------\n",
      "epoch 15/20  LR=3.857876581060544e-05\n"
     ]
    },
    {
     "data": {
      "application/vnd.jupyter.widget-view+json": {
       "model_id": "",
       "version_major": 2,
       "version_minor": 0
      },
      "text/plain": [
       "  0%|          | 0/37 [00:00<?, ?it/s]"
      ]
     },
     "metadata": {},
     "output_type": "display_data"
    },
    {
     "name": "stdout",
     "output_type": "stream",
     "text": [
      "epoch 15 average loss: 1.0480\n"
     ]
    },
    {
     "data": {
      "application/vnd.jupyter.widget-view+json": {
       "model_id": "",
       "version_major": 2,
       "version_minor": 0
      },
      "text/plain": [
       "  0%|          | 0/55 [00:00<?, ?it/s]"
      ]
     },
     "metadata": {},
     "output_type": "display_data"
    },
    {
     "name": "stdout",
     "output_type": "stream",
     "text": [
      "----------\n",
      "Validation\n",
      "Metric: 0.7145296931266785\n",
      "saved new best metric model\n",
      "current epoch: 15 current mean dice: 0.7145 best mean dice: 0.7145 at epoch 15\n",
      "----------\n",
      "epoch 16/20  LR=2.8033289485395193e-05\n"
     ]
    },
    {
     "data": {
      "application/vnd.jupyter.widget-view+json": {
       "model_id": "",
       "version_major": 2,
       "version_minor": 0
      },
      "text/plain": [
       "  0%|          | 0/37 [00:00<?, ?it/s]"
      ]
     },
     "metadata": {},
     "output_type": "display_data"
    },
    {
     "name": "stdout",
     "output_type": "stream",
     "text": [
      "epoch 16 average loss: 1.0447\n",
      "----------\n",
      "epoch 17/20  LR=1.858932577921734e-05\n"
     ]
    },
    {
     "data": {
      "application/vnd.jupyter.widget-view+json": {
       "model_id": "",
       "version_major": 2,
       "version_minor": 0
      },
      "text/plain": [
       "  0%|          | 0/37 [00:00<?, ?it/s]"
      ]
     },
     "metadata": {},
     "output_type": "display_data"
    },
    {
     "name": "stdout",
     "output_type": "stream",
     "text": [
      "epoch 17 average loss: 1.0435\n",
      "----------\n",
      "epoch 18/20  LR=1.072043446685781e-05\n"
     ]
    },
    {
     "data": {
      "application/vnd.jupyter.widget-view+json": {
       "model_id": "",
       "version_major": 2,
       "version_minor": 0
      },
      "text/plain": [
       "  0%|          | 0/37 [00:00<?, ?it/s]"
      ]
     },
     "metadata": {},
     "output_type": "display_data"
    },
    {
     "name": "stdout",
     "output_type": "stream",
     "text": [
      "epoch 18 average loss: 1.0475\n",
      "----------\n",
      "epoch 19/20  LR=4.821194616346907e-06\n"
     ]
    },
    {
     "data": {
      "application/vnd.jupyter.widget-view+json": {
       "model_id": "",
       "version_major": 2,
       "version_minor": 0
      },
      "text/plain": [
       "  0%|          | 0/37 [00:00<?, ?it/s]"
      ]
     },
     "metadata": {},
     "output_type": "display_data"
    },
    {
     "name": "stdout",
     "output_type": "stream",
     "text": [
      "epoch 19 average loss: 1.0421\n",
      "----------\n",
      "epoch 20/20  LR=1.1874187468696274e-06\n"
     ]
    },
    {
     "data": {
      "application/vnd.jupyter.widget-view+json": {
       "model_id": "",
       "version_major": 2,
       "version_minor": 0
      },
      "text/plain": [
       "  0%|          | 0/37 [00:00<?, ?it/s]"
      ]
     },
     "metadata": {},
     "output_type": "display_data"
    },
    {
     "name": "stdout",
     "output_type": "stream",
     "text": [
      "epoch 20 average loss: 1.0495\n"
     ]
    },
    {
     "data": {
      "application/vnd.jupyter.widget-view+json": {
       "model_id": "",
       "version_major": 2,
       "version_minor": 0
      },
      "text/plain": [
       "  0%|          | 0/55 [00:00<?, ?it/s]"
      ]
     },
     "metadata": {},
     "output_type": "display_data"
    },
    {
     "name": "stdout",
     "output_type": "stream",
     "text": [
      "----------\n",
      "Validation\n",
      "Metric: 0.7174703478813171\n",
      "saved new best metric model\n",
      "current epoch: 20 current mean dice: 0.7175 best mean dice: 0.7175 at epoch 20\n"
     ]
    },
    {
     "data": {
      "image/png": "[encoded data removed]",
      "text/plain": [
       "<Figure size 432x288 with 2 Axes>"
      ]
     },
     "metadata": {
      "needs_background": "light"
     },
     "output_type": "display_data"
    },
    {
     "data": {
      "image/png": "[encoded data removed]",
      "text/plain": [
       "<Figure size 432x288 with 2 Axes>"
      ]
     },
     "metadata": {
      "needs_background": "light"
     },
     "output_type": "display_data"
    },
    {
     "data": {
      "image/png": "[encoded data removed]",
      "text/plain": [
       "<Figure size 432x288 with 2 Axes>"
      ]
     },
     "metadata": {
      "needs_background": "light"
     },
     "output_type": "display_data"
    },
    {
     "data": {
      "image/png": "[encoded data removed]",
      "text/plain": [
       "<Figure size 432x288 with 2 Axes>"
      ]
     },
     "metadata": {
      "needs_background": "light"
     },
     "output_type": "display_data"
    },
    {
     "data": {
      "image/png": "[encoded data removed]",
      "text/plain": [
       "<Figure size 432x288 with 2 Axes>"
      ]
     },
     "metadata": {
      "needs_background": "light"
     },
     "output_type": "display_data"
    }
   ],
   "source": [
    "post_trans = Compose([EnsureType(), Activations(softmax=True), AsDiscrete(threshold=0.5)])\n",
    "\n",
    "scaler = torch.cuda.amp.GradScaler() if amp else None\n",
    "best_metric_epoch = -1\n",
    "#writer = SummaryWriter()\n",
    "\n",
    "for fold in range(start_fold, start_fold + num_folds):\n",
    "\n",
    "    \n",
    "    model = UNet(\n",
    "    spatial_dims=3,\n",
    "    in_channels=1,\n",
    "    # With softmax \n",
    "    out_channels=4,\n",
    "    channels=(16, 32, 64, 128,256),\n",
    "    strides=(2, 2, 2, 2),\n",
    "    dropout=0.2,\n",
    "    num_res_units=2,\n",
    "    norm=\"batch\",\n",
    "    \n",
    "\n",
    "    )\n",
    "    model.to(device)\n",
    "    if load_weights:\n",
    "            model.load_state_dict(torch.load(MODEL_FOLDER / f\"{fold}_dict_{training_phase-1}.pth\"))\n",
    "    \n",
    "    optimizer = torch.optim.Adam(model.parameters(), max_learning_rate,weight_decay = 1e-6)\n",
    "    \n",
    "    \n",
    "    \n",
    "    epoch_loss_values = list()\n",
    "    metric_values = list()\n",
    "\n",
    "    best_metric = -1\n",
    "    print(\"-\" * 10)\n",
    "    print(f\"fold {fold + 1}/{num_folds}\")\n",
    "    train_loader, val_loader = get_data_loader(df2d, fold,tr_transforms, batch_size)\n",
    "    \n",
    "    lr_scheduler = LR(optimizer, max_lr=max_learning_rate, steps_per_epoch=len(train_loader), epochs=num_epochs)\n",
    "    #lr_scheduler = LR(optimizer, T_max=10, eta_min=min_learning_rate)\n",
    "    for epoch in range(num_epochs):\n",
    "        print(\"-\" * 10)\n",
    "        lr_val = optimizer.param_groups[0][\"lr\"]\n",
    "        print(f\"epoch {epoch + 1}/{num_epochs}  LR={lr_val}\")\n",
    "        model.train()\n",
    "        epoch_loss = 0\n",
    "        pbar = tqdm(total=len(train_loader))\n",
    "        for i, batch_data in enumerate(train_loader):\n",
    "            inputs, labels = batch_data[\"img\"].to(device), batch_data[\"mask\"].to(device)\n",
    "            # dim[0] == batch\n",
    "            # dim[1] == channel 1\n",
    "            # dim[2] == spatial dim 1\n",
    "            # dim[3] == spatial dim 2\n",
    "            #Apply softmax to labels because they overlap in some cases\n",
    "            labels = torch.nn.Softmax(dim=1)(labels)\n",
    "            \n",
    "            optimizer.zero_grad()\n",
    "            if amp and scaler is not None:\n",
    "                with torch.cuda.amp.autocast():\n",
    "                    outputs = model(inputs)\n",
    "                    loss = loss_function(outputs, labels)\n",
    "                scaler.scale(loss).backward()\n",
    "                torch.nn.utils.clip_grad_norm_(model.parameters(), 12) # clip gradients with amp\n",
    "                scaler.step(optimizer)\n",
    "                scaler.update()\n",
    "            else:\n",
    "                outputs = model(inputs)\n",
    "                loss = loss_function(outputs, labels)\n",
    "                loss.backward()\n",
    "                optimizer.step()\n",
    "            \n",
    "            lr_scheduler.step()\n",
    "            \n",
    "            loss_item = loss.item()\n",
    "            epoch_loss += loss_item\n",
    "            epoch_len = len(train_loader) // train_loader.batch_size\n",
    "            pbar.update(1)\n",
    "        pbar.close()\n",
    "        #plot_output_data3d(inputs[0], labels[0], post_trans(outputs[0]))\n",
    "        epoch_loss /= i\n",
    "        epoch_loss_values.append(epoch_loss)\n",
    "        #torch.save(optimizer.state_dict(), MODEL_FOLDER / f\"{fold}_optimizer_{training_phase}.pth\")\n",
    "        #print(labels.shape, outputs.shape)\n",
    "        \n",
    "        print(f\"epoch {epoch + 1} average loss: {epoch_loss:.4f}\")\n",
    "\n",
    "        if (epoch + 1) % val_interval == 0:\n",
    "            model.eval()\n",
    "            with torch.no_grad():\n",
    "                val_images = None\n",
    "                val_labels = None\n",
    "                val_outputs = None\n",
    "                pbar = tqdm(total=len(val_loader))\n",
    "                print(\"-\" * 10)\n",
    "                print(f\"Validation\")\n",
    "                metric_function.reset()\n",
    "                for i, val_data in enumerate(val_loader):\n",
    "                    #if i > 0:\n",
    "                    #    break\n",
    "                    val_images, val_labels = val_data[\"img\"].to(device), val_data[\"mask\"].to(device)\n",
    "                    \n",
    "                    sw_batch_size = 4\n",
    "                    if amp:\n",
    "                        with torch.cuda.amp.autocast():\n",
    "                            val_outputs = sliding_window_inference(val_images, roi_size, sw_batch_size, model)\n",
    "                    else:\n",
    "                        \n",
    "                        val_outputs = sliding_window_inference(val_images, roi_size, sw_batch_size, model)\n",
    "                    \n",
    "                    val_outputs = [post_trans(i) for i in decollate_batch(val_outputs)]\n",
    "                    # compute metric for current iteration\n",
    "                    metric_function(y_pred=val_outputs, y=val_labels)\n",
    "                    pbar.update(1)\n",
    "                pbar.close()\n",
    "                \n",
    "                # aggregate the final mean dice result\n",
    "                metric = metric_function.aggregate().item()\n",
    "                print(\"Metric: \"+str(metric))\n",
    "                # reset the status for next validation round\n",
    "                metric_function.reset()\n",
    "\n",
    "                metric_values.append(metric)\n",
    "                if metric > best_metric:\n",
    "                    best_metric = metric\n",
    "                    best_metric_epoch = epoch + 1\n",
    "                    #plot_output_data3d(val_images[0], val_labels[0], val_outputs[0])\n",
    "                    torch.save(model.state_dict(), MODEL_FOLDER / f\"{fold}_best_dict_{training_phase}.pth\")\n",
    "                    print(\"saved new best metric model\")\n",
    "                print(\n",
    "                    \"current epoch: {} current mean dice: {:.4f} best mean dice: {:.4f} at epoch {}\".format(\n",
    "                        epoch + 1, metric, best_metric, best_metric_epoch\n",
    "                    )\n",
    "                )\n",
    "                #writer.add_scalar(\"val_mean_dice\", metric, epoch + 1)\n",
    "    plot_metrics(epoch_loss_values, metric_values)\n",
    "    torch.save(model.state_dict(), MODEL_FOLDER / f\"{fold}_dict_{training_phase}.pth\")"
   ]
  },
  {
   "cell_type": "markdown",
   "metadata": {},
   "source": [
    "### Training phase 10 - use augmentation transforms - reduce LR"
   ]
  },
  {
   "cell_type": "code",
   "execution_count": 29,
   "metadata": {},
   "outputs": [],
   "source": [
    "#Training settings\n",
    "\n",
    "\n",
    "#fn=\"/media/SSD/gi-tract/uw-madison-gi-tract-image-segmentation/kaggle models/best_weights_fold_0.pth\"\n",
    "#model.load_state_dict(torch.load(fn),strict=False)\n",
    "\n",
    "amp = True\n",
    "\n",
    "training_phase = 10\n",
    "load_weights = True\n",
    "\n",
    "#tr_transforms = train_transforms[0]\n",
    "#batch_size = 8\n",
    "\n",
    "tr_transforms = train_transforms[1]\n",
    "batch_size = 6\n",
    "\n",
    "num_epochs = 20\n",
    "num_folds = 5\n",
    "start_fold = 0\n",
    "val_interval = 5\n",
    "roi_size = (256, 256, 80)\n",
    "\n",
    "metric_function = DiceMetric(include_background=True, reduction=\"mean\", get_not_nans=False)\n",
    "loss_function = DiceCELoss(include_background=False, softmax=True)\n",
    "\n",
    "LR = torch.optim.lr_scheduler.OneCycleLR\n",
    "max_learning_rate = 0.0001\n",
    "min_learning_rate = 0.001\n"
   ]
  },
  {
   "cell_type": "code",
   "execution_count": 30,
   "metadata": {
    "scrolled": false
   },
   "outputs": [
    {
     "name": "stdout",
     "output_type": "stream",
     "text": [
      "----------\n",
      "fold 1/5\n",
      "Train Length: 220 Val Length: 54\n",
      "----------\n",
      "epoch 1/20  LR=0.0001\n"
     ]
    },
    {
     "data": {
      "application/vnd.jupyter.widget-view+json": {
       "model_id": "7174e6821c5b49b5b6b091d1e29b744c",
       "version_major": 2,
       "version_minor": 0
      },
      "text/plain": [
       "  0%|          | 0/37 [00:00<?, ?it/s]"
      ]
     },
     "metadata": {},
     "output_type": "display_data"
    },
    {
     "name": "stdout",
     "output_type": "stream",
     "text": [
      "epoch 1 average loss: 1.0465\n",
      "----------\n",
      "epoch 2/20  LR=0.0001\n"
     ]
    },
    {
     "data": {
      "application/vnd.jupyter.widget-view+json": {
       "model_id": "b903b2c5b5e945ffba08077e2efc84af",
       "version_major": 2,
       "version_minor": 0
      },
      "text/plain": [
       "  0%|          | 0/37 [00:00<?, ?it/s]"
      ]
     },
     "metadata": {},
     "output_type": "display_data"
    },
    {
     "name": "stdout",
     "output_type": "stream",
     "text": [
      "epoch 2 average loss: 1.0453\n",
      "----------\n",
      "epoch 3/20  LR=0.0001\n"
     ]
    },
    {
     "data": {
      "application/vnd.jupyter.widget-view+json": {
       "model_id": "d00a34dd5c6145b7bd7b3e00dd0d0287",
       "version_major": 2,
       "version_minor": 0
      },
      "text/plain": [
       "  0%|          | 0/37 [00:00<?, ?it/s]"
      ]
     },
     "metadata": {},
     "output_type": "display_data"
    },
    {
     "name": "stdout",
     "output_type": "stream",
     "text": [
      "epoch 3 average loss: 1.0475\n",
      "----------\n",
      "epoch 4/20  LR=0.0001\n"
     ]
    },
    {
     "data": {
      "application/vnd.jupyter.widget-view+json": {
       "model_id": "3144192d2fb442fcb2f4d9ab22de1f46",
       "version_major": 2,
       "version_minor": 0
      },
      "text/plain": [
       "  0%|          | 0/37 [00:00<?, ?it/s]"
      ]
     },
     "metadata": {},
     "output_type": "display_data"
    },
    {
     "name": "stdout",
     "output_type": "stream",
     "text": [
      "epoch 4 average loss: 1.0480\n",
      "----------\n",
      "epoch 5/20  LR=0.0001\n"
     ]
    },
    {
     "data": {
      "application/vnd.jupyter.widget-view+json": {
       "model_id": "94d1218a76e24f0d8325d70d73dd27bc",
       "version_major": 2,
       "version_minor": 0
      },
      "text/plain": [
       "  0%|          | 0/37 [00:00<?, ?it/s]"
      ]
     },
     "metadata": {},
     "output_type": "display_data"
    },
    {
     "name": "stdout",
     "output_type": "stream",
     "text": [
      "epoch 5 average loss: 1.0438\n"
     ]
    },
    {
     "data": {
      "application/vnd.jupyter.widget-view+json": {
       "model_id": "1aa964fb5733450789e70d970c11f63f",
       "version_major": 2,
       "version_minor": 0
      },
      "text/plain": [
       "  0%|          | 0/54 [00:00<?, ?it/s]"
      ]
     },
     "metadata": {},
     "output_type": "display_data"
    },
    {
     "name": "stdout",
     "output_type": "stream",
     "text": [
      "----------\n",
      "Validation\n",
      "Metric: 0.7237750887870789\n",
      "saved new best metric model\n",
      "current epoch: 5 current mean dice: 0.7238 best mean dice: 0.7238 at epoch 5\n",
      "----------\n",
      "epoch 6/20  LR=0.0001\n"
     ]
    },
    {
     "data": {
      "application/vnd.jupyter.widget-view+json": {
       "model_id": "febe6ec9adc64011ae69234826cfc5ea",
       "version_major": 2,
       "version_minor": 0
      },
      "text/plain": [
       "  0%|          | 0/37 [00:00<?, ?it/s]"
      ]
     },
     "metadata": {},
     "output_type": "display_data"
    },
    {
     "name": "stdout",
     "output_type": "stream",
     "text": [
      "epoch 6 average loss: 1.0474\n",
      "----------\n",
      "epoch 7/20  LR=0.0001\n"
     ]
    },
    {
     "data": {
      "application/vnd.jupyter.widget-view+json": {
       "model_id": "3567fad784014183b4776b17507ca8dd",
       "version_major": 2,
       "version_minor": 0
      },
      "text/plain": [
       "  0%|          | 0/37 [00:00<?, ?it/s]"
      ]
     },
     "metadata": {},
     "output_type": "display_data"
    },
    {
     "name": "stdout",
     "output_type": "stream",
     "text": [
      "epoch 7 average loss: 1.0453\n",
      "----------\n",
      "epoch 8/20  LR=0.0001\n"
     ]
    },
    {
     "data": {
      "application/vnd.jupyter.widget-view+json": {
       "model_id": "84dcb7c9285947f5b81e0aff74af272c",
       "version_major": 2,
       "version_minor": 0
      },
      "text/plain": [
       "  0%|          | 0/37 [00:00<?, ?it/s]"
      ]
     },
     "metadata": {},
     "output_type": "display_data"
    },
    {
     "name": "stdout",
     "output_type": "stream",
     "text": [
      "epoch 8 average loss: 1.0442\n",
      "----------\n",
      "epoch 9/20  LR=0.0001\n"
     ]
    },
    {
     "data": {
      "application/vnd.jupyter.widget-view+json": {
       "model_id": "f94d9a4bdecc4914a161a8d26c8afe34",
       "version_major": 2,
       "version_minor": 0
      },
      "text/plain": [
       "  0%|          | 0/37 [00:00<?, ?it/s]"
      ]
     },
     "metadata": {},
     "output_type": "display_data"
    },
    {
     "name": "stdout",
     "output_type": "stream",
     "text": [
      "epoch 9 average loss: 1.0459\n",
      "----------\n",
      "epoch 10/20  LR=0.0001\n"
     ]
    },
    {
     "data": {
      "application/vnd.jupyter.widget-view+json": {
       "model_id": "32b4e04250bc4de9b29286a1e5959179",
       "version_major": 2,
       "version_minor": 0
      },
      "text/plain": [
       "  0%|          | 0/37 [00:00<?, ?it/s]"
      ]
     },
     "metadata": {},
     "output_type": "display_data"
    },
    {
     "name": "stdout",
     "output_type": "stream",
     "text": [
      "epoch 10 average loss: 1.0431\n"
     ]
    },
    {
     "data": {
      "application/vnd.jupyter.widget-view+json": {
       "model_id": "39e052be2bb24a07916dfb55d3ecf8bb",
       "version_major": 2,
       "version_minor": 0
      },
      "text/plain": [
       "  0%|          | 0/54 [00:00<?, ?it/s]"
      ]
     },
     "metadata": {},
     "output_type": "display_data"
    },
    {
     "name": "stdout",
     "output_type": "stream",
     "text": [
      "----------\n",
      "Validation\n",
      "Metric: 0.7247639298439026\n",
      "saved new best metric model\n",
      "current epoch: 10 current mean dice: 0.7248 best mean dice: 0.7248 at epoch 10\n",
      "----------\n",
      "epoch 11/20  LR=0.0001\n"
     ]
    },
    {
     "data": {
      "application/vnd.jupyter.widget-view+json": {
       "model_id": "188188c4f4cb4fb8a63c3d15f9ea3144",
       "version_major": 2,
       "version_minor": 0
      },
      "text/plain": [
       "  0%|          | 0/37 [00:00<?, ?it/s]"
      ]
     },
     "metadata": {},
     "output_type": "display_data"
    },
    {
     "name": "stdout",
     "output_type": "stream",
     "text": [
      "epoch 11 average loss: 1.0460\n",
      "----------\n",
      "epoch 12/20  LR=0.0001\n"
     ]
    },
    {
     "data": {
      "application/vnd.jupyter.widget-view+json": {
       "model_id": "408596c260ff487fad66649af5690259",
       "version_major": 2,
       "version_minor": 0
      },
      "text/plain": [
       "  0%|          | 0/37 [00:00<?, ?it/s]"
      ]
     },
     "metadata": {},
     "output_type": "display_data"
    },
    {
     "name": "stdout",
     "output_type": "stream",
     "text": [
      "epoch 12 average loss: 1.0430\n",
      "----------\n",
      "epoch 13/20  LR=0.0001\n"
     ]
    },
    {
     "data": {
      "application/vnd.jupyter.widget-view+json": {
       "model_id": "df8a20c64ab14a208090a941b3d9b73a",
       "version_major": 2,
       "version_minor": 0
      },
      "text/plain": [
       "  0%|          | 0/37 [00:00<?, ?it/s]"
      ]
     },
     "metadata": {},
     "output_type": "display_data"
    },
    {
     "name": "stdout",
     "output_type": "stream",
     "text": [
      "epoch 13 average loss: 1.0463\n",
      "----------\n",
      "epoch 14/20  LR=0.0001\n"
     ]
    },
    {
     "data": {
      "application/vnd.jupyter.widget-view+json": {
       "model_id": "699d6322221e48e9b9cc6e594daa39f2",
       "version_major": 2,
       "version_minor": 0
      },
      "text/plain": [
       "  0%|          | 0/37 [00:00<?, ?it/s]"
      ]
     },
     "metadata": {},
     "output_type": "display_data"
    },
    {
     "name": "stdout",
     "output_type": "stream",
     "text": [
      "epoch 14 average loss: 1.0459\n",
      "----------\n",
      "epoch 15/20  LR=0.0001\n"
     ]
    },
    {
     "data": {
      "application/vnd.jupyter.widget-view+json": {
       "model_id": "a3e4872a107848c6985ac7c695b2bd32",
       "version_major": 2,
       "version_minor": 0
      },
      "text/plain": [
       "  0%|          | 0/37 [00:00<?, ?it/s]"
      ]
     },
     "metadata": {},
     "output_type": "display_data"
    },
    {
     "name": "stdout",
     "output_type": "stream",
     "text": [
      "epoch 15 average loss: 1.0454\n"
     ]
    },
    {
     "data": {
      "application/vnd.jupyter.widget-view+json": {
       "model_id": "bace0a44c15648098606a07dedbea299",
       "version_major": 2,
       "version_minor": 0
      },
      "text/plain": [
       "  0%|          | 0/54 [00:00<?, ?it/s]"
      ]
     },
     "metadata": {},
     "output_type": "display_data"
    },
    {
     "name": "stdout",
     "output_type": "stream",
     "text": [
      "----------\n",
      "Validation\n",
      "Metric: 0.7071744203567505\n",
      "current epoch: 15 current mean dice: 0.7072 best mean dice: 0.7248 at epoch 10\n",
      "----------\n",
      "epoch 16/20  LR=0.0001\n"
     ]
    },
    {
     "data": {
      "application/vnd.jupyter.widget-view+json": {
       "model_id": "3c40b0c28b40434dadf6215469384ab6",
       "version_major": 2,
       "version_minor": 0
      },
      "text/plain": [
       "  0%|          | 0/37 [00:00<?, ?it/s]"
      ]
     },
     "metadata": {},
     "output_type": "display_data"
    },
    {
     "name": "stdout",
     "output_type": "stream",
     "text": [
      "epoch 16 average loss: 1.0469\n",
      "----------\n",
      "epoch 17/20  LR=0.0001\n"
     ]
    },
    {
     "data": {
      "application/vnd.jupyter.widget-view+json": {
       "model_id": "7c299c5703cb4765bef6582da6e01a40",
       "version_major": 2,
       "version_minor": 0
      },
      "text/plain": [
       "  0%|          | 0/37 [00:00<?, ?it/s]"
      ]
     },
     "metadata": {},
     "output_type": "display_data"
    },
    {
     "name": "stdout",
     "output_type": "stream",
     "text": [
      "epoch 17 average loss: 1.0439\n",
      "----------\n",
      "epoch 18/20  LR=0.0001\n"
     ]
    },
    {
     "data": {
      "application/vnd.jupyter.widget-view+json": {
       "model_id": "8080758b9bea43538c61935bc64026bf",
       "version_major": 2,
       "version_minor": 0
      },
      "text/plain": [
       "  0%|          | 0/37 [00:00<?, ?it/s]"
      ]
     },
     "metadata": {},
     "output_type": "display_data"
    },
    {
     "name": "stdout",
     "output_type": "stream",
     "text": [
      "epoch 18 average loss: 1.0442\n",
      "----------\n",
      "epoch 19/20  LR=0.0001\n"
     ]
    },
    {
     "data": {
      "application/vnd.jupyter.widget-view+json": {
       "model_id": "ee45b5ec0b624f1386777d4d7bbfb9e2",
       "version_major": 2,
       "version_minor": 0
      },
      "text/plain": [
       "  0%|          | 0/37 [00:00<?, ?it/s]"
      ]
     },
     "metadata": {},
     "output_type": "display_data"
    },
    {
     "name": "stdout",
     "output_type": "stream",
     "text": [
      "epoch 19 average loss: 1.0466\n",
      "----------\n",
      "epoch 20/20  LR=0.0001\n"
     ]
    },
    {
     "data": {
      "application/vnd.jupyter.widget-view+json": {
       "model_id": "6305913f938341fdb9b4344a96d8cc77",
       "version_major": 2,
       "version_minor": 0
      },
      "text/plain": [
       "  0%|          | 0/37 [00:00<?, ?it/s]"
      ]
     },
     "metadata": {},
     "output_type": "display_data"
    },
    {
     "name": "stdout",
     "output_type": "stream",
     "text": [
      "epoch 20 average loss: 1.0456\n"
     ]
    },
    {
     "data": {
      "application/vnd.jupyter.widget-view+json": {
       "model_id": "f08e2b7083204c63ad600b0fa4be545b",
       "version_major": 2,
       "version_minor": 0
      },
      "text/plain": [
       "  0%|          | 0/54 [00:00<?, ?it/s]"
      ]
     },
     "metadata": {},
     "output_type": "display_data"
    },
    {
     "name": "stdout",
     "output_type": "stream",
     "text": [
      "----------\n",
      "Validation\n",
      "Metric: 0.7105494737625122\n",
      "current epoch: 20 current mean dice: 0.7105 best mean dice: 0.7248 at epoch 10\n",
      "----------\n",
      "fold 2/5\n",
      "Train Length: 219 Val Length: 55\n",
      "----------\n",
      "epoch 1/20  LR=0.0001\n"
     ]
    },
    {
     "data": {
      "application/vnd.jupyter.widget-view+json": {
       "model_id": "b42e996a52074774b9a2447b262d3e78",
       "version_major": 2,
       "version_minor": 0
      },
      "text/plain": [
       "  0%|          | 0/37 [00:00<?, ?it/s]"
      ]
     },
     "metadata": {},
     "output_type": "display_data"
    },
    {
     "name": "stdout",
     "output_type": "stream",
     "text": [
      "epoch 1 average loss: 1.0456\n",
      "----------\n",
      "epoch 2/20  LR=0.0001\n"
     ]
    },
    {
     "data": {
      "application/vnd.jupyter.widget-view+json": {
       "model_id": "86540eb2bde942bc9753133da53dc828",
       "version_major": 2,
       "version_minor": 0
      },
      "text/plain": [
       "  0%|          | 0/37 [00:00<?, ?it/s]"
      ]
     },
     "metadata": {},
     "output_type": "display_data"
    },
    {
     "name": "stdout",
     "output_type": "stream",
     "text": [
      "epoch 2 average loss: 1.0455\n",
      "----------\n",
      "epoch 3/20  LR=0.0001\n"
     ]
    },
    {
     "data": {
      "application/vnd.jupyter.widget-view+json": {
       "model_id": "e0882d1374434cfca6a5a256c8de0ba4",
       "version_major": 2,
       "version_minor": 0
      },
      "text/plain": [
       "  0%|          | 0/37 [00:00<?, ?it/s]"
      ]
     },
     "metadata": {},
     "output_type": "display_data"
    },
    {
     "name": "stdout",
     "output_type": "stream",
     "text": [
      "epoch 3 average loss: 1.0455\n",
      "----------\n",
      "epoch 4/20  LR=0.0001\n"
     ]
    },
    {
     "data": {
      "application/vnd.jupyter.widget-view+json": {
       "model_id": "fa51f6fb900e4e678eaeb9e2957f2708",
       "version_major": 2,
       "version_minor": 0
      },
      "text/plain": [
       "  0%|          | 0/37 [00:00<?, ?it/s]"
      ]
     },
     "metadata": {},
     "output_type": "display_data"
    },
    {
     "name": "stdout",
     "output_type": "stream",
     "text": [
      "epoch 4 average loss: 1.0502\n",
      "----------\n",
      "epoch 5/20  LR=0.0001\n"
     ]
    },
    {
     "data": {
      "application/vnd.jupyter.widget-view+json": {
       "model_id": "47e3848262d1479a9348cc2543e62cbf",
       "version_major": 2,
       "version_minor": 0
      },
      "text/plain": [
       "  0%|          | 0/37 [00:00<?, ?it/s]"
      ]
     },
     "metadata": {},
     "output_type": "display_data"
    },
    {
     "name": "stdout",
     "output_type": "stream",
     "text": [
      "epoch 5 average loss: 1.0464\n"
     ]
    },
    {
     "data": {
      "application/vnd.jupyter.widget-view+json": {
       "model_id": "de78b555946846d4bb67e3a969481c0a",
       "version_major": 2,
       "version_minor": 0
      },
      "text/plain": [
       "  0%|          | 0/55 [00:00<?, ?it/s]"
      ]
     },
     "metadata": {},
     "output_type": "display_data"
    },
    {
     "name": "stdout",
     "output_type": "stream",
     "text": [
      "----------\n",
      "Validation\n",
      "Metric: 0.718289852142334\n",
      "saved new best metric model\n",
      "current epoch: 5 current mean dice: 0.7183 best mean dice: 0.7183 at epoch 5\n",
      "----------\n",
      "epoch 6/20  LR=0.0001\n"
     ]
    },
    {
     "data": {
      "application/vnd.jupyter.widget-view+json": {
       "model_id": "3f4f543776a84ab0833d27a4ae842cfc",
       "version_major": 2,
       "version_minor": 0
      },
      "text/plain": [
       "  0%|          | 0/37 [00:00<?, ?it/s]"
      ]
     },
     "metadata": {},
     "output_type": "display_data"
    },
    {
     "name": "stdout",
     "output_type": "stream",
     "text": [
      "epoch 6 average loss: 1.0457\n",
      "----------\n",
      "epoch 7/20  LR=0.0001\n"
     ]
    },
    {
     "data": {
      "application/vnd.jupyter.widget-view+json": {
       "model_id": "71a7bbba4ad643eca5caba4f6b9b136f",
       "version_major": 2,
       "version_minor": 0
      },
      "text/plain": [
       "  0%|          | 0/37 [00:00<?, ?it/s]"
      ]
     },
     "metadata": {},
     "output_type": "display_data"
    },
    {
     "name": "stdout",
     "output_type": "stream",
     "text": [
      "epoch 7 average loss: 1.0458\n",
      "----------\n",
      "epoch 8/20  LR=0.0001\n"
     ]
    },
    {
     "data": {
      "application/vnd.jupyter.widget-view+json": {
       "model_id": "e56944fb2e07421495b8502e379cbf25",
       "version_major": 2,
       "version_minor": 0
      },
      "text/plain": [
       "  0%|          | 0/37 [00:00<?, ?it/s]"
      ]
     },
     "metadata": {},
     "output_type": "display_data"
    },
    {
     "name": "stdout",
     "output_type": "stream",
     "text": [
      "epoch 8 average loss: 1.0448\n",
      "----------\n",
      "epoch 9/20  LR=0.0001\n"
     ]
    },
    {
     "data": {
      "application/vnd.jupyter.widget-view+json": {
       "model_id": "f99fd23910e94e3299702c6ab18d2c02",
       "version_major": 2,
       "version_minor": 0
      },
      "text/plain": [
       "  0%|          | 0/37 [00:00<?, ?it/s]"
      ]
     },
     "metadata": {},
     "output_type": "display_data"
    },
    {
     "name": "stdout",
     "output_type": "stream",
     "text": [
      "epoch 9 average loss: 1.0447\n",
      "----------\n",
      "epoch 10/20  LR=0.0001\n"
     ]
    },
    {
     "data": {
      "application/vnd.jupyter.widget-view+json": {
       "model_id": "ec80859e4720486d841726cdfd326397",
       "version_major": 2,
       "version_minor": 0
      },
      "text/plain": [
       "  0%|          | 0/37 [00:00<?, ?it/s]"
      ]
     },
     "metadata": {},
     "output_type": "display_data"
    },
    {
     "name": "stdout",
     "output_type": "stream",
     "text": [
      "epoch 10 average loss: 1.0446\n"
     ]
    },
    {
     "data": {
      "application/vnd.jupyter.widget-view+json": {
       "model_id": "2591c7c7d3c343da9d91d6990b87a74f",
       "version_major": 2,
       "version_minor": 0
      },
      "text/plain": [
       "  0%|          | 0/55 [00:00<?, ?it/s]"
      ]
     },
     "metadata": {},
     "output_type": "display_data"
    },
    {
     "name": "stdout",
     "output_type": "stream",
     "text": [
      "----------\n",
      "Validation\n",
      "Metric: 0.7231725454330444\n",
      "saved new best metric model\n",
      "current epoch: 10 current mean dice: 0.7232 best mean dice: 0.7232 at epoch 10\n",
      "----------\n",
      "epoch 11/20  LR=0.0001\n"
     ]
    },
    {
     "data": {
      "application/vnd.jupyter.widget-view+json": {
       "model_id": "d0933585d2094bd8bab36edda521551f",
       "version_major": 2,
       "version_minor": 0
      },
      "text/plain": [
       "  0%|          | 0/37 [00:00<?, ?it/s]"
      ]
     },
     "metadata": {},
     "output_type": "display_data"
    },
    {
     "name": "stdout",
     "output_type": "stream",
     "text": [
      "epoch 11 average loss: 1.0443\n",
      "----------\n",
      "epoch 12/20  LR=0.0001\n"
     ]
    },
    {
     "data": {
      "application/vnd.jupyter.widget-view+json": {
       "model_id": "705ec82a41ea4748a8f6ff9a6a77f975",
       "version_major": 2,
       "version_minor": 0
      },
      "text/plain": [
       "  0%|          | 0/37 [00:00<?, ?it/s]"
      ]
     },
     "metadata": {},
     "output_type": "display_data"
    },
    {
     "name": "stdout",
     "output_type": "stream",
     "text": [
      "epoch 12 average loss: 1.0440\n",
      "----------\n",
      "epoch 13/20  LR=0.0001\n"
     ]
    },
    {
     "data": {
      "application/vnd.jupyter.widget-view+json": {
       "model_id": "a2d0ee67fdc74a1e8951d2c9019fea94",
       "version_major": 2,
       "version_minor": 0
      },
      "text/plain": [
       "  0%|          | 0/37 [00:00<?, ?it/s]"
      ]
     },
     "metadata": {},
     "output_type": "display_data"
    },
    {
     "name": "stdout",
     "output_type": "stream",
     "text": [
      "epoch 13 average loss: 1.0462\n",
      "----------\n",
      "epoch 14/20  LR=0.0001\n"
     ]
    },
    {
     "data": {
      "application/vnd.jupyter.widget-view+json": {
       "model_id": "a2da251c6cdc4fc683a2fa1e7875b9a4",
       "version_major": 2,
       "version_minor": 0
      },
      "text/plain": [
       "  0%|          | 0/37 [00:00<?, ?it/s]"
      ]
     },
     "metadata": {},
     "output_type": "display_data"
    },
    {
     "name": "stdout",
     "output_type": "stream",
     "text": [
      "epoch 14 average loss: 1.0447\n",
      "----------\n",
      "epoch 15/20  LR=0.0001\n"
     ]
    },
    {
     "data": {
      "application/vnd.jupyter.widget-view+json": {
       "model_id": "dca47a879f4c468a95e02d51adcd8a96",
       "version_major": 2,
       "version_minor": 0
      },
      "text/plain": [
       "  0%|          | 0/37 [00:00<?, ?it/s]"
      ]
     },
     "metadata": {},
     "output_type": "display_data"
    },
    {
     "name": "stdout",
     "output_type": "stream",
     "text": [
      "epoch 15 average loss: 1.0449\n"
     ]
    },
    {
     "data": {
      "application/vnd.jupyter.widget-view+json": {
       "model_id": "a83ddf56429c4c92a6a02b0ec78ffe12",
       "version_major": 2,
       "version_minor": 0
      },
      "text/plain": [
       "  0%|          | 0/55 [00:00<?, ?it/s]"
      ]
     },
     "metadata": {},
     "output_type": "display_data"
    },
    {
     "name": "stdout",
     "output_type": "stream",
     "text": [
      "----------\n",
      "Validation\n",
      "Metric: 0.7320858240127563\n",
      "saved new best metric model\n",
      "current epoch: 15 current mean dice: 0.7321 best mean dice: 0.7321 at epoch 15\n",
      "----------\n",
      "epoch 16/20  LR=0.0001\n"
     ]
    },
    {
     "data": {
      "application/vnd.jupyter.widget-view+json": {
       "model_id": "43c93ea7541043c3ad4f7f15aa7d56e5",
       "version_major": 2,
       "version_minor": 0
      },
      "text/plain": [
       "  0%|          | 0/37 [00:00<?, ?it/s]"
      ]
     },
     "metadata": {},
     "output_type": "display_data"
    },
    {
     "name": "stdout",
     "output_type": "stream",
     "text": [
      "epoch 16 average loss: 1.0458\n",
      "----------\n",
      "epoch 17/20  LR=0.0001\n"
     ]
    },
    {
     "data": {
      "application/vnd.jupyter.widget-view+json": {
       "model_id": "c70340c7fa8b47ef87276c5af1e7718c",
       "version_major": 2,
       "version_minor": 0
      },
      "text/plain": [
       "  0%|          | 0/37 [00:00<?, ?it/s]"
      ]
     },
     "metadata": {},
     "output_type": "display_data"
    },
    {
     "name": "stdout",
     "output_type": "stream",
     "text": [
      "epoch 17 average loss: 1.0454\n",
      "----------\n",
      "epoch 18/20  LR=0.0001\n"
     ]
    },
    {
     "data": {
      "application/vnd.jupyter.widget-view+json": {
       "model_id": "9858f6634acf42af9209259911dcd3a0",
       "version_major": 2,
       "version_minor": 0
      },
      "text/plain": [
       "  0%|          | 0/37 [00:00<?, ?it/s]"
      ]
     },
     "metadata": {},
     "output_type": "display_data"
    },
    {
     "name": "stdout",
     "output_type": "stream",
     "text": [
      "epoch 18 average loss: 1.0440\n",
      "----------\n",
      "epoch 19/20  LR=0.0001\n"
     ]
    },
    {
     "data": {
      "application/vnd.jupyter.widget-view+json": {
       "model_id": "e25a00a0629d441eb89d11a345dc0b8d",
       "version_major": 2,
       "version_minor": 0
      },
      "text/plain": [
       "  0%|          | 0/37 [00:00<?, ?it/s]"
      ]
     },
     "metadata": {},
     "output_type": "display_data"
    },
    {
     "name": "stdout",
     "output_type": "stream",
     "text": [
      "epoch 19 average loss: 1.0437\n",
      "----------\n",
      "epoch 20/20  LR=0.0001\n"
     ]
    },
    {
     "data": {
      "application/vnd.jupyter.widget-view+json": {
       "model_id": "ba068347e36e40e1bb2f20b63f9286ca",
       "version_major": 2,
       "version_minor": 0
      },
      "text/plain": [
       "  0%|          | 0/37 [00:00<?, ?it/s]"
      ]
     },
     "metadata": {},
     "output_type": "display_data"
    },
    {
     "name": "stdout",
     "output_type": "stream",
     "text": [
      "epoch 20 average loss: 1.0484\n"
     ]
    },
    {
     "data": {
      "application/vnd.jupyter.widget-view+json": {
       "model_id": "e3130d894b6b4746996d154edadb3fd0",
       "version_major": 2,
       "version_minor": 0
      },
      "text/plain": [
       "  0%|          | 0/55 [00:00<?, ?it/s]"
      ]
     },
     "metadata": {},
     "output_type": "display_data"
    },
    {
     "name": "stdout",
     "output_type": "stream",
     "text": [
      "----------\n",
      "Validation\n",
      "Metric: 0.7311156392097473\n",
      "current epoch: 20 current mean dice: 0.7311 best mean dice: 0.7321 at epoch 15\n",
      "----------\n",
      "fold 3/5\n",
      "Train Length: 219 Val Length: 55\n",
      "----------\n",
      "epoch 1/20  LR=0.0001\n"
     ]
    },
    {
     "data": {
      "application/vnd.jupyter.widget-view+json": {
       "model_id": "e0a64da5e9844a3c9678f8589d010214",
       "version_major": 2,
       "version_minor": 0
      },
      "text/plain": [
       "  0%|          | 0/37 [00:00<?, ?it/s]"
      ]
     },
     "metadata": {},
     "output_type": "display_data"
    },
    {
     "name": "stdout",
     "output_type": "stream",
     "text": [
      "epoch 1 average loss: 1.0436\n",
      "----------\n",
      "epoch 2/20  LR=0.0001\n"
     ]
    },
    {
     "data": {
      "application/vnd.jupyter.widget-view+json": {
       "model_id": "67c621aa6a0446d99ce730f99a806258",
       "version_major": 2,
       "version_minor": 0
      },
      "text/plain": [
       "  0%|          | 0/37 [00:00<?, ?it/s]"
      ]
     },
     "metadata": {},
     "output_type": "display_data"
    },
    {
     "name": "stdout",
     "output_type": "stream",
     "text": [
      "epoch 2 average loss: 1.0461\n",
      "----------\n",
      "epoch 3/20  LR=0.0001\n"
     ]
    },
    {
     "data": {
      "application/vnd.jupyter.widget-view+json": {
       "model_id": "10eefece7b924d078f3922b94f583e70",
       "version_major": 2,
       "version_minor": 0
      },
      "text/plain": [
       "  0%|          | 0/37 [00:00<?, ?it/s]"
      ]
     },
     "metadata": {},
     "output_type": "display_data"
    },
    {
     "name": "stdout",
     "output_type": "stream",
     "text": [
      "epoch 3 average loss: 1.0420\n",
      "----------\n",
      "epoch 4/20  LR=0.0001\n"
     ]
    },
    {
     "data": {
      "application/vnd.jupyter.widget-view+json": {
       "model_id": "0f9260da7a4d4940806d4b6a8d82f4a1",
       "version_major": 2,
       "version_minor": 0
      },
      "text/plain": [
       "  0%|          | 0/37 [00:00<?, ?it/s]"
      ]
     },
     "metadata": {},
     "output_type": "display_data"
    },
    {
     "name": "stdout",
     "output_type": "stream",
     "text": [
      "epoch 4 average loss: 1.0462\n",
      "----------\n",
      "epoch 5/20  LR=0.0001\n"
     ]
    },
    {
     "data": {
      "application/vnd.jupyter.widget-view+json": {
       "model_id": "77ec59400f05456d9a686aed38f35b90",
       "version_major": 2,
       "version_minor": 0
      },
      "text/plain": [
       "  0%|          | 0/37 [00:00<?, ?it/s]"
      ]
     },
     "metadata": {},
     "output_type": "display_data"
    },
    {
     "name": "stdout",
     "output_type": "stream",
     "text": [
      "epoch 5 average loss: 1.0431\n"
     ]
    },
    {
     "data": {
      "application/vnd.jupyter.widget-view+json": {
       "model_id": "69b934886c0c42b686ee711473c6628e",
       "version_major": 2,
       "version_minor": 0
      },
      "text/plain": [
       "  0%|          | 0/55 [00:00<?, ?it/s]"
      ]
     },
     "metadata": {},
     "output_type": "display_data"
    },
    {
     "name": "stdout",
     "output_type": "stream",
     "text": [
      "----------\n",
      "Validation\n",
      "Metric: 0.731721818447113\n",
      "saved new best metric model\n",
      "current epoch: 5 current mean dice: 0.7317 best mean dice: 0.7317 at epoch 5\n",
      "----------\n",
      "epoch 6/20  LR=0.0001\n"
     ]
    },
    {
     "data": {
      "application/vnd.jupyter.widget-view+json": {
       "model_id": "3c5a516eb30346789be540c1c042fe09",
       "version_major": 2,
       "version_minor": 0
      },
      "text/plain": [
       "  0%|          | 0/37 [00:00<?, ?it/s]"
      ]
     },
     "metadata": {},
     "output_type": "display_data"
    },
    {
     "name": "stdout",
     "output_type": "stream",
     "text": [
      "epoch 6 average loss: 1.0437\n",
      "----------\n",
      "epoch 7/20  LR=0.0001\n"
     ]
    },
    {
     "data": {
      "application/vnd.jupyter.widget-view+json": {
       "model_id": "c65c239a39264754a1c3532266ce0693",
       "version_major": 2,
       "version_minor": 0
      },
      "text/plain": [
       "  0%|          | 0/37 [00:00<?, ?it/s]"
      ]
     },
     "metadata": {},
     "output_type": "display_data"
    },
    {
     "name": "stdout",
     "output_type": "stream",
     "text": [
      "epoch 7 average loss: 1.0438\n",
      "----------\n",
      "epoch 8/20  LR=0.0001\n"
     ]
    },
    {
     "data": {
      "application/vnd.jupyter.widget-view+json": {
       "model_id": "56cddc4c3a3246e18e63cf80ed3045ab",
       "version_major": 2,
       "version_minor": 0
      },
      "text/plain": [
       "  0%|          | 0/37 [00:00<?, ?it/s]"
      ]
     },
     "metadata": {},
     "output_type": "display_data"
    },
    {
     "name": "stdout",
     "output_type": "stream",
     "text": [
      "epoch 8 average loss: 1.0422\n",
      "----------\n",
      "epoch 9/20  LR=0.0001\n"
     ]
    },
    {
     "data": {
      "application/vnd.jupyter.widget-view+json": {
       "model_id": "2e39c29b970344d18bb61b0179c0125b",
       "version_major": 2,
       "version_minor": 0
      },
      "text/plain": [
       "  0%|          | 0/37 [00:00<?, ?it/s]"
      ]
     },
     "metadata": {},
     "output_type": "display_data"
    },
    {
     "name": "stdout",
     "output_type": "stream",
     "text": [
      "epoch 9 average loss: 1.0431\n",
      "----------\n",
      "epoch 10/20  LR=0.0001\n"
     ]
    },
    {
     "data": {
      "application/vnd.jupyter.widget-view+json": {
       "model_id": "0442140cf0ba40dfbb06d9c06b5f0a8b",
       "version_major": 2,
       "version_minor": 0
      },
      "text/plain": [
       "  0%|          | 0/37 [00:00<?, ?it/s]"
      ]
     },
     "metadata": {},
     "output_type": "display_data"
    },
    {
     "name": "stdout",
     "output_type": "stream",
     "text": [
      "epoch 10 average loss: 1.0438\n"
     ]
    },
    {
     "data": {
      "application/vnd.jupyter.widget-view+json": {
       "model_id": "9266da2d2c6a41139a3c829a38df46db",
       "version_major": 2,
       "version_minor": 0
      },
      "text/plain": [
       "  0%|          | 0/55 [00:00<?, ?it/s]"
      ]
     },
     "metadata": {},
     "output_type": "display_data"
    },
    {
     "name": "stdout",
     "output_type": "stream",
     "text": [
      "----------\n",
      "Validation\n",
      "Metric: 0.7477182745933533\n",
      "saved new best metric model\n",
      "current epoch: 10 current mean dice: 0.7477 best mean dice: 0.7477 at epoch 10\n",
      "----------\n",
      "epoch 11/20  LR=0.0001\n"
     ]
    },
    {
     "data": {
      "application/vnd.jupyter.widget-view+json": {
       "model_id": "26eab8309bf34ab787b7ca225721acb7",
       "version_major": 2,
       "version_minor": 0
      },
      "text/plain": [
       "  0%|          | 0/37 [00:00<?, ?it/s]"
      ]
     },
     "metadata": {},
     "output_type": "display_data"
    },
    {
     "name": "stdout",
     "output_type": "stream",
     "text": [
      "epoch 11 average loss: 1.0425\n",
      "----------\n",
      "epoch 12/20  LR=0.0001\n"
     ]
    },
    {
     "data": {
      "application/vnd.jupyter.widget-view+json": {
       "model_id": "ec818264db3c4071a7c567ecfb9a1388",
       "version_major": 2,
       "version_minor": 0
      },
      "text/plain": [
       "  0%|          | 0/37 [00:00<?, ?it/s]"
      ]
     },
     "metadata": {},
     "output_type": "display_data"
    },
    {
     "name": "stdout",
     "output_type": "stream",
     "text": [
      "epoch 12 average loss: 1.0458\n",
      "----------\n",
      "epoch 13/20  LR=0.0001\n"
     ]
    },
    {
     "data": {
      "application/vnd.jupyter.widget-view+json": {
       "model_id": "beef783027a24a28bf6f28f0a106a6f8",
       "version_major": 2,
       "version_minor": 0
      },
      "text/plain": [
       "  0%|          | 0/37 [00:00<?, ?it/s]"
      ]
     },
     "metadata": {},
     "output_type": "display_data"
    },
    {
     "name": "stdout",
     "output_type": "stream",
     "text": [
      "epoch 13 average loss: 1.0418\n",
      "----------\n",
      "epoch 14/20  LR=0.0001\n"
     ]
    },
    {
     "data": {
      "application/vnd.jupyter.widget-view+json": {
       "model_id": "c9382d5b6446409d9a06493ec44a2f70",
       "version_major": 2,
       "version_minor": 0
      },
      "text/plain": [
       "  0%|          | 0/37 [00:00<?, ?it/s]"
      ]
     },
     "metadata": {},
     "output_type": "display_data"
    },
    {
     "name": "stdout",
     "output_type": "stream",
     "text": [
      "epoch 14 average loss: 1.0447\n",
      "----------\n",
      "epoch 15/20  LR=0.0001\n"
     ]
    },
    {
     "data": {
      "application/vnd.jupyter.widget-view+json": {
       "model_id": "4ceaddf85d4e45e0bdc7f8513d805765",
       "version_major": 2,
       "version_minor": 0
      },
      "text/plain": [
       "  0%|          | 0/37 [00:00<?, ?it/s]"
      ]
     },
     "metadata": {},
     "output_type": "display_data"
    },
    {
     "name": "stdout",
     "output_type": "stream",
     "text": [
      "epoch 15 average loss: 1.0406\n"
     ]
    },
    {
     "data": {
      "application/vnd.jupyter.widget-view+json": {
       "model_id": "f8f5816843c446a5a8229b183ef55585",
       "version_major": 2,
       "version_minor": 0
      },
      "text/plain": [
       "  0%|          | 0/55 [00:00<?, ?it/s]"
      ]
     },
     "metadata": {},
     "output_type": "display_data"
    },
    {
     "name": "stdout",
     "output_type": "stream",
     "text": [
      "----------\n",
      "Validation\n",
      "Metric: 0.751639723777771\n",
      "saved new best metric model\n",
      "current epoch: 15 current mean dice: 0.7516 best mean dice: 0.7516 at epoch 15\n",
      "----------\n",
      "epoch 16/20  LR=0.0001\n"
     ]
    },
    {
     "data": {
      "application/vnd.jupyter.widget-view+json": {
       "model_id": "a89c1318113240d38637172291eee8e8",
       "version_major": 2,
       "version_minor": 0
      },
      "text/plain": [
       "  0%|          | 0/37 [00:00<?, ?it/s]"
      ]
     },
     "metadata": {},
     "output_type": "display_data"
    },
    {
     "name": "stdout",
     "output_type": "stream",
     "text": [
      "epoch 16 average loss: 1.0449\n",
      "----------\n",
      "epoch 17/20  LR=0.0001\n"
     ]
    },
    {
     "data": {
      "application/vnd.jupyter.widget-view+json": {
       "model_id": "02f57d0e2a5c49caab745d56772a6b8d",
       "version_major": 2,
       "version_minor": 0
      },
      "text/plain": [
       "  0%|          | 0/37 [00:00<?, ?it/s]"
      ]
     },
     "metadata": {},
     "output_type": "display_data"
    },
    {
     "name": "stdout",
     "output_type": "stream",
     "text": [
      "epoch 17 average loss: 1.0458\n",
      "----------\n",
      "epoch 18/20  LR=0.0001\n"
     ]
    },
    {
     "data": {
      "application/vnd.jupyter.widget-view+json": {
       "model_id": "6e6c94ba2ac84e1b91e3f88d62c8c671",
       "version_major": 2,
       "version_minor": 0
      },
      "text/plain": [
       "  0%|          | 0/37 [00:00<?, ?it/s]"
      ]
     },
     "metadata": {},
     "output_type": "display_data"
    },
    {
     "name": "stdout",
     "output_type": "stream",
     "text": [
      "epoch 18 average loss: 1.0449\n",
      "----------\n",
      "epoch 19/20  LR=0.0001\n"
     ]
    },
    {
     "data": {
      "application/vnd.jupyter.widget-view+json": {
       "model_id": "1acb180fbc634d11b2e93e2f499a7e1e",
       "version_major": 2,
       "version_minor": 0
      },
      "text/plain": [
       "  0%|          | 0/37 [00:00<?, ?it/s]"
      ]
     },
     "metadata": {},
     "output_type": "display_data"
    },
    {
     "name": "stdout",
     "output_type": "stream",
     "text": [
      "epoch 19 average loss: 1.0487\n",
      "----------\n",
      "epoch 20/20  LR=0.0001\n"
     ]
    },
    {
     "data": {
      "application/vnd.jupyter.widget-view+json": {
       "model_id": "05012d0220fb467282eb4ba31c7dce46",
       "version_major": 2,
       "version_minor": 0
      },
      "text/plain": [
       "  0%|          | 0/37 [00:00<?, ?it/s]"
      ]
     },
     "metadata": {},
     "output_type": "display_data"
    },
    {
     "name": "stdout",
     "output_type": "stream",
     "text": [
      "epoch 20 average loss: 1.0449\n"
     ]
    },
    {
     "data": {
      "application/vnd.jupyter.widget-view+json": {
       "model_id": "7f443c2674f2480284dcf38d4af390d2",
       "version_major": 2,
       "version_minor": 0
      },
      "text/plain": [
       "  0%|          | 0/55 [00:00<?, ?it/s]"
      ]
     },
     "metadata": {},
     "output_type": "display_data"
    },
    {
     "name": "stdout",
     "output_type": "stream",
     "text": [
      "----------\n",
      "Validation\n",
      "Metric: 0.7104871869087219\n",
      "current epoch: 20 current mean dice: 0.7105 best mean dice: 0.7516 at epoch 15\n",
      "----------\n",
      "fold 4/5\n",
      "Train Length: 219 Val Length: 55\n",
      "----------\n",
      "epoch 1/20  LR=0.0001\n"
     ]
    },
    {
     "data": {
      "application/vnd.jupyter.widget-view+json": {
       "model_id": "b7e2503e96de4efe97e1bfb84b93c23e",
       "version_major": 2,
       "version_minor": 0
      },
      "text/plain": [
       "  0%|          | 0/37 [00:00<?, ?it/s]"
      ]
     },
     "metadata": {},
     "output_type": "display_data"
    },
    {
     "name": "stdout",
     "output_type": "stream",
     "text": [
      "epoch 1 average loss: 1.0450\n",
      "----------\n",
      "epoch 2/20  LR=0.0001\n"
     ]
    },
    {
     "data": {
      "application/vnd.jupyter.widget-view+json": {
       "model_id": "a158696c715346a3ac9b838b11d8e4b2",
       "version_major": 2,
       "version_minor": 0
      },
      "text/plain": [
       "  0%|          | 0/37 [00:00<?, ?it/s]"
      ]
     },
     "metadata": {},
     "output_type": "display_data"
    },
    {
     "name": "stdout",
     "output_type": "stream",
     "text": [
      "epoch 2 average loss: 1.0441\n",
      "----------\n",
      "epoch 3/20  LR=0.0001\n"
     ]
    },
    {
     "data": {
      "application/vnd.jupyter.widget-view+json": {
       "model_id": "0eb00962eb1d4510903822031ad4f07d",
       "version_major": 2,
       "version_minor": 0
      },
      "text/plain": [
       "  0%|          | 0/37 [00:00<?, ?it/s]"
      ]
     },
     "metadata": {},
     "output_type": "display_data"
    },
    {
     "name": "stdout",
     "output_type": "stream",
     "text": [
      "epoch 3 average loss: 1.0451\n",
      "----------\n",
      "epoch 4/20  LR=0.0001\n"
     ]
    },
    {
     "data": {
      "application/vnd.jupyter.widget-view+json": {
       "model_id": "4cc318346dfe4d4d9d495f202b22a56c",
       "version_major": 2,
       "version_minor": 0
      },
      "text/plain": [
       "  0%|          | 0/37 [00:00<?, ?it/s]"
      ]
     },
     "metadata": {},
     "output_type": "display_data"
    },
    {
     "name": "stdout",
     "output_type": "stream",
     "text": [
      "epoch 4 average loss: 1.0458\n",
      "----------\n",
      "epoch 5/20  LR=0.0001\n"
     ]
    },
    {
     "data": {
      "application/vnd.jupyter.widget-view+json": {
       "model_id": "275090c9eb5b4aeca062bf0a5bb17af8",
       "version_major": 2,
       "version_minor": 0
      },
      "text/plain": [
       "  0%|          | 0/37 [00:00<?, ?it/s]"
      ]
     },
     "metadata": {},
     "output_type": "display_data"
    },
    {
     "name": "stdout",
     "output_type": "stream",
     "text": [
      "epoch 5 average loss: 1.0454\n"
     ]
    },
    {
     "data": {
      "application/vnd.jupyter.widget-view+json": {
       "model_id": "eec7e3efeb344d41b3acc19071bfe538",
       "version_major": 2,
       "version_minor": 0
      },
      "text/plain": [
       "  0%|          | 0/55 [00:00<?, ?it/s]"
      ]
     },
     "metadata": {},
     "output_type": "display_data"
    },
    {
     "name": "stdout",
     "output_type": "stream",
     "text": [
      "----------\n",
      "Validation\n",
      "Metric: 0.7439540028572083\n",
      "saved new best metric model\n",
      "current epoch: 5 current mean dice: 0.7440 best mean dice: 0.7440 at epoch 5\n",
      "----------\n",
      "epoch 6/20  LR=0.0001\n"
     ]
    },
    {
     "data": {
      "application/vnd.jupyter.widget-view+json": {
       "model_id": "400b7915a4e749c6a79634d2b28bc296",
       "version_major": 2,
       "version_minor": 0
      },
      "text/plain": [
       "  0%|          | 0/37 [00:00<?, ?it/s]"
      ]
     },
     "metadata": {},
     "output_type": "display_data"
    },
    {
     "name": "stdout",
     "output_type": "stream",
     "text": [
      "epoch 6 average loss: 1.0415\n",
      "----------\n",
      "epoch 7/20  LR=0.0001\n"
     ]
    },
    {
     "data": {
      "application/vnd.jupyter.widget-view+json": {
       "model_id": "5d9d18d626e04b87aba2c61799961288",
       "version_major": 2,
       "version_minor": 0
      },
      "text/plain": [
       "  0%|          | 0/37 [00:00<?, ?it/s]"
      ]
     },
     "metadata": {},
     "output_type": "display_data"
    },
    {
     "name": "stdout",
     "output_type": "stream",
     "text": [
      "epoch 7 average loss: 1.0467\n",
      "----------\n",
      "epoch 8/20  LR=0.0001\n"
     ]
    },
    {
     "data": {
      "application/vnd.jupyter.widget-view+json": {
       "model_id": "59855f998d8d48f888f9ea9614bbe070",
       "version_major": 2,
       "version_minor": 0
      },
      "text/plain": [
       "  0%|          | 0/37 [00:00<?, ?it/s]"
      ]
     },
     "metadata": {},
     "output_type": "display_data"
    },
    {
     "name": "stdout",
     "output_type": "stream",
     "text": [
      "epoch 8 average loss: 1.0468\n",
      "----------\n",
      "epoch 9/20  LR=0.0001\n"
     ]
    },
    {
     "data": {
      "application/vnd.jupyter.widget-view+json": {
       "model_id": "52a96c18e050462bbc3b37fbae4e17d3",
       "version_major": 2,
       "version_minor": 0
      },
      "text/plain": [
       "  0%|          | 0/37 [00:00<?, ?it/s]"
      ]
     },
     "metadata": {},
     "output_type": "display_data"
    },
    {
     "name": "stdout",
     "output_type": "stream",
     "text": [
      "epoch 9 average loss: 1.0481\n",
      "----------\n",
      "epoch 10/20  LR=0.0001\n"
     ]
    },
    {
     "data": {
      "application/vnd.jupyter.widget-view+json": {
       "model_id": "d542fe3ea18c4e0bb5be864f234f17f8",
       "version_major": 2,
       "version_minor": 0
      },
      "text/plain": [
       "  0%|          | 0/37 [00:00<?, ?it/s]"
      ]
     },
     "metadata": {},
     "output_type": "display_data"
    },
    {
     "name": "stdout",
     "output_type": "stream",
     "text": [
      "epoch 10 average loss: 1.0450\n"
     ]
    },
    {
     "data": {
      "application/vnd.jupyter.widget-view+json": {
       "model_id": "db936d9e0c2447d58968066a4c86b6bd",
       "version_major": 2,
       "version_minor": 0
      },
      "text/plain": [
       "  0%|          | 0/55 [00:00<?, ?it/s]"
      ]
     },
     "metadata": {},
     "output_type": "display_data"
    },
    {
     "name": "stdout",
     "output_type": "stream",
     "text": [
      "----------\n",
      "Validation\n",
      "Metric: 0.7274885177612305\n",
      "current epoch: 10 current mean dice: 0.7275 best mean dice: 0.7440 at epoch 5\n",
      "----------\n",
      "epoch 11/20  LR=0.0001\n"
     ]
    },
    {
     "data": {
      "application/vnd.jupyter.widget-view+json": {
       "model_id": "17ef4f4bc6c54909af02427921b1891f",
       "version_major": 2,
       "version_minor": 0
      },
      "text/plain": [
       "  0%|          | 0/37 [00:00<?, ?it/s]"
      ]
     },
     "metadata": {},
     "output_type": "display_data"
    },
    {
     "name": "stdout",
     "output_type": "stream",
     "text": [
      "epoch 11 average loss: 1.0454\n",
      "----------\n",
      "epoch 12/20  LR=0.0001\n"
     ]
    },
    {
     "data": {
      "application/vnd.jupyter.widget-view+json": {
       "model_id": "3c718d217df6453bb14f75985a18e5da",
       "version_major": 2,
       "version_minor": 0
      },
      "text/plain": [
       "  0%|          | 0/37 [00:00<?, ?it/s]"
      ]
     },
     "metadata": {},
     "output_type": "display_data"
    },
    {
     "name": "stdout",
     "output_type": "stream",
     "text": [
      "epoch 12 average loss: 1.0469\n",
      "----------\n",
      "epoch 13/20  LR=0.0001\n"
     ]
    },
    {
     "data": {
      "application/vnd.jupyter.widget-view+json": {
       "model_id": "1619c38ac30b45baa4b20f81d60fe8a0",
       "version_major": 2,
       "version_minor": 0
      },
      "text/plain": [
       "  0%|          | 0/37 [00:00<?, ?it/s]"
      ]
     },
     "metadata": {},
     "output_type": "display_data"
    },
    {
     "name": "stdout",
     "output_type": "stream",
     "text": [
      "epoch 13 average loss: 1.0478\n",
      "----------\n",
      "epoch 14/20  LR=0.0001\n"
     ]
    },
    {
     "data": {
      "application/vnd.jupyter.widget-view+json": {
       "model_id": "730cd1caffca4ca89e25d66b1527453a",
       "version_major": 2,
       "version_minor": 0
      },
      "text/plain": [
       "  0%|          | 0/37 [00:00<?, ?it/s]"
      ]
     },
     "metadata": {},
     "output_type": "display_data"
    },
    {
     "name": "stdout",
     "output_type": "stream",
     "text": [
      "epoch 14 average loss: 1.0408\n",
      "----------\n",
      "epoch 15/20  LR=0.0001\n"
     ]
    },
    {
     "data": {
      "application/vnd.jupyter.widget-view+json": {
       "model_id": "7fa15cfa1a574011b4ce8f1b67111b34",
       "version_major": 2,
       "version_minor": 0
      },
      "text/plain": [
       "  0%|          | 0/37 [00:00<?, ?it/s]"
      ]
     },
     "metadata": {},
     "output_type": "display_data"
    },
    {
     "name": "stdout",
     "output_type": "stream",
     "text": [
      "epoch 15 average loss: 1.0434\n"
     ]
    },
    {
     "data": {
      "application/vnd.jupyter.widget-view+json": {
       "model_id": "2d4a7e8808dc47979b0d26749b9fb75b",
       "version_major": 2,
       "version_minor": 0
      },
      "text/plain": [
       "  0%|          | 0/55 [00:00<?, ?it/s]"
      ]
     },
     "metadata": {},
     "output_type": "display_data"
    },
    {
     "name": "stdout",
     "output_type": "stream",
     "text": [
      "----------\n",
      "Validation\n",
      "Metric: 0.7322171330451965\n",
      "current epoch: 15 current mean dice: 0.7322 best mean dice: 0.7440 at epoch 5\n",
      "----------\n",
      "epoch 16/20  LR=0.0001\n"
     ]
    },
    {
     "data": {
      "application/vnd.jupyter.widget-view+json": {
       "model_id": "29896caa4edd40408c6c6dd1fc7247e9",
       "version_major": 2,
       "version_minor": 0
      },
      "text/plain": [
       "  0%|          | 0/37 [00:00<?, ?it/s]"
      ]
     },
     "metadata": {},
     "output_type": "display_data"
    },
    {
     "name": "stdout",
     "output_type": "stream",
     "text": [
      "epoch 16 average loss: 1.0449\n",
      "----------\n",
      "epoch 17/20  LR=0.0001\n"
     ]
    },
    {
     "data": {
      "application/vnd.jupyter.widget-view+json": {
       "model_id": "500f0e5714864e94979a90148635c807",
       "version_major": 2,
       "version_minor": 0
      },
      "text/plain": [
       "  0%|          | 0/37 [00:00<?, ?it/s]"
      ]
     },
     "metadata": {},
     "output_type": "display_data"
    },
    {
     "name": "stdout",
     "output_type": "stream",
     "text": [
      "epoch 17 average loss: 1.0478\n",
      "----------\n",
      "epoch 18/20  LR=0.0001\n"
     ]
    },
    {
     "data": {
      "application/vnd.jupyter.widget-view+json": {
       "model_id": "bb5ffdaf2e024a16b1bf6946036a8892",
       "version_major": 2,
       "version_minor": 0
      },
      "text/plain": [
       "  0%|          | 0/37 [00:00<?, ?it/s]"
      ]
     },
     "metadata": {},
     "output_type": "display_data"
    },
    {
     "name": "stdout",
     "output_type": "stream",
     "text": [
      "epoch 18 average loss: 1.0423\n",
      "----------\n",
      "epoch 19/20  LR=0.0001\n"
     ]
    },
    {
     "data": {
      "application/vnd.jupyter.widget-view+json": {
       "model_id": "1170c1cea194464683a0a99bc24b5439",
       "version_major": 2,
       "version_minor": 0
      },
      "text/plain": [
       "  0%|          | 0/37 [00:00<?, ?it/s]"
      ]
     },
     "metadata": {},
     "output_type": "display_data"
    },
    {
     "name": "stdout",
     "output_type": "stream",
     "text": [
      "epoch 19 average loss: 1.0468\n",
      "----------\n",
      "epoch 20/20  LR=0.0001\n"
     ]
    },
    {
     "data": {
      "application/vnd.jupyter.widget-view+json": {
       "model_id": "10128fb801c44103aaaadb097f9458b2",
       "version_major": 2,
       "version_minor": 0
      },
      "text/plain": [
       "  0%|          | 0/37 [00:00<?, ?it/s]"
      ]
     },
     "metadata": {},
     "output_type": "display_data"
    },
    {
     "name": "stdout",
     "output_type": "stream",
     "text": [
      "epoch 20 average loss: 1.0417\n"
     ]
    },
    {
     "data": {
      "application/vnd.jupyter.widget-view+json": {
       "model_id": "b2cbf26ff6f4420ebcf27b3a651b9545",
       "version_major": 2,
       "version_minor": 0
      },
      "text/plain": [
       "  0%|          | 0/55 [00:00<?, ?it/s]"
      ]
     },
     "metadata": {},
     "output_type": "display_data"
    },
    {
     "name": "stdout",
     "output_type": "stream",
     "text": [
      "----------\n",
      "Validation\n",
      "Metric: 0.7029114365577698\n",
      "current epoch: 20 current mean dice: 0.7029 best mean dice: 0.7440 at epoch 5\n",
      "----------\n",
      "fold 5/5\n",
      "Train Length: 219 Val Length: 55\n",
      "----------\n",
      "epoch 1/20  LR=0.0001\n"
     ]
    },
    {
     "data": {
      "application/vnd.jupyter.widget-view+json": {
       "model_id": "9b8ba56aaa9846ed969bc2d487004b95",
       "version_major": 2,
       "version_minor": 0
      },
      "text/plain": [
       "  0%|          | 0/37 [00:00<?, ?it/s]"
      ]
     },
     "metadata": {},
     "output_type": "display_data"
    },
    {
     "name": "stdout",
     "output_type": "stream",
     "text": [
      "epoch 1 average loss: 1.0456\n",
      "----------\n",
      "epoch 2/20  LR=0.0001\n"
     ]
    },
    {
     "data": {
      "application/vnd.jupyter.widget-view+json": {
       "model_id": "1d6258d115634144b8ac5f066724a2b4",
       "version_major": 2,
       "version_minor": 0
      },
      "text/plain": [
       "  0%|          | 0/37 [00:00<?, ?it/s]"
      ]
     },
     "metadata": {},
     "output_type": "display_data"
    },
    {
     "name": "stdout",
     "output_type": "stream",
     "text": [
      "epoch 2 average loss: 1.0463\n",
      "----------\n",
      "epoch 3/20  LR=0.0001\n"
     ]
    },
    {
     "data": {
      "application/vnd.jupyter.widget-view+json": {
       "model_id": "c2edf67e5ad64dad8eeaa4f4becdaf00",
       "version_major": 2,
       "version_minor": 0
      },
      "text/plain": [
       "  0%|          | 0/37 [00:00<?, ?it/s]"
      ]
     },
     "metadata": {},
     "output_type": "display_data"
    },
    {
     "name": "stdout",
     "output_type": "stream",
     "text": [
      "epoch 3 average loss: 1.0441\n",
      "----------\n",
      "epoch 4/20  LR=0.0001\n"
     ]
    },
    {
     "data": {
      "application/vnd.jupyter.widget-view+json": {
       "model_id": "70133034171f4b709fd688376606e66c",
       "version_major": 2,
       "version_minor": 0
      },
      "text/plain": [
       "  0%|          | 0/37 [00:00<?, ?it/s]"
      ]
     },
     "metadata": {},
     "output_type": "display_data"
    },
    {
     "name": "stdout",
     "output_type": "stream",
     "text": [
      "epoch 4 average loss: 1.0455\n",
      "----------\n",
      "epoch 5/20  LR=0.0001\n"
     ]
    },
    {
     "data": {
      "application/vnd.jupyter.widget-view+json": {
       "model_id": "bf1bf74c386c43c7ac025e739f36d2ba",
       "version_major": 2,
       "version_minor": 0
      },
      "text/plain": [
       "  0%|          | 0/37 [00:00<?, ?it/s]"
      ]
     },
     "metadata": {},
     "output_type": "display_data"
    },
    {
     "name": "stdout",
     "output_type": "stream",
     "text": [
      "epoch 5 average loss: 1.0488\n"
     ]
    },
    {
     "data": {
      "application/vnd.jupyter.widget-view+json": {
       "model_id": "8a3a61c125ab4ddf9ce041c03a407282",
       "version_major": 2,
       "version_minor": 0
      },
      "text/plain": [
       "  0%|          | 0/55 [00:00<?, ?it/s]"
      ]
     },
     "metadata": {},
     "output_type": "display_data"
    },
    {
     "name": "stdout",
     "output_type": "stream",
     "text": [
      "----------\n",
      "Validation\n",
      "Metric: 0.6961287260055542\n",
      "saved new best metric model\n",
      "current epoch: 5 current mean dice: 0.6961 best mean dice: 0.6961 at epoch 5\n",
      "----------\n",
      "epoch 6/20  LR=0.0001\n"
     ]
    },
    {
     "data": {
      "application/vnd.jupyter.widget-view+json": {
       "model_id": "395eaf52d98840b29f59a2978c67e9d6",
       "version_major": 2,
       "version_minor": 0
      },
      "text/plain": [
       "  0%|          | 0/37 [00:00<?, ?it/s]"
      ]
     },
     "metadata": {},
     "output_type": "display_data"
    },
    {
     "name": "stdout",
     "output_type": "stream",
     "text": [
      "epoch 6 average loss: 1.0457\n",
      "----------\n",
      "epoch 7/20  LR=0.0001\n"
     ]
    },
    {
     "data": {
      "application/vnd.jupyter.widget-view+json": {
       "model_id": "952959a8ad654020affa4d1be2041d7a",
       "version_major": 2,
       "version_minor": 0
      },
      "text/plain": [
       "  0%|          | 0/37 [00:00<?, ?it/s]"
      ]
     },
     "metadata": {},
     "output_type": "display_data"
    },
    {
     "name": "stdout",
     "output_type": "stream",
     "text": [
      "epoch 7 average loss: 1.0466\n",
      "----------\n",
      "epoch 8/20  LR=0.0001\n"
     ]
    },
    {
     "data": {
      "application/vnd.jupyter.widget-view+json": {
       "model_id": "ff6afa2f2a4948dfb3d7bcb0a28f3456",
       "version_major": 2,
       "version_minor": 0
      },
      "text/plain": [
       "  0%|          | 0/37 [00:00<?, ?it/s]"
      ]
     },
     "metadata": {},
     "output_type": "display_data"
    },
    {
     "name": "stdout",
     "output_type": "stream",
     "text": [
      "epoch 8 average loss: 1.0478\n",
      "----------\n",
      "epoch 9/20  LR=0.0001\n"
     ]
    },
    {
     "data": {
      "application/vnd.jupyter.widget-view+json": {
       "model_id": "2b9de9279bf343619b55a1f165b0d9ba",
       "version_major": 2,
       "version_minor": 0
      },
      "text/plain": [
       "  0%|          | 0/37 [00:00<?, ?it/s]"
      ]
     },
     "metadata": {},
     "output_type": "display_data"
    },
    {
     "name": "stdout",
     "output_type": "stream",
     "text": [
      "epoch 9 average loss: 1.0456\n",
      "----------\n",
      "epoch 10/20  LR=0.0001\n"
     ]
    },
    {
     "data": {
      "application/vnd.jupyter.widget-view+json": {
       "model_id": "9cb737aed6be4835992e881172918501",
       "version_major": 2,
       "version_minor": 0
      },
      "text/plain": [
       "  0%|          | 0/37 [00:00<?, ?it/s]"
      ]
     },
     "metadata": {},
     "output_type": "display_data"
    },
    {
     "name": "stdout",
     "output_type": "stream",
     "text": [
      "epoch 10 average loss: 1.0459\n"
     ]
    },
    {
     "data": {
      "application/vnd.jupyter.widget-view+json": {
       "model_id": "eba1cce0577640e5b239af5dd6f1f9e9",
       "version_major": 2,
       "version_minor": 0
      },
      "text/plain": [
       "  0%|          | 0/55 [00:00<?, ?it/s]"
      ]
     },
     "metadata": {},
     "output_type": "display_data"
    },
    {
     "name": "stdout",
     "output_type": "stream",
     "text": [
      "----------\n",
      "Validation\n",
      "Metric: 0.6868357062339783\n",
      "current epoch: 10 current mean dice: 0.6868 best mean dice: 0.6961 at epoch 5\n",
      "----------\n",
      "epoch 11/20  LR=0.0001\n"
     ]
    },
    {
     "data": {
      "application/vnd.jupyter.widget-view+json": {
       "model_id": "3eb67ce0676847deb2e0427c1b6e5950",
       "version_major": 2,
       "version_minor": 0
      },
      "text/plain": [
       "  0%|          | 0/37 [00:00<?, ?it/s]"
      ]
     },
     "metadata": {},
     "output_type": "display_data"
    },
    {
     "name": "stdout",
     "output_type": "stream",
     "text": [
      "epoch 11 average loss: 1.0397\n",
      "----------\n",
      "epoch 12/20  LR=0.0001\n"
     ]
    },
    {
     "data": {
      "application/vnd.jupyter.widget-view+json": {
       "model_id": "95cbc2c04c384dc2b604678a5364218c",
       "version_major": 2,
       "version_minor": 0
      },
      "text/plain": [
       "  0%|          | 0/37 [00:00<?, ?it/s]"
      ]
     },
     "metadata": {},
     "output_type": "display_data"
    },
    {
     "name": "stdout",
     "output_type": "stream",
     "text": [
      "epoch 12 average loss: 1.0488\n",
      "----------\n",
      "epoch 13/20  LR=0.0001\n"
     ]
    },
    {
     "data": {
      "application/vnd.jupyter.widget-view+json": {
       "model_id": "04919a8df8ac4ffba7642a46d31f5eb0",
       "version_major": 2,
       "version_minor": 0
      },
      "text/plain": [
       "  0%|          | 0/37 [00:00<?, ?it/s]"
      ]
     },
     "metadata": {},
     "output_type": "display_data"
    },
    {
     "name": "stdout",
     "output_type": "stream",
     "text": [
      "epoch 13 average loss: 1.0440\n",
      "----------\n",
      "epoch 14/20  LR=0.0001\n"
     ]
    },
    {
     "data": {
      "application/vnd.jupyter.widget-view+json": {
       "model_id": "ccfdd60fc83c41098b317e0b88b3c5d1",
       "version_major": 2,
       "version_minor": 0
      },
      "text/plain": [
       "  0%|          | 0/37 [00:00<?, ?it/s]"
      ]
     },
     "metadata": {},
     "output_type": "display_data"
    },
    {
     "name": "stdout",
     "output_type": "stream",
     "text": [
      "epoch 14 average loss: 1.0442\n",
      "----------\n",
      "epoch 15/20  LR=0.0001\n"
     ]
    },
    {
     "data": {
      "application/vnd.jupyter.widget-view+json": {
       "model_id": "ba64418a43f04eb7a7f2ab0f09713ae1",
       "version_major": 2,
       "version_minor": 0
      },
      "text/plain": [
       "  0%|          | 0/37 [00:00<?, ?it/s]"
      ]
     },
     "metadata": {},
     "output_type": "display_data"
    },
    {
     "name": "stdout",
     "output_type": "stream",
     "text": [
      "epoch 15 average loss: 1.0412\n"
     ]
    },
    {
     "data": {
      "application/vnd.jupyter.widget-view+json": {
       "model_id": "474ee74b4ee24a87ba4d44010a15095d",
       "version_major": 2,
       "version_minor": 0
      },
      "text/plain": [
       "  0%|          | 0/55 [00:00<?, ?it/s]"
      ]
     },
     "metadata": {},
     "output_type": "display_data"
    },
    {
     "name": "stdout",
     "output_type": "stream",
     "text": [
      "----------\n",
      "Validation\n",
      "Metric: 0.7388632893562317\n",
      "saved new best metric model\n",
      "current epoch: 15 current mean dice: 0.7389 best mean dice: 0.7389 at epoch 15\n",
      "----------\n",
      "epoch 16/20  LR=0.0001\n"
     ]
    },
    {
     "data": {
      "application/vnd.jupyter.widget-view+json": {
       "model_id": "47c5f354962f4a59bd9985ce10dd9961",
       "version_major": 2,
       "version_minor": 0
      },
      "text/plain": [
       "  0%|          | 0/37 [00:00<?, ?it/s]"
      ]
     },
     "metadata": {},
     "output_type": "display_data"
    },
    {
     "name": "stdout",
     "output_type": "stream",
     "text": [
      "epoch 16 average loss: 1.0437\n",
      "----------\n",
      "epoch 17/20  LR=0.0001\n"
     ]
    },
    {
     "data": {
      "application/vnd.jupyter.widget-view+json": {
       "model_id": "699b7899857b45528b623bad2956973c",
       "version_major": 2,
       "version_minor": 0
      },
      "text/plain": [
       "  0%|          | 0/37 [00:00<?, ?it/s]"
      ]
     },
     "metadata": {},
     "output_type": "display_data"
    },
    {
     "name": "stdout",
     "output_type": "stream",
     "text": [
      "epoch 17 average loss: 1.0438\n",
      "----------\n",
      "epoch 18/20  LR=0.0001\n"
     ]
    },
    {
     "data": {
      "application/vnd.jupyter.widget-view+json": {
       "model_id": "5696c4b8ca6142d79f15331a19afbacf",
       "version_major": 2,
       "version_minor": 0
      },
      "text/plain": [
       "  0%|          | 0/37 [00:00<?, ?it/s]"
      ]
     },
     "metadata": {},
     "output_type": "display_data"
    },
    {
     "name": "stdout",
     "output_type": "stream",
     "text": [
      "epoch 18 average loss: 1.0457\n",
      "----------\n",
      "epoch 19/20  LR=0.0001\n"
     ]
    },
    {
     "data": {
      "application/vnd.jupyter.widget-view+json": {
       "model_id": "229610e9325b43738d5aee854bf69272",
       "version_major": 2,
       "version_minor": 0
      },
      "text/plain": [
       "  0%|          | 0/37 [00:00<?, ?it/s]"
      ]
     },
     "metadata": {},
     "output_type": "display_data"
    },
    {
     "name": "stdout",
     "output_type": "stream",
     "text": [
      "epoch 19 average loss: 1.0447\n",
      "----------\n",
      "epoch 20/20  LR=0.0001\n"
     ]
    },
    {
     "data": {
      "application/vnd.jupyter.widget-view+json": {
       "model_id": "213d406901234168bdbfe4a498dee655",
       "version_major": 2,
       "version_minor": 0
      },
      "text/plain": [
       "  0%|          | 0/37 [00:00<?, ?it/s]"
      ]
     },
     "metadata": {},
     "output_type": "display_data"
    },
    {
     "name": "stdout",
     "output_type": "stream",
     "text": [
      "epoch 20 average loss: 1.0465\n"
     ]
    },
    {
     "data": {
      "application/vnd.jupyter.widget-view+json": {
       "model_id": "1361c570048f4e4fbb14c543321b33d3",
       "version_major": 2,
       "version_minor": 0
      },
      "text/plain": [
       "  0%|          | 0/55 [00:00<?, ?it/s]"
      ]
     },
     "metadata": {},
     "output_type": "display_data"
    },
    {
     "name": "stdout",
     "output_type": "stream",
     "text": [
      "----------\n",
      "Validation\n",
      "Metric: 0.7174620032310486\n",
      "current epoch: 20 current mean dice: 0.7175 best mean dice: 0.7389 at epoch 15\n"
     ]
    },
    {
     "data": {
      "image/png": "[encoded data removed]",
      "text/plain": [
       "<Figure size 432x288 with 2 Axes>"
      ]
     },
     "metadata": {
      "needs_background": "light"
     },
     "output_type": "display_data"
    },
    {
     "data": {
      "image/png": "[encoded data removed]",
      "text/plain": [
       "<Figure size 432x288 with 2 Axes>"
      ]
     },
     "metadata": {
      "needs_background": "light"
     },
     "output_type": "display_data"
    },
    {
     "data": {
      "image/png": "[encoded data removed]",
      "text/plain": [
       "<Figure size 432x288 with 2 Axes>"
      ]
     },
     "metadata": {
      "needs_background": "light"
     },
     "output_type": "display_data"
    },
    {
     "data": {
      "image/png": "[encoded data removed]",
      "text/plain": [
       "<Figure size 432x288 with 2 Axes>"
      ]
     },
     "metadata": {
      "needs_background": "light"
     },
     "output_type": "display_data"
    },
    {
     "data": {
      "image/png": "[encoded data removed]",
      "text/plain": [
       "<Figure size 432x288 with 2 Axes>"
      ]
     },
     "metadata": {
      "needs_background": "light"
     },
     "output_type": "display_data"
    }
   ],
   "source": [
    "post_trans = Compose([EnsureType(), Activations(softmax=True), AsDiscrete(threshold=0.5)])\n",
    "\n",
    "scaler = torch.cuda.amp.GradScaler() if amp else None\n",
    "best_metric_epoch = -1\n",
    "#writer = SummaryWriter()\n",
    "\n",
    "for fold in range(start_fold, start_fold + num_folds):\n",
    "\n",
    "    \n",
    "    model = UNet(\n",
    "    spatial_dims=3,\n",
    "    in_channels=1,\n",
    "    # With softmax \n",
    "    out_channels=4,\n",
    "    channels=(16, 32, 64, 128,256),\n",
    "    strides=(2, 2, 2, 2),\n",
    "    dropout=0.2,\n",
    "    num_res_units=2,\n",
    "    norm=\"batch\",\n",
    "    \n",
    "\n",
    "    )\n",
    "    model.to(device)\n",
    "    if load_weights:\n",
    "            model.load_state_dict(torch.load(MODEL_FOLDER / f\"{fold}_dict_{training_phase-1}.pth\"))\n",
    "    \n",
    "    optimizer = torch.optim.Adam(model.parameters(), max_learning_rate,weight_decay = 1e-6)\n",
    "    \n",
    "    \n",
    "    \n",
    "    epoch_loss_values = list()\n",
    "    metric_values = list()\n",
    "\n",
    "    best_metric = -1\n",
    "    print(\"-\" * 10)\n",
    "    print(f\"fold {fold + 1}/{num_folds}\")\n",
    "    train_loader, val_loader = get_data_loader(df2d, fold,tr_transforms, batch_size)\n",
    "    \n",
    "    #lr_scheduler = LR(optimizer, max_lr=max_learning_rate, steps_per_epoch=len(train_loader), epochs=num_epochs)\n",
    "    #lr_scheduler = LR(optimizer, T_max=10, eta_min=min_learning_rate)\n",
    "    for epoch in range(num_epochs):\n",
    "        print(\"-\" * 10)\n",
    "        lr_val = optimizer.param_groups[0][\"lr\"]\n",
    "        print(f\"epoch {epoch + 1}/{num_epochs}  LR={lr_val}\")\n",
    "        model.train()\n",
    "        epoch_loss = 0\n",
    "        pbar = tqdm(total=len(train_loader))\n",
    "        for i, batch_data in enumerate(train_loader):\n",
    "            inputs, labels = batch_data[\"img\"].to(device), batch_data[\"mask\"].to(device)\n",
    "            # dim[0] == batch\n",
    "            # dim[1] == channel 1\n",
    "            # dim[2] == spatial dim 1\n",
    "            # dim[3] == spatial dim 2\n",
    "            #Apply softmax to labels because they overlap in some cases\n",
    "            labels = torch.nn.Softmax(dim=1)(labels)\n",
    "            \n",
    "            optimizer.zero_grad()\n",
    "            if amp and scaler is not None:\n",
    "                with torch.cuda.amp.autocast():\n",
    "                    outputs = model(inputs)\n",
    "                    loss = loss_function(outputs, labels)\n",
    "                scaler.scale(loss).backward()\n",
    "                torch.nn.utils.clip_grad_norm_(model.parameters(), 12) # clip gradients with amp\n",
    "                scaler.step(optimizer)\n",
    "                scaler.update()\n",
    "            else:\n",
    "                outputs = model(inputs)\n",
    "                loss = loss_function(outputs, labels)\n",
    "                loss.backward()\n",
    "                optimizer.step()\n",
    "            \n",
    "            #lr_scheduler.step()\n",
    "            \n",
    "            loss_item = loss.item()\n",
    "            epoch_loss += loss_item\n",
    "            epoch_len = len(train_loader) // train_loader.batch_size\n",
    "            pbar.update(1)\n",
    "        pbar.close()\n",
    "        #plot_output_data3d(inputs[0], labels[0], post_trans(outputs[0]))\n",
    "        epoch_loss /= i\n",
    "        epoch_loss_values.append(epoch_loss)\n",
    "        #torch.save(optimizer.state_dict(), MODEL_FOLDER / f\"{fold}_optimizer_{training_phase}.pth\")\n",
    "        #print(labels.shape, outputs.shape)\n",
    "        \n",
    "        print(f\"epoch {epoch + 1} average loss: {epoch_loss:.4f}\")\n",
    "\n",
    "        if (epoch + 1) % val_interval == 0:\n",
    "            model.eval()\n",
    "            with torch.no_grad():\n",
    "                val_images = None\n",
    "                val_labels = None\n",
    "                val_outputs = None\n",
    "                pbar = tqdm(total=len(val_loader))\n",
    "                print(\"-\" * 10)\n",
    "                print(f\"Validation\")\n",
    "                metric_function.reset()\n",
    "                for i, val_data in enumerate(val_loader):\n",
    "                    #if i > 0:\n",
    "                    #    break\n",
    "                    val_images, val_labels = val_data[\"img\"].to(device), val_data[\"mask\"].to(device)\n",
    "                    \n",
    "                    sw_batch_size = 4\n",
    "                    if amp:\n",
    "                        with torch.cuda.amp.autocast():\n",
    "                            val_outputs = sliding_window_inference(val_images, roi_size, sw_batch_size, model)\n",
    "                    else:\n",
    "                        \n",
    "                        val_outputs = sliding_window_inference(val_images, roi_size, sw_batch_size, model)\n",
    "                    \n",
    "                    val_outputs = [post_trans(i) for i in decollate_batch(val_outputs)]\n",
    "                    # compute metric for current iteration\n",
    "                    metric_function(y_pred=val_outputs, y=val_labels)\n",
    "                    pbar.update(1)\n",
    "                pbar.close()\n",
    "                \n",
    "                # aggregate the final mean dice result\n",
    "                metric = metric_function.aggregate().item()\n",
    "                print(\"Metric: \"+str(metric))\n",
    "                # reset the status for next validation round\n",
    "                metric_function.reset()\n",
    "\n",
    "                metric_values.append(metric)\n",
    "                if metric > best_metric:\n",
    "                    best_metric = metric\n",
    "                    best_metric_epoch = epoch + 1\n",
    "                    #plot_output_data3d(val_images[0], val_labels[0], val_outputs[0])\n",
    "                    torch.save(model.state_dict(), MODEL_FOLDER / f\"{fold}_best_dict_{training_phase}.pth\")\n",
    "                    print(\"saved new best metric model\")\n",
    "                print(\n",
    "                    \"current epoch: {} current mean dice: {:.4f} best mean dice: {:.4f} at epoch {}\".format(\n",
    "                        epoch + 1, metric, best_metric, best_metric_epoch\n",
    "                    )\n",
    "                )\n",
    "                #writer.add_scalar(\"val_mean_dice\", metric, epoch + 1)\n",
    "    plot_metrics(epoch_loss_values, metric_values)\n",
    "    torch.save(model.state_dict(), MODEL_FOLDER / f\"{fold}_dict_{training_phase}.pth\")"
   ]
  },
  {
   "cell_type": "code",
   "execution_count": null,
   "metadata": {},
   "outputs": [],
   "source": []
  },
  {
   "cell_type": "markdown",
   "metadata": {},
   "source": [
    "## Inference"
   ]
  },
  {
   "cell_type": "code",
   "execution_count": null,
   "metadata": {},
   "outputs": [],
   "source": [
    "def validation(val_loader,metric_function,model,amp,device):\n",
    "    \n",
    "    \n",
    "    \n",
    "    post_trans = Compose([EnsureType(), Activations(softmax=True), AsDiscrete(threshold=0.2)])\n",
    "\n",
    "    scaler = torch.cuda.amp.GradScaler() if amp else None\n",
    "    \n",
    "\n",
    "\n",
    "\n",
    "    model.eval()\n",
    "    with torch.no_grad():\n",
    "        val_images = None\n",
    "        val_labels = None\n",
    "        val_outputs = None\n",
    "        pbar = tqdm(total=len(val_loader))\n",
    "        metric_function.reset()\n",
    "        for i, val_data in enumerate(val_loader):\n",
    "            #if i > 0:\n",
    "            #    break\n",
    "            val_images, val_labels = val_data[\"img\"].to(device), val_data[\"mask\"].to(device)\n",
    "\n",
    "            sw_batch_size = 4\n",
    "            if amp:\n",
    "                with torch.cuda.amp.autocast():\n",
    "                    val_outputs = sliding_window_inference(val_images, roi_size, sw_batch_size, model)\n",
    "            else:\n",
    "\n",
    "                val_outputs = sliding_window_inference(val_images, roi_size, sw_batch_size, model)\n",
    "\n",
    "            val_outputs = [post_trans(i) for i in decollate_batch(val_outputs)]\n",
    "            # compute metric for current iteration\n",
    "            metric_function(y_pred=val_outputs[0], y=val_labels)\n",
    "            pbar.update(1)\n",
    "        pbar.close()\n",
    "\n",
    "        # aggregate the final mean dice result\n",
    "        metric = metric_function.aggregate().item()\n",
    "        print(\"Metric: \"+str(metric))\n",
    "        # reset the status for next validation round\n",
    "        metric_function.reset()\n",
    "\n",
    "\n",
    "        \n",
    "\n"
   ]
  },
  {
   "cell_type": "code",
   "execution_count": null,
   "metadata": {},
   "outputs": [],
   "source": [
    "post_trans = Compose([EnsureType(), Activations(softmax=True), AsDiscrete(threshold=0.5)])"
   ]
  },
  {
   "cell_type": "code",
   "execution_count": null,
   "metadata": {},
   "outputs": [],
   "source": [
    "data = iter(val_loader)"
   ]
  },
  {
   "cell_type": "code",
   "execution_count": null,
   "metadata": {},
   "outputs": [],
   "source": [
    "check_data = next(data)"
   ]
  },
  {
   "cell_type": "code",
   "execution_count": null,
   "metadata": {},
   "outputs": [],
   "source": [
    "val_images, val_labels = check_data[\"img\"].to(device), check_data[\"mask\"].to(device)"
   ]
  },
  {
   "cell_type": "code",
   "execution_count": null,
   "metadata": {},
   "outputs": [],
   "source": [
    "with torch.cuda.amp.autocast():\n",
    "    val_outputs = sliding_window_inference(val_images, roi_size, 4, model)"
   ]
  },
  {
   "cell_type": "code",
   "execution_count": null,
   "metadata": {},
   "outputs": [],
   "source": [
    "val_outputs.shape"
   ]
  },
  {
   "cell_type": "code",
   "execution_count": null,
   "metadata": {},
   "outputs": [],
   "source": [
    "val_outputs2 = [post_trans(i) for i in decollate_batch(val_outputs)][0]"
   ]
  },
  {
   "cell_type": "code",
   "execution_count": null,
   "metadata": {},
   "outputs": [],
   "source": [
    "val_outputs2[0].shape"
   ]
  },
  {
   "cell_type": "code",
   "execution_count": null,
   "metadata": {},
   "outputs": [],
   "source": [
    "val_outputs2[0,3].min()"
   ]
  },
  {
   "cell_type": "code",
   "execution_count": null,
   "metadata": {},
   "outputs": [],
   "source": [
    "val_outputs2 = torch.softmax(val_outputs,dim=1)"
   ]
  },
  {
   "cell_type": "code",
   "execution_count": null,
   "metadata": {},
   "outputs": [],
   "source": [
    "plot_data3d(check_data['img'], val_outputs2.detach(),0,120)"
   ]
  },
  {
   "cell_type": "code",
   "execution_count": null,
   "metadata": {
    "execution": {
     "iopub.status.busy": "2022-07-08T14:26:33.882084Z",
     "iopub.status.idle": "2022-07-08T14:26:33.882473Z",
     "shell.execute_reply": "2022-07-08T14:26:33.882315Z",
     "shell.execute_reply.started": "2022-07-08T14:26:33.882296Z"
    }
   },
   "outputs": [],
   "source": [
    "\n",
    "plot_data3d(check_data['img'], check_data['mask'],0,80)"
   ]
  },
  {
   "cell_type": "code",
   "execution_count": null,
   "metadata": {},
   "outputs": [],
   "source": [
    "def plot_data3d(image, mask,b,start_frame):\n",
    "    \n",
    "    img = rearrange(image, 'n c h w d -> n h w d c').cpu().numpy()\n",
    "    mask = rearrange(mask, 'n c h w d -> n h w d c').cpu().numpy()\n",
    "    # Plot first 4 images\n",
    "    fig, ax = plt.subplots(4, 4, figsize=(20,20))\n",
    "    \n",
    "    #print(image.shape, img.shape)\n",
    "    ax = ax.ravel()\n",
    "    ims = []\n",
    "    masks = []\n",
    "\n",
    "    # Start by adding the image to each axis\n",
    "    for i in range(len(ax)):\n",
    "        im_min = img[b].min()\n",
    "        im_max = img[b].max()\n",
    "        # Plot the i'th image at the starting frame\n",
    "        im_plot = ax[i].imshow(\n",
    "            img[b,:,:,start_frame+i,:],\n",
    "            cmap='bone',\n",
    "            vmin=im_min,\n",
    "            vmax=im_max\n",
    "        )\n",
    "        #print(mask.max())\n",
    "        mask_plot = ax[i].imshow(mask[b,:,:,start_frame+i,0:3], alpha=0.3)\n",
    "        #ims.append(im_plot)\n",
    "        #masks.append(mask_plot)\n",
    "        ax[i].axis('off')\n",
    "    print(im_min, im_max)\n",
    "    print(img.shape)"
   ]
  },
  {
   "cell_type": "code",
   "execution_count": null,
   "metadata": {},
   "outputs": [],
   "source": []
  }
 ],
 "metadata": {
  "kernelspec": {
   "display_name": "Python [conda env:gi-tract]",
   "language": "python",
   "name": "conda-env-gi-tract-py"
  },
  "language_info": {
   "codemirror_mode": {
    "name": "ipython",
    "version": 3
   },
   "file_extension": ".py",
   "mimetype": "text/x-python",
   "name": "python",
   "nbconvert_exporter": "python",
   "pygments_lexer": "ipython3",
   "version": "3.10.4"
  }
 },
 "nbformat": 4,
 "nbformat_minor": 4
}
